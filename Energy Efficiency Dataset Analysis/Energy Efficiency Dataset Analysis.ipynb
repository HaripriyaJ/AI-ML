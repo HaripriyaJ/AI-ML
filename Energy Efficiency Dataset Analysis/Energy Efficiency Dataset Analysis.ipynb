{
 "cells": [
  {
   "cell_type": "markdown",
   "metadata": {},
   "source": [
    "## Energy Efficiency\n",
    "\n",
    "Following image represents the energy consumption in US buildings:\n",
    "\n",
    "<img src='Pictures/Statistics.gif'/>\n",
    "\n",
    "(Couresty: http://homepages.cae.wisc.edu/~ece539/fall13/project/Wysocki.pptx)\n",
    "\n",
    "Heating, ventilation, and air conditioning(HVAC) contributes to higher % of energy consumption. In this study, we are focusing on accurately predicting the energy consumption (heating and colling load) of equipments to choose building shapes efficiently.\n",
    "\n",
    "> i.e., this notebook demonstrates the how to effectively design the energy requirements for residential buildings."
   ]
  },
  {
   "cell_type": "code",
   "execution_count": 1,
   "metadata": {},
   "outputs": [],
   "source": [
    "import pandas as pd\n",
    "import numpy as np\n",
    "import matplotlib.pyplot as plt\n",
    "import seaborn as sns\n",
    "from sklearn.feature_selection import RFE"
   ]
  },
  {
   "cell_type": "code",
   "execution_count": 2,
   "metadata": {},
   "outputs": [],
   "source": [
    "from sklearn.ensemble import ExtraTreesRegressor\n",
    "from sklearn.model_selection import train_test_split\n",
    "import warnings\n",
    "warnings.filterwarnings('ignore')"
   ]
  },
  {
   "cell_type": "code",
   "execution_count": 3,
   "metadata": {},
   "outputs": [],
   "source": [
    "import xgboost\n",
    "from sklearn.metrics import accuracy_score\n",
    "from sklearn import model_selection"
   ]
  },
  {
   "cell_type": "markdown",
   "metadata": {},
   "source": [
    "### Data Set Information\n",
    "\n",
    "(Courtesy: https://archive.ics.uci.edu/ml/datasets/Energy+efficiency)\n",
    "\n",
    "We perform energy analysis using 12 different building shapes simulated in Ecotect. The buildings differ with respect to the glazing area, the glazing area distribution, and the orientation, amongst other parameters. We simulate various settings as functions of the afore-mentioned characteristics to obtain 768 building shapes. The dataset comprises 768 samples and 8 features, aiming to predict two real valued responses. "
   ]
  },
  {
   "cell_type": "markdown",
   "metadata": {},
   "source": [
    "### Load Dataset"
   ]
  },
  {
   "cell_type": "code",
   "execution_count": 4,
   "metadata": {},
   "outputs": [
    {
     "data": {
      "text/html": [
       "<div>\n",
       "<style scoped>\n",
       "    .dataframe tbody tr th:only-of-type {\n",
       "        vertical-align: middle;\n",
       "    }\n",
       "\n",
       "    .dataframe tbody tr th {\n",
       "        vertical-align: top;\n",
       "    }\n",
       "\n",
       "    .dataframe thead th {\n",
       "        text-align: right;\n",
       "    }\n",
       "</style>\n",
       "<table border=\"1\" class=\"dataframe\">\n",
       "  <thead>\n",
       "    <tr style=\"text-align: right;\">\n",
       "      <th></th>\n",
       "      <th>X1</th>\n",
       "      <th>X2</th>\n",
       "      <th>X3</th>\n",
       "      <th>X4</th>\n",
       "      <th>X5</th>\n",
       "      <th>X6</th>\n",
       "      <th>X7</th>\n",
       "      <th>X8</th>\n",
       "      <th>Y1</th>\n",
       "      <th>Y2</th>\n",
       "    </tr>\n",
       "  </thead>\n",
       "  <tbody>\n",
       "    <tr>\n",
       "      <th>0</th>\n",
       "      <td>0.98</td>\n",
       "      <td>514.5</td>\n",
       "      <td>294.0</td>\n",
       "      <td>110.25</td>\n",
       "      <td>7.0</td>\n",
       "      <td>2</td>\n",
       "      <td>0.0</td>\n",
       "      <td>0</td>\n",
       "      <td>15.55</td>\n",
       "      <td>21.33</td>\n",
       "    </tr>\n",
       "    <tr>\n",
       "      <th>1</th>\n",
       "      <td>0.98</td>\n",
       "      <td>514.5</td>\n",
       "      <td>294.0</td>\n",
       "      <td>110.25</td>\n",
       "      <td>7.0</td>\n",
       "      <td>3</td>\n",
       "      <td>0.0</td>\n",
       "      <td>0</td>\n",
       "      <td>15.55</td>\n",
       "      <td>21.33</td>\n",
       "    </tr>\n",
       "    <tr>\n",
       "      <th>2</th>\n",
       "      <td>0.98</td>\n",
       "      <td>514.5</td>\n",
       "      <td>294.0</td>\n",
       "      <td>110.25</td>\n",
       "      <td>7.0</td>\n",
       "      <td>4</td>\n",
       "      <td>0.0</td>\n",
       "      <td>0</td>\n",
       "      <td>15.55</td>\n",
       "      <td>21.33</td>\n",
       "    </tr>\n",
       "    <tr>\n",
       "      <th>3</th>\n",
       "      <td>0.98</td>\n",
       "      <td>514.5</td>\n",
       "      <td>294.0</td>\n",
       "      <td>110.25</td>\n",
       "      <td>7.0</td>\n",
       "      <td>5</td>\n",
       "      <td>0.0</td>\n",
       "      <td>0</td>\n",
       "      <td>15.55</td>\n",
       "      <td>21.33</td>\n",
       "    </tr>\n",
       "    <tr>\n",
       "      <th>4</th>\n",
       "      <td>0.90</td>\n",
       "      <td>563.5</td>\n",
       "      <td>318.5</td>\n",
       "      <td>122.50</td>\n",
       "      <td>7.0</td>\n",
       "      <td>2</td>\n",
       "      <td>0.0</td>\n",
       "      <td>0</td>\n",
       "      <td>20.84</td>\n",
       "      <td>28.28</td>\n",
       "    </tr>\n",
       "    <tr>\n",
       "      <th>...</th>\n",
       "      <td>...</td>\n",
       "      <td>...</td>\n",
       "      <td>...</td>\n",
       "      <td>...</td>\n",
       "      <td>...</td>\n",
       "      <td>...</td>\n",
       "      <td>...</td>\n",
       "      <td>...</td>\n",
       "      <td>...</td>\n",
       "      <td>...</td>\n",
       "    </tr>\n",
       "    <tr>\n",
       "      <th>763</th>\n",
       "      <td>0.64</td>\n",
       "      <td>784.0</td>\n",
       "      <td>343.0</td>\n",
       "      <td>220.50</td>\n",
       "      <td>3.5</td>\n",
       "      <td>5</td>\n",
       "      <td>0.4</td>\n",
       "      <td>5</td>\n",
       "      <td>17.88</td>\n",
       "      <td>21.40</td>\n",
       "    </tr>\n",
       "    <tr>\n",
       "      <th>764</th>\n",
       "      <td>0.62</td>\n",
       "      <td>808.5</td>\n",
       "      <td>367.5</td>\n",
       "      <td>220.50</td>\n",
       "      <td>3.5</td>\n",
       "      <td>2</td>\n",
       "      <td>0.4</td>\n",
       "      <td>5</td>\n",
       "      <td>16.54</td>\n",
       "      <td>16.88</td>\n",
       "    </tr>\n",
       "    <tr>\n",
       "      <th>765</th>\n",
       "      <td>0.62</td>\n",
       "      <td>808.5</td>\n",
       "      <td>367.5</td>\n",
       "      <td>220.50</td>\n",
       "      <td>3.5</td>\n",
       "      <td>3</td>\n",
       "      <td>0.4</td>\n",
       "      <td>5</td>\n",
       "      <td>16.44</td>\n",
       "      <td>17.11</td>\n",
       "    </tr>\n",
       "    <tr>\n",
       "      <th>766</th>\n",
       "      <td>0.62</td>\n",
       "      <td>808.5</td>\n",
       "      <td>367.5</td>\n",
       "      <td>220.50</td>\n",
       "      <td>3.5</td>\n",
       "      <td>4</td>\n",
       "      <td>0.4</td>\n",
       "      <td>5</td>\n",
       "      <td>16.48</td>\n",
       "      <td>16.61</td>\n",
       "    </tr>\n",
       "    <tr>\n",
       "      <th>767</th>\n",
       "      <td>0.62</td>\n",
       "      <td>808.5</td>\n",
       "      <td>367.5</td>\n",
       "      <td>220.50</td>\n",
       "      <td>3.5</td>\n",
       "      <td>5</td>\n",
       "      <td>0.4</td>\n",
       "      <td>5</td>\n",
       "      <td>16.64</td>\n",
       "      <td>16.03</td>\n",
       "    </tr>\n",
       "  </tbody>\n",
       "</table>\n",
       "<p>768 rows × 10 columns</p>\n",
       "</div>"
      ],
      "text/plain": [
       "       X1     X2     X3      X4   X5  X6   X7  X8     Y1     Y2\n",
       "0    0.98  514.5  294.0  110.25  7.0   2  0.0   0  15.55  21.33\n",
       "1    0.98  514.5  294.0  110.25  7.0   3  0.0   0  15.55  21.33\n",
       "2    0.98  514.5  294.0  110.25  7.0   4  0.0   0  15.55  21.33\n",
       "3    0.98  514.5  294.0  110.25  7.0   5  0.0   0  15.55  21.33\n",
       "4    0.90  563.5  318.5  122.50  7.0   2  0.0   0  20.84  28.28\n",
       "..    ...    ...    ...     ...  ...  ..  ...  ..    ...    ...\n",
       "763  0.64  784.0  343.0  220.50  3.5   5  0.4   5  17.88  21.40\n",
       "764  0.62  808.5  367.5  220.50  3.5   2  0.4   5  16.54  16.88\n",
       "765  0.62  808.5  367.5  220.50  3.5   3  0.4   5  16.44  17.11\n",
       "766  0.62  808.5  367.5  220.50  3.5   4  0.4   5  16.48  16.61\n",
       "767  0.62  808.5  367.5  220.50  3.5   5  0.4   5  16.64  16.03\n",
       "\n",
       "[768 rows x 10 columns]"
      ]
     },
     "execution_count": 4,
     "metadata": {},
     "output_type": "execute_result"
    }
   ],
   "source": [
    "energy = pd.read_excel('Dataset/data14.xlsx')\n",
    "energy"
   ]
  },
  {
   "cell_type": "markdown",
   "metadata": {},
   "source": [
    "### Attribute Information:\n",
    "\n",
    "The dataset contains eight attributes (or features, denoted by X1...X8) and two responses (or outcomes, denoted by y1 and y2). The aim is to use the eight features to predict each of the two responses.\n",
    "\n",
    "Specifically:<br/>\n",
    "X1 Relative Compactness <br/>\n",
    "X2 Surface Area<br/>\n",
    "X3 Wall Area<br/>\n",
    "X4 Roof Area<br/>\n",
    "X5 Overall Height<br/>\n",
    "X6 Orientation<br/>\n",
    "X7 Glazing Area<br/>\n",
    "X8 Glazing Area Distribution<br/>\n",
    "Y1 Heating Load<br/>\n",
    "Y2 Cooling Load<br/>\n",
    "\n",
    "(Courtesy: https://archive.ics.uci.edu/ml/datasets/Energy+efficiency)"
   ]
  },
  {
   "cell_type": "markdown",
   "metadata": {},
   "source": [
    "### Data cleaning and Data Analysis"
   ]
  },
  {
   "cell_type": "markdown",
   "metadata": {},
   "source": [
    "Dimensions "
   ]
  },
  {
   "cell_type": "code",
   "execution_count": 5,
   "metadata": {},
   "outputs": [
    {
     "data": {
      "text/plain": [
       "(768, 10)"
      ]
     },
     "execution_count": 5,
     "metadata": {},
     "output_type": "execute_result"
    }
   ],
   "source": [
    "energy.shape"
   ]
  },
  {
   "cell_type": "markdown",
   "metadata": {},
   "source": [
    "Check for missing Values"
   ]
  },
  {
   "cell_type": "code",
   "execution_count": 6,
   "metadata": {},
   "outputs": [
    {
     "data": {
      "text/plain": [
       "X1    0\n",
       "X2    0\n",
       "X3    0\n",
       "X4    0\n",
       "X5    0\n",
       "X6    0\n",
       "X7    0\n",
       "X8    0\n",
       "Y1    0\n",
       "Y2    0\n",
       "dtype: int64"
      ]
     },
     "execution_count": 6,
     "metadata": {},
     "output_type": "execute_result"
    }
   ],
   "source": [
    "energy.isna().sum()"
   ]
  },
  {
   "cell_type": "markdown",
   "metadata": {},
   "source": [
    "<b>There are No missing values.</b>\n",
    "\n",
    "Renaming the column names of the Dataset"
   ]
  },
  {
   "cell_type": "code",
   "execution_count": 7,
   "metadata": {},
   "outputs": [],
   "source": [
    "energy.columns= [\n",
    "    'rel_compactness', 'surface_area', 'wall_area', 'roof_area', 'overall_height','orientation', \n",
    "    'glazing_area', 'glazing_area_dist', 'heating_load', 'cooling_load'\n",
    "]"
   ]
  },
  {
   "cell_type": "code",
   "execution_count": 8,
   "metadata": {},
   "outputs": [
    {
     "data": {
      "text/html": [
       "<div>\n",
       "<style scoped>\n",
       "    .dataframe tbody tr th:only-of-type {\n",
       "        vertical-align: middle;\n",
       "    }\n",
       "\n",
       "    .dataframe tbody tr th {\n",
       "        vertical-align: top;\n",
       "    }\n",
       "\n",
       "    .dataframe thead th {\n",
       "        text-align: right;\n",
       "    }\n",
       "</style>\n",
       "<table border=\"1\" class=\"dataframe\">\n",
       "  <thead>\n",
       "    <tr style=\"text-align: right;\">\n",
       "      <th></th>\n",
       "      <th>rel_compactness</th>\n",
       "      <th>surface_area</th>\n",
       "      <th>wall_area</th>\n",
       "      <th>roof_area</th>\n",
       "      <th>overall_height</th>\n",
       "      <th>orientation</th>\n",
       "      <th>glazing_area</th>\n",
       "      <th>glazing_area_dist</th>\n",
       "      <th>heating_load</th>\n",
       "      <th>cooling_load</th>\n",
       "    </tr>\n",
       "  </thead>\n",
       "  <tbody>\n",
       "    <tr>\n",
       "      <th>0</th>\n",
       "      <td>0.98</td>\n",
       "      <td>514.5</td>\n",
       "      <td>294.0</td>\n",
       "      <td>110.25</td>\n",
       "      <td>7.0</td>\n",
       "      <td>2</td>\n",
       "      <td>0.0</td>\n",
       "      <td>0</td>\n",
       "      <td>15.55</td>\n",
       "      <td>21.33</td>\n",
       "    </tr>\n",
       "    <tr>\n",
       "      <th>1</th>\n",
       "      <td>0.98</td>\n",
       "      <td>514.5</td>\n",
       "      <td>294.0</td>\n",
       "      <td>110.25</td>\n",
       "      <td>7.0</td>\n",
       "      <td>3</td>\n",
       "      <td>0.0</td>\n",
       "      <td>0</td>\n",
       "      <td>15.55</td>\n",
       "      <td>21.33</td>\n",
       "    </tr>\n",
       "    <tr>\n",
       "      <th>2</th>\n",
       "      <td>0.98</td>\n",
       "      <td>514.5</td>\n",
       "      <td>294.0</td>\n",
       "      <td>110.25</td>\n",
       "      <td>7.0</td>\n",
       "      <td>4</td>\n",
       "      <td>0.0</td>\n",
       "      <td>0</td>\n",
       "      <td>15.55</td>\n",
       "      <td>21.33</td>\n",
       "    </tr>\n",
       "    <tr>\n",
       "      <th>3</th>\n",
       "      <td>0.98</td>\n",
       "      <td>514.5</td>\n",
       "      <td>294.0</td>\n",
       "      <td>110.25</td>\n",
       "      <td>7.0</td>\n",
       "      <td>5</td>\n",
       "      <td>0.0</td>\n",
       "      <td>0</td>\n",
       "      <td>15.55</td>\n",
       "      <td>21.33</td>\n",
       "    </tr>\n",
       "    <tr>\n",
       "      <th>4</th>\n",
       "      <td>0.90</td>\n",
       "      <td>563.5</td>\n",
       "      <td>318.5</td>\n",
       "      <td>122.50</td>\n",
       "      <td>7.0</td>\n",
       "      <td>2</td>\n",
       "      <td>0.0</td>\n",
       "      <td>0</td>\n",
       "      <td>20.84</td>\n",
       "      <td>28.28</td>\n",
       "    </tr>\n",
       "    <tr>\n",
       "      <th>...</th>\n",
       "      <td>...</td>\n",
       "      <td>...</td>\n",
       "      <td>...</td>\n",
       "      <td>...</td>\n",
       "      <td>...</td>\n",
       "      <td>...</td>\n",
       "      <td>...</td>\n",
       "      <td>...</td>\n",
       "      <td>...</td>\n",
       "      <td>...</td>\n",
       "    </tr>\n",
       "    <tr>\n",
       "      <th>763</th>\n",
       "      <td>0.64</td>\n",
       "      <td>784.0</td>\n",
       "      <td>343.0</td>\n",
       "      <td>220.50</td>\n",
       "      <td>3.5</td>\n",
       "      <td>5</td>\n",
       "      <td>0.4</td>\n",
       "      <td>5</td>\n",
       "      <td>17.88</td>\n",
       "      <td>21.40</td>\n",
       "    </tr>\n",
       "    <tr>\n",
       "      <th>764</th>\n",
       "      <td>0.62</td>\n",
       "      <td>808.5</td>\n",
       "      <td>367.5</td>\n",
       "      <td>220.50</td>\n",
       "      <td>3.5</td>\n",
       "      <td>2</td>\n",
       "      <td>0.4</td>\n",
       "      <td>5</td>\n",
       "      <td>16.54</td>\n",
       "      <td>16.88</td>\n",
       "    </tr>\n",
       "    <tr>\n",
       "      <th>765</th>\n",
       "      <td>0.62</td>\n",
       "      <td>808.5</td>\n",
       "      <td>367.5</td>\n",
       "      <td>220.50</td>\n",
       "      <td>3.5</td>\n",
       "      <td>3</td>\n",
       "      <td>0.4</td>\n",
       "      <td>5</td>\n",
       "      <td>16.44</td>\n",
       "      <td>17.11</td>\n",
       "    </tr>\n",
       "    <tr>\n",
       "      <th>766</th>\n",
       "      <td>0.62</td>\n",
       "      <td>808.5</td>\n",
       "      <td>367.5</td>\n",
       "      <td>220.50</td>\n",
       "      <td>3.5</td>\n",
       "      <td>4</td>\n",
       "      <td>0.4</td>\n",
       "      <td>5</td>\n",
       "      <td>16.48</td>\n",
       "      <td>16.61</td>\n",
       "    </tr>\n",
       "    <tr>\n",
       "      <th>767</th>\n",
       "      <td>0.62</td>\n",
       "      <td>808.5</td>\n",
       "      <td>367.5</td>\n",
       "      <td>220.50</td>\n",
       "      <td>3.5</td>\n",
       "      <td>5</td>\n",
       "      <td>0.4</td>\n",
       "      <td>5</td>\n",
       "      <td>16.64</td>\n",
       "      <td>16.03</td>\n",
       "    </tr>\n",
       "  </tbody>\n",
       "</table>\n",
       "<p>768 rows × 10 columns</p>\n",
       "</div>"
      ],
      "text/plain": [
       "     rel_compactness  surface_area  wall_area  roof_area  overall_height  \\\n",
       "0               0.98         514.5      294.0     110.25             7.0   \n",
       "1               0.98         514.5      294.0     110.25             7.0   \n",
       "2               0.98         514.5      294.0     110.25             7.0   \n",
       "3               0.98         514.5      294.0     110.25             7.0   \n",
       "4               0.90         563.5      318.5     122.50             7.0   \n",
       "..               ...           ...        ...        ...             ...   \n",
       "763             0.64         784.0      343.0     220.50             3.5   \n",
       "764             0.62         808.5      367.5     220.50             3.5   \n",
       "765             0.62         808.5      367.5     220.50             3.5   \n",
       "766             0.62         808.5      367.5     220.50             3.5   \n",
       "767             0.62         808.5      367.5     220.50             3.5   \n",
       "\n",
       "     orientation  glazing_area  glazing_area_dist  heating_load  cooling_load  \n",
       "0              2           0.0                  0         15.55         21.33  \n",
       "1              3           0.0                  0         15.55         21.33  \n",
       "2              4           0.0                  0         15.55         21.33  \n",
       "3              5           0.0                  0         15.55         21.33  \n",
       "4              2           0.0                  0         20.84         28.28  \n",
       "..           ...           ...                ...           ...           ...  \n",
       "763            5           0.4                  5         17.88         21.40  \n",
       "764            2           0.4                  5         16.54         16.88  \n",
       "765            3           0.4                  5         16.44         17.11  \n",
       "766            4           0.4                  5         16.48         16.61  \n",
       "767            5           0.4                  5         16.64         16.03  \n",
       "\n",
       "[768 rows x 10 columns]"
      ]
     },
     "execution_count": 8,
     "metadata": {},
     "output_type": "execute_result"
    }
   ],
   "source": [
    "energy"
   ]
  },
  {
   "cell_type": "markdown",
   "metadata": {},
   "source": [
    "### Finding correlation between features\n",
    "\n",
    "We systematically investigate the association strength of each input variable with each of the output variables in order to identify the most strongly related input variables."
   ]
  },
  {
   "cell_type": "code",
   "execution_count": 9,
   "metadata": {},
   "outputs": [
    {
     "data": {
      "text/html": [
       "<div>\n",
       "<style scoped>\n",
       "    .dataframe tbody tr th:only-of-type {\n",
       "        vertical-align: middle;\n",
       "    }\n",
       "\n",
       "    .dataframe tbody tr th {\n",
       "        vertical-align: top;\n",
       "    }\n",
       "\n",
       "    .dataframe thead th {\n",
       "        text-align: right;\n",
       "    }\n",
       "</style>\n",
       "<table border=\"1\" class=\"dataframe\">\n",
       "  <thead>\n",
       "    <tr style=\"text-align: right;\">\n",
       "      <th></th>\n",
       "      <th>rel_compactness</th>\n",
       "      <th>surface_area</th>\n",
       "      <th>wall_area</th>\n",
       "      <th>roof_area</th>\n",
       "      <th>overall_height</th>\n",
       "      <th>orientation</th>\n",
       "      <th>glazing_area</th>\n",
       "      <th>glazing_area_dist</th>\n",
       "      <th>heating_load</th>\n",
       "      <th>cooling_load</th>\n",
       "    </tr>\n",
       "  </thead>\n",
       "  <tbody>\n",
       "    <tr>\n",
       "      <th>rel_compactness</th>\n",
       "      <td>1.0000</td>\n",
       "      <td>-0.9919</td>\n",
       "      <td>-0.2038</td>\n",
       "      <td>-0.8688</td>\n",
       "      <td>0.8277</td>\n",
       "      <td>0.0000</td>\n",
       "      <td>0.0000</td>\n",
       "      <td>0.0000</td>\n",
       "      <td>0.6223</td>\n",
       "      <td>0.6343</td>\n",
       "    </tr>\n",
       "    <tr>\n",
       "      <th>surface_area</th>\n",
       "      <td>-0.9919</td>\n",
       "      <td>1.0000</td>\n",
       "      <td>0.1955</td>\n",
       "      <td>0.8807</td>\n",
       "      <td>-0.8581</td>\n",
       "      <td>0.0000</td>\n",
       "      <td>0.0000</td>\n",
       "      <td>-0.0000</td>\n",
       "      <td>-0.6581</td>\n",
       "      <td>-0.6730</td>\n",
       "    </tr>\n",
       "    <tr>\n",
       "      <th>wall_area</th>\n",
       "      <td>-0.2038</td>\n",
       "      <td>0.1955</td>\n",
       "      <td>1.0000</td>\n",
       "      <td>-0.2923</td>\n",
       "      <td>0.2810</td>\n",
       "      <td>0.0000</td>\n",
       "      <td>-0.0000</td>\n",
       "      <td>0.0000</td>\n",
       "      <td>0.4557</td>\n",
       "      <td>0.4271</td>\n",
       "    </tr>\n",
       "    <tr>\n",
       "      <th>roof_area</th>\n",
       "      <td>-0.8688</td>\n",
       "      <td>0.8807</td>\n",
       "      <td>-0.2923</td>\n",
       "      <td>1.0000</td>\n",
       "      <td>-0.9725</td>\n",
       "      <td>0.0000</td>\n",
       "      <td>-0.0000</td>\n",
       "      <td>-0.0000</td>\n",
       "      <td>-0.8618</td>\n",
       "      <td>-0.8625</td>\n",
       "    </tr>\n",
       "    <tr>\n",
       "      <th>overall_height</th>\n",
       "      <td>0.8277</td>\n",
       "      <td>-0.8581</td>\n",
       "      <td>0.2810</td>\n",
       "      <td>-0.9725</td>\n",
       "      <td>1.0000</td>\n",
       "      <td>0.0000</td>\n",
       "      <td>0.0000</td>\n",
       "      <td>0.0000</td>\n",
       "      <td>0.8894</td>\n",
       "      <td>0.8958</td>\n",
       "    </tr>\n",
       "    <tr>\n",
       "      <th>orientation</th>\n",
       "      <td>0.0000</td>\n",
       "      <td>0.0000</td>\n",
       "      <td>0.0000</td>\n",
       "      <td>0.0000</td>\n",
       "      <td>0.0000</td>\n",
       "      <td>1.0000</td>\n",
       "      <td>0.0000</td>\n",
       "      <td>0.0000</td>\n",
       "      <td>-0.0026</td>\n",
       "      <td>0.0143</td>\n",
       "    </tr>\n",
       "    <tr>\n",
       "      <th>glazing_area</th>\n",
       "      <td>0.0000</td>\n",
       "      <td>0.0000</td>\n",
       "      <td>-0.0000</td>\n",
       "      <td>-0.0000</td>\n",
       "      <td>0.0000</td>\n",
       "      <td>0.0000</td>\n",
       "      <td>1.0000</td>\n",
       "      <td>0.2130</td>\n",
       "      <td>0.2698</td>\n",
       "      <td>0.2075</td>\n",
       "    </tr>\n",
       "    <tr>\n",
       "      <th>glazing_area_dist</th>\n",
       "      <td>0.0000</td>\n",
       "      <td>-0.0000</td>\n",
       "      <td>0.0000</td>\n",
       "      <td>-0.0000</td>\n",
       "      <td>0.0000</td>\n",
       "      <td>0.0000</td>\n",
       "      <td>0.2130</td>\n",
       "      <td>1.0000</td>\n",
       "      <td>0.0874</td>\n",
       "      <td>0.0505</td>\n",
       "    </tr>\n",
       "    <tr>\n",
       "      <th>heating_load</th>\n",
       "      <td>0.6223</td>\n",
       "      <td>-0.6581</td>\n",
       "      <td>0.4557</td>\n",
       "      <td>-0.8618</td>\n",
       "      <td>0.8894</td>\n",
       "      <td>-0.0026</td>\n",
       "      <td>0.2698</td>\n",
       "      <td>0.0874</td>\n",
       "      <td>1.0000</td>\n",
       "      <td>0.9759</td>\n",
       "    </tr>\n",
       "    <tr>\n",
       "      <th>cooling_load</th>\n",
       "      <td>0.6343</td>\n",
       "      <td>-0.6730</td>\n",
       "      <td>0.4271</td>\n",
       "      <td>-0.8625</td>\n",
       "      <td>0.8958</td>\n",
       "      <td>0.0143</td>\n",
       "      <td>0.2075</td>\n",
       "      <td>0.0505</td>\n",
       "      <td>0.9759</td>\n",
       "      <td>1.0000</td>\n",
       "    </tr>\n",
       "  </tbody>\n",
       "</table>\n",
       "</div>"
      ],
      "text/plain": [
       "                   rel_compactness  surface_area  wall_area  roof_area  \\\n",
       "rel_compactness             1.0000       -0.9919    -0.2038    -0.8688   \n",
       "surface_area               -0.9919        1.0000     0.1955     0.8807   \n",
       "wall_area                  -0.2038        0.1955     1.0000    -0.2923   \n",
       "roof_area                  -0.8688        0.8807    -0.2923     1.0000   \n",
       "overall_height              0.8277       -0.8581     0.2810    -0.9725   \n",
       "orientation                 0.0000        0.0000     0.0000     0.0000   \n",
       "glazing_area                0.0000        0.0000    -0.0000    -0.0000   \n",
       "glazing_area_dist           0.0000       -0.0000     0.0000    -0.0000   \n",
       "heating_load                0.6223       -0.6581     0.4557    -0.8618   \n",
       "cooling_load                0.6343       -0.6730     0.4271    -0.8625   \n",
       "\n",
       "                   overall_height  orientation  glazing_area  \\\n",
       "rel_compactness            0.8277       0.0000        0.0000   \n",
       "surface_area              -0.8581       0.0000        0.0000   \n",
       "wall_area                  0.2810       0.0000       -0.0000   \n",
       "roof_area                 -0.9725       0.0000       -0.0000   \n",
       "overall_height             1.0000       0.0000        0.0000   \n",
       "orientation                0.0000       1.0000        0.0000   \n",
       "glazing_area               0.0000       0.0000        1.0000   \n",
       "glazing_area_dist          0.0000       0.0000        0.2130   \n",
       "heating_load               0.8894      -0.0026        0.2698   \n",
       "cooling_load               0.8958       0.0143        0.2075   \n",
       "\n",
       "                   glazing_area_dist  heating_load  cooling_load  \n",
       "rel_compactness               0.0000        0.6223        0.6343  \n",
       "surface_area                 -0.0000       -0.6581       -0.6730  \n",
       "wall_area                     0.0000        0.4557        0.4271  \n",
       "roof_area                    -0.0000       -0.8618       -0.8625  \n",
       "overall_height                0.0000        0.8894        0.8958  \n",
       "orientation                   0.0000       -0.0026        0.0143  \n",
       "glazing_area                  0.2130        0.2698        0.2075  \n",
       "glazing_area_dist             1.0000        0.0874        0.0505  \n",
       "heating_load                  0.0874        1.0000        0.9759  \n",
       "cooling_load                  0.0505        0.9759        1.0000  "
      ]
     },
     "execution_count": 9,
     "metadata": {},
     "output_type": "execute_result"
    }
   ],
   "source": [
    "correlation = energy.corr()\n",
    "correlation.round(decimals=4)"
   ]
  },
  {
   "cell_type": "code",
   "execution_count": 10,
   "metadata": {},
   "outputs": [
    {
     "data": {
      "text/html": [
       "<style  type=\"text/css\" >\n",
       "    #T_f3fcb586_f5a5_11ea_9c08_f8a2d6efdcberow0_col0 {\n",
       "            background-color:  #b40426;\n",
       "            color:  #f1f1f1;\n",
       "        }    #T_f3fcb586_f5a5_11ea_9c08_f8a2d6efdcberow0_col1 {\n",
       "            background-color:  #3b4cc0;\n",
       "            color:  #f1f1f1;\n",
       "        }    #T_f3fcb586_f5a5_11ea_9c08_f8a2d6efdcberow0_col2 {\n",
       "            background-color:  #4f69d9;\n",
       "            color:  #000000;\n",
       "        }    #T_f3fcb586_f5a5_11ea_9c08_f8a2d6efdcberow0_col3 {\n",
       "            background-color:  #4a63d3;\n",
       "            color:  #f1f1f1;\n",
       "        }    #T_f3fcb586_f5a5_11ea_9c08_f8a2d6efdcberow0_col4 {\n",
       "            background-color:  #d24b40;\n",
       "            color:  #f1f1f1;\n",
       "        }    #T_f3fcb586_f5a5_11ea_9c08_f8a2d6efdcberow0_col5 {\n",
       "            background-color:  #3b4cc0;\n",
       "            color:  #f1f1f1;\n",
       "        }    #T_f3fcb586_f5a5_11ea_9c08_f8a2d6efdcberow0_col6 {\n",
       "            background-color:  #3b4cc0;\n",
       "            color:  #f1f1f1;\n",
       "        }    #T_f3fcb586_f5a5_11ea_9c08_f8a2d6efdcberow0_col7 {\n",
       "            background-color:  #3b4cc0;\n",
       "            color:  #f1f1f1;\n",
       "        }    #T_f3fcb586_f5a5_11ea_9c08_f8a2d6efdcberow0_col8 {\n",
       "            background-color:  #ee8468;\n",
       "            color:  #000000;\n",
       "        }    #T_f3fcb586_f5a5_11ea_9c08_f8a2d6efdcberow0_col9 {\n",
       "            background-color:  #ed8366;\n",
       "            color:  #000000;\n",
       "        }    #T_f3fcb586_f5a5_11ea_9c08_f8a2d6efdcberow1_col0 {\n",
       "            background-color:  #3b4cc0;\n",
       "            color:  #f1f1f1;\n",
       "        }    #T_f3fcb586_f5a5_11ea_9c08_f8a2d6efdcberow1_col1 {\n",
       "            background-color:  #b40426;\n",
       "            color:  #f1f1f1;\n",
       "        }    #T_f3fcb586_f5a5_11ea_9c08_f8a2d6efdcberow1_col2 {\n",
       "            background-color:  #b9d0f9;\n",
       "            color:  #000000;\n",
       "        }    #T_f3fcb586_f5a5_11ea_9c08_f8a2d6efdcberow1_col3 {\n",
       "            background-color:  #ca3b37;\n",
       "            color:  #f1f1f1;\n",
       "        }    #T_f3fcb586_f5a5_11ea_9c08_f8a2d6efdcberow1_col4 {\n",
       "            background-color:  #4b64d5;\n",
       "            color:  #f1f1f1;\n",
       "        }    #T_f3fcb586_f5a5_11ea_9c08_f8a2d6efdcberow1_col5 {\n",
       "            background-color:  #3b4cc0;\n",
       "            color:  #f1f1f1;\n",
       "        }    #T_f3fcb586_f5a5_11ea_9c08_f8a2d6efdcberow1_col6 {\n",
       "            background-color:  #3b4cc0;\n",
       "            color:  #f1f1f1;\n",
       "        }    #T_f3fcb586_f5a5_11ea_9c08_f8a2d6efdcberow1_col7 {\n",
       "            background-color:  #3b4cc0;\n",
       "            color:  #f1f1f1;\n",
       "        }    #T_f3fcb586_f5a5_11ea_9c08_f8a2d6efdcberow1_col8 {\n",
       "            background-color:  #5d7ce6;\n",
       "            color:  #000000;\n",
       "        }    #T_f3fcb586_f5a5_11ea_9c08_f8a2d6efdcberow1_col9 {\n",
       "            background-color:  #5a78e4;\n",
       "            color:  #000000;\n",
       "        }    #T_f3fcb586_f5a5_11ea_9c08_f8a2d6efdcberow2_col0 {\n",
       "            background-color:  #bfd3f6;\n",
       "            color:  #000000;\n",
       "        }    #T_f3fcb586_f5a5_11ea_9c08_f8a2d6efdcberow2_col1 {\n",
       "            background-color:  #f1ccb8;\n",
       "            color:  #000000;\n",
       "        }    #T_f3fcb586_f5a5_11ea_9c08_f8a2d6efdcberow2_col2 {\n",
       "            background-color:  #b40426;\n",
       "            color:  #f1f1f1;\n",
       "        }    #T_f3fcb586_f5a5_11ea_9c08_f8a2d6efdcberow2_col3 {\n",
       "            background-color:  #aec9fc;\n",
       "            color:  #000000;\n",
       "        }    #T_f3fcb586_f5a5_11ea_9c08_f8a2d6efdcberow2_col4 {\n",
       "            background-color:  #f5c1a9;\n",
       "            color:  #000000;\n",
       "        }    #T_f3fcb586_f5a5_11ea_9c08_f8a2d6efdcberow2_col5 {\n",
       "            background-color:  #3b4cc0;\n",
       "            color:  #f1f1f1;\n",
       "        }    #T_f3fcb586_f5a5_11ea_9c08_f8a2d6efdcberow2_col6 {\n",
       "            background-color:  #3b4cc0;\n",
       "            color:  #f1f1f1;\n",
       "        }    #T_f3fcb586_f5a5_11ea_9c08_f8a2d6efdcberow2_col7 {\n",
       "            background-color:  #3b4cc0;\n",
       "            color:  #f1f1f1;\n",
       "        }    #T_f3fcb586_f5a5_11ea_9c08_f8a2d6efdcberow2_col8 {\n",
       "            background-color:  #f7a98b;\n",
       "            color:  #000000;\n",
       "        }    #T_f3fcb586_f5a5_11ea_9c08_f8a2d6efdcberow2_col9 {\n",
       "            background-color:  #f7af91;\n",
       "            color:  #000000;\n",
       "        }    #T_f3fcb586_f5a5_11ea_9c08_f8a2d6efdcberow3_col0 {\n",
       "            background-color:  #4c66d6;\n",
       "            color:  #000000;\n",
       "        }    #T_f3fcb586_f5a5_11ea_9c08_f8a2d6efdcberow3_col1 {\n",
       "            background-color:  #ca3b37;\n",
       "            color:  #f1f1f1;\n",
       "        }    #T_f3fcb586_f5a5_11ea_9c08_f8a2d6efdcberow3_col2 {\n",
       "            background-color:  #3b4cc0;\n",
       "            color:  #f1f1f1;\n",
       "        }    #T_f3fcb586_f5a5_11ea_9c08_f8a2d6efdcberow3_col3 {\n",
       "            background-color:  #b40426;\n",
       "            color:  #f1f1f1;\n",
       "        }    #T_f3fcb586_f5a5_11ea_9c08_f8a2d6efdcberow3_col4 {\n",
       "            background-color:  #3b4cc0;\n",
       "            color:  #f1f1f1;\n",
       "        }    #T_f3fcb586_f5a5_11ea_9c08_f8a2d6efdcberow3_col5 {\n",
       "            background-color:  #3b4cc0;\n",
       "            color:  #f1f1f1;\n",
       "        }    #T_f3fcb586_f5a5_11ea_9c08_f8a2d6efdcberow3_col6 {\n",
       "            background-color:  #3b4cc0;\n",
       "            color:  #f1f1f1;\n",
       "        }    #T_f3fcb586_f5a5_11ea_9c08_f8a2d6efdcberow3_col7 {\n",
       "            background-color:  #3b4cc0;\n",
       "            color:  #f1f1f1;\n",
       "        }    #T_f3fcb586_f5a5_11ea_9c08_f8a2d6efdcberow3_col8 {\n",
       "            background-color:  #3b4cc0;\n",
       "            color:  #f1f1f1;\n",
       "        }    #T_f3fcb586_f5a5_11ea_9c08_f8a2d6efdcberow3_col9 {\n",
       "            background-color:  #3b4cc0;\n",
       "            color:  #f1f1f1;\n",
       "        }    #T_f3fcb586_f5a5_11ea_9c08_f8a2d6efdcberow4_col0 {\n",
       "            background-color:  #d24b40;\n",
       "            color:  #f1f1f1;\n",
       "        }    #T_f3fcb586_f5a5_11ea_9c08_f8a2d6efdcberow4_col1 {\n",
       "            background-color:  #4f69d9;\n",
       "            color:  #000000;\n",
       "        }    #T_f3fcb586_f5a5_11ea_9c08_f8a2d6efdcberow4_col2 {\n",
       "            background-color:  #cdd9ec;\n",
       "            color:  #000000;\n",
       "        }    #T_f3fcb586_f5a5_11ea_9c08_f8a2d6efdcberow4_col3 {\n",
       "            background-color:  #3b4cc0;\n",
       "            color:  #f1f1f1;\n",
       "        }    #T_f3fcb586_f5a5_11ea_9c08_f8a2d6efdcberow4_col4 {\n",
       "            background-color:  #b40426;\n",
       "            color:  #f1f1f1;\n",
       "        }    #T_f3fcb586_f5a5_11ea_9c08_f8a2d6efdcberow4_col5 {\n",
       "            background-color:  #3b4cc0;\n",
       "            color:  #f1f1f1;\n",
       "        }    #T_f3fcb586_f5a5_11ea_9c08_f8a2d6efdcberow4_col6 {\n",
       "            background-color:  #3b4cc0;\n",
       "            color:  #f1f1f1;\n",
       "        }    #T_f3fcb586_f5a5_11ea_9c08_f8a2d6efdcberow4_col7 {\n",
       "            background-color:  #3b4cc0;\n",
       "            color:  #f1f1f1;\n",
       "        }    #T_f3fcb586_f5a5_11ea_9c08_f8a2d6efdcberow4_col8 {\n",
       "            background-color:  #ca3b37;\n",
       "            color:  #f1f1f1;\n",
       "        }    #T_f3fcb586_f5a5_11ea_9c08_f8a2d6efdcberow4_col9 {\n",
       "            background-color:  #c83836;\n",
       "            color:  #f1f1f1;\n",
       "        }    #T_f3fcb586_f5a5_11ea_9c08_f8a2d6efdcberow5_col0 {\n",
       "            background-color:  #dcdddd;\n",
       "            color:  #000000;\n",
       "        }    #T_f3fcb586_f5a5_11ea_9c08_f8a2d6efdcberow5_col1 {\n",
       "            background-color:  #dcdddd;\n",
       "            color:  #000000;\n",
       "        }    #T_f3fcb586_f5a5_11ea_9c08_f8a2d6efdcberow5_col2 {\n",
       "            background-color:  #84a7fc;\n",
       "            color:  #000000;\n",
       "        }    #T_f3fcb586_f5a5_11ea_9c08_f8a2d6efdcberow5_col3 {\n",
       "            background-color:  #dbdcde;\n",
       "            color:  #000000;\n",
       "        }    #T_f3fcb586_f5a5_11ea_9c08_f8a2d6efdcberow5_col4 {\n",
       "            background-color:  #dbdcde;\n",
       "            color:  #000000;\n",
       "        }    #T_f3fcb586_f5a5_11ea_9c08_f8a2d6efdcberow5_col5 {\n",
       "            background-color:  #b40426;\n",
       "            color:  #f1f1f1;\n",
       "        }    #T_f3fcb586_f5a5_11ea_9c08_f8a2d6efdcberow5_col6 {\n",
       "            background-color:  #3b4cc0;\n",
       "            color:  #f1f1f1;\n",
       "        }    #T_f3fcb586_f5a5_11ea_9c08_f8a2d6efdcberow5_col7 {\n",
       "            background-color:  #3b4cc0;\n",
       "            color:  #f1f1f1;\n",
       "        }    #T_f3fcb586_f5a5_11ea_9c08_f8a2d6efdcberow5_col8 {\n",
       "            background-color:  #d3dbe7;\n",
       "            color:  #000000;\n",
       "        }    #T_f3fcb586_f5a5_11ea_9c08_f8a2d6efdcberow5_col9 {\n",
       "            background-color:  #d5dbe5;\n",
       "            color:  #000000;\n",
       "        }    #T_f3fcb586_f5a5_11ea_9c08_f8a2d6efdcberow6_col0 {\n",
       "            background-color:  #dcdddd;\n",
       "            color:  #000000;\n",
       "        }    #T_f3fcb586_f5a5_11ea_9c08_f8a2d6efdcberow6_col1 {\n",
       "            background-color:  #dcdddd;\n",
       "            color:  #000000;\n",
       "        }    #T_f3fcb586_f5a5_11ea_9c08_f8a2d6efdcberow6_col2 {\n",
       "            background-color:  #84a7fc;\n",
       "            color:  #000000;\n",
       "        }    #T_f3fcb586_f5a5_11ea_9c08_f8a2d6efdcberow6_col3 {\n",
       "            background-color:  #dbdcde;\n",
       "            color:  #000000;\n",
       "        }    #T_f3fcb586_f5a5_11ea_9c08_f8a2d6efdcberow6_col4 {\n",
       "            background-color:  #dbdcde;\n",
       "            color:  #000000;\n",
       "        }    #T_f3fcb586_f5a5_11ea_9c08_f8a2d6efdcberow6_col5 {\n",
       "            background-color:  #3b4cc0;\n",
       "            color:  #f1f1f1;\n",
       "        }    #T_f3fcb586_f5a5_11ea_9c08_f8a2d6efdcberow6_col6 {\n",
       "            background-color:  #b40426;\n",
       "            color:  #f1f1f1;\n",
       "        }    #T_f3fcb586_f5a5_11ea_9c08_f8a2d6efdcberow6_col7 {\n",
       "            background-color:  #80a3fa;\n",
       "            color:  #000000;\n",
       "        }    #T_f3fcb586_f5a5_11ea_9c08_f8a2d6efdcberow6_col8 {\n",
       "            background-color:  #f2c9b4;\n",
       "            color:  #000000;\n",
       "        }    #T_f3fcb586_f5a5_11ea_9c08_f8a2d6efdcberow6_col9 {\n",
       "            background-color:  #eed0c0;\n",
       "            color:  #000000;\n",
       "        }    #T_f3fcb586_f5a5_11ea_9c08_f8a2d6efdcberow7_col0 {\n",
       "            background-color:  #dcdddd;\n",
       "            color:  #000000;\n",
       "        }    #T_f3fcb586_f5a5_11ea_9c08_f8a2d6efdcberow7_col1 {\n",
       "            background-color:  #dcdddd;\n",
       "            color:  #000000;\n",
       "        }    #T_f3fcb586_f5a5_11ea_9c08_f8a2d6efdcberow7_col2 {\n",
       "            background-color:  #84a7fc;\n",
       "            color:  #000000;\n",
       "        }    #T_f3fcb586_f5a5_11ea_9c08_f8a2d6efdcberow7_col3 {\n",
       "            background-color:  #dbdcde;\n",
       "            color:  #000000;\n",
       "        }    #T_f3fcb586_f5a5_11ea_9c08_f8a2d6efdcberow7_col4 {\n",
       "            background-color:  #dbdcde;\n",
       "            color:  #000000;\n",
       "        }    #T_f3fcb586_f5a5_11ea_9c08_f8a2d6efdcberow7_col5 {\n",
       "            background-color:  #3b4cc0;\n",
       "            color:  #f1f1f1;\n",
       "        }    #T_f3fcb586_f5a5_11ea_9c08_f8a2d6efdcberow7_col6 {\n",
       "            background-color:  #80a3fa;\n",
       "            color:  #000000;\n",
       "        }    #T_f3fcb586_f5a5_11ea_9c08_f8a2d6efdcberow7_col7 {\n",
       "            background-color:  #b40426;\n",
       "            color:  #f1f1f1;\n",
       "        }    #T_f3fcb586_f5a5_11ea_9c08_f8a2d6efdcberow7_col8 {\n",
       "            background-color:  #dfdbd9;\n",
       "            color:  #000000;\n",
       "        }    #T_f3fcb586_f5a5_11ea_9c08_f8a2d6efdcberow7_col9 {\n",
       "            background-color:  #dadce0;\n",
       "            color:  #000000;\n",
       "        }    #T_f3fcb586_f5a5_11ea_9c08_f8a2d6efdcberow8_col0 {\n",
       "            background-color:  #ec7f63;\n",
       "            color:  #000000;\n",
       "        }    #T_f3fcb586_f5a5_11ea_9c08_f8a2d6efdcberow8_col1 {\n",
       "            background-color:  #6f92f3;\n",
       "            color:  #000000;\n",
       "        }    #T_f3fcb586_f5a5_11ea_9c08_f8a2d6efdcberow8_col2 {\n",
       "            background-color:  #efcfbf;\n",
       "            color:  #000000;\n",
       "        }    #T_f3fcb586_f5a5_11ea_9c08_f8a2d6efdcberow8_col3 {\n",
       "            background-color:  #4b64d5;\n",
       "            color:  #f1f1f1;\n",
       "        }    #T_f3fcb586_f5a5_11ea_9c08_f8a2d6efdcberow8_col4 {\n",
       "            background-color:  #c83836;\n",
       "            color:  #f1f1f1;\n",
       "        }    #T_f3fcb586_f5a5_11ea_9c08_f8a2d6efdcberow8_col5 {\n",
       "            background-color:  #3b4cc0;\n",
       "            color:  #f1f1f1;\n",
       "        }    #T_f3fcb586_f5a5_11ea_9c08_f8a2d6efdcberow8_col6 {\n",
       "            background-color:  #94b6ff;\n",
       "            color:  #000000;\n",
       "        }    #T_f3fcb586_f5a5_11ea_9c08_f8a2d6efdcberow8_col7 {\n",
       "            background-color:  #5572df;\n",
       "            color:  #000000;\n",
       "        }    #T_f3fcb586_f5a5_11ea_9c08_f8a2d6efdcberow8_col8 {\n",
       "            background-color:  #b40426;\n",
       "            color:  #f1f1f1;\n",
       "        }    #T_f3fcb586_f5a5_11ea_9c08_f8a2d6efdcberow8_col9 {\n",
       "            background-color:  #b8122a;\n",
       "            color:  #f1f1f1;\n",
       "        }    #T_f3fcb586_f5a5_11ea_9c08_f8a2d6efdcberow9_col0 {\n",
       "            background-color:  #ea7b60;\n",
       "            color:  #000000;\n",
       "        }    #T_f3fcb586_f5a5_11ea_9c08_f8a2d6efdcberow9_col1 {\n",
       "            background-color:  #6c8ff1;\n",
       "            color:  #000000;\n",
       "        }    #T_f3fcb586_f5a5_11ea_9c08_f8a2d6efdcberow9_col2 {\n",
       "            background-color:  #ead4c8;\n",
       "            color:  #000000;\n",
       "        }    #T_f3fcb586_f5a5_11ea_9c08_f8a2d6efdcberow9_col3 {\n",
       "            background-color:  #4b64d5;\n",
       "            color:  #f1f1f1;\n",
       "        }    #T_f3fcb586_f5a5_11ea_9c08_f8a2d6efdcberow9_col4 {\n",
       "            background-color:  #c73635;\n",
       "            color:  #f1f1f1;\n",
       "        }    #T_f3fcb586_f5a5_11ea_9c08_f8a2d6efdcberow9_col5 {\n",
       "            background-color:  #3f53c6;\n",
       "            color:  #f1f1f1;\n",
       "        }    #T_f3fcb586_f5a5_11ea_9c08_f8a2d6efdcberow9_col6 {\n",
       "            background-color:  #7ea1fa;\n",
       "            color:  #000000;\n",
       "        }    #T_f3fcb586_f5a5_11ea_9c08_f8a2d6efdcberow9_col7 {\n",
       "            background-color:  #4961d2;\n",
       "            color:  #f1f1f1;\n",
       "        }    #T_f3fcb586_f5a5_11ea_9c08_f8a2d6efdcberow9_col8 {\n",
       "            background-color:  #b8122a;\n",
       "            color:  #f1f1f1;\n",
       "        }    #T_f3fcb586_f5a5_11ea_9c08_f8a2d6efdcberow9_col9 {\n",
       "            background-color:  #b40426;\n",
       "            color:  #f1f1f1;\n",
       "        }</style><table id=\"T_f3fcb586_f5a5_11ea_9c08_f8a2d6efdcbe\" ><thead>    <tr>        <th class=\"blank level0\" ></th>        <th class=\"col_heading level0 col0\" >rel_compactness</th>        <th class=\"col_heading level0 col1\" >surface_area</th>        <th class=\"col_heading level0 col2\" >wall_area</th>        <th class=\"col_heading level0 col3\" >roof_area</th>        <th class=\"col_heading level0 col4\" >overall_height</th>        <th class=\"col_heading level0 col5\" >orientation</th>        <th class=\"col_heading level0 col6\" >glazing_area</th>        <th class=\"col_heading level0 col7\" >glazing_area_dist</th>        <th class=\"col_heading level0 col8\" >heating_load</th>        <th class=\"col_heading level0 col9\" >cooling_load</th>    </tr></thead><tbody>\n",
       "                <tr>\n",
       "                        <th id=\"T_f3fcb586_f5a5_11ea_9c08_f8a2d6efdcbelevel0_row0\" class=\"row_heading level0 row0\" >rel_compactness</th>\n",
       "                        <td id=\"T_f3fcb586_f5a5_11ea_9c08_f8a2d6efdcberow0_col0\" class=\"data row0 col0\" >1.0000</td>\n",
       "                        <td id=\"T_f3fcb586_f5a5_11ea_9c08_f8a2d6efdcberow0_col1\" class=\"data row0 col1\" >-0.9919</td>\n",
       "                        <td id=\"T_f3fcb586_f5a5_11ea_9c08_f8a2d6efdcberow0_col2\" class=\"data row0 col2\" >-0.2038</td>\n",
       "                        <td id=\"T_f3fcb586_f5a5_11ea_9c08_f8a2d6efdcberow0_col3\" class=\"data row0 col3\" >-0.8688</td>\n",
       "                        <td id=\"T_f3fcb586_f5a5_11ea_9c08_f8a2d6efdcberow0_col4\" class=\"data row0 col4\" >0.8277</td>\n",
       "                        <td id=\"T_f3fcb586_f5a5_11ea_9c08_f8a2d6efdcberow0_col5\" class=\"data row0 col5\" >0.0000</td>\n",
       "                        <td id=\"T_f3fcb586_f5a5_11ea_9c08_f8a2d6efdcberow0_col6\" class=\"data row0 col6\" >0.0000</td>\n",
       "                        <td id=\"T_f3fcb586_f5a5_11ea_9c08_f8a2d6efdcberow0_col7\" class=\"data row0 col7\" >0.0000</td>\n",
       "                        <td id=\"T_f3fcb586_f5a5_11ea_9c08_f8a2d6efdcberow0_col8\" class=\"data row0 col8\" >0.6223</td>\n",
       "                        <td id=\"T_f3fcb586_f5a5_11ea_9c08_f8a2d6efdcberow0_col9\" class=\"data row0 col9\" >0.6343</td>\n",
       "            </tr>\n",
       "            <tr>\n",
       "                        <th id=\"T_f3fcb586_f5a5_11ea_9c08_f8a2d6efdcbelevel0_row1\" class=\"row_heading level0 row1\" >surface_area</th>\n",
       "                        <td id=\"T_f3fcb586_f5a5_11ea_9c08_f8a2d6efdcberow1_col0\" class=\"data row1 col0\" >-0.9919</td>\n",
       "                        <td id=\"T_f3fcb586_f5a5_11ea_9c08_f8a2d6efdcberow1_col1\" class=\"data row1 col1\" >1.0000</td>\n",
       "                        <td id=\"T_f3fcb586_f5a5_11ea_9c08_f8a2d6efdcberow1_col2\" class=\"data row1 col2\" >0.1955</td>\n",
       "                        <td id=\"T_f3fcb586_f5a5_11ea_9c08_f8a2d6efdcberow1_col3\" class=\"data row1 col3\" >0.8807</td>\n",
       "                        <td id=\"T_f3fcb586_f5a5_11ea_9c08_f8a2d6efdcberow1_col4\" class=\"data row1 col4\" >-0.8581</td>\n",
       "                        <td id=\"T_f3fcb586_f5a5_11ea_9c08_f8a2d6efdcberow1_col5\" class=\"data row1 col5\" >0.0000</td>\n",
       "                        <td id=\"T_f3fcb586_f5a5_11ea_9c08_f8a2d6efdcberow1_col6\" class=\"data row1 col6\" >0.0000</td>\n",
       "                        <td id=\"T_f3fcb586_f5a5_11ea_9c08_f8a2d6efdcberow1_col7\" class=\"data row1 col7\" >-0.0000</td>\n",
       "                        <td id=\"T_f3fcb586_f5a5_11ea_9c08_f8a2d6efdcberow1_col8\" class=\"data row1 col8\" >-0.6581</td>\n",
       "                        <td id=\"T_f3fcb586_f5a5_11ea_9c08_f8a2d6efdcberow1_col9\" class=\"data row1 col9\" >-0.6730</td>\n",
       "            </tr>\n",
       "            <tr>\n",
       "                        <th id=\"T_f3fcb586_f5a5_11ea_9c08_f8a2d6efdcbelevel0_row2\" class=\"row_heading level0 row2\" >wall_area</th>\n",
       "                        <td id=\"T_f3fcb586_f5a5_11ea_9c08_f8a2d6efdcberow2_col0\" class=\"data row2 col0\" >-0.2038</td>\n",
       "                        <td id=\"T_f3fcb586_f5a5_11ea_9c08_f8a2d6efdcberow2_col1\" class=\"data row2 col1\" >0.1955</td>\n",
       "                        <td id=\"T_f3fcb586_f5a5_11ea_9c08_f8a2d6efdcberow2_col2\" class=\"data row2 col2\" >1.0000</td>\n",
       "                        <td id=\"T_f3fcb586_f5a5_11ea_9c08_f8a2d6efdcberow2_col3\" class=\"data row2 col3\" >-0.2923</td>\n",
       "                        <td id=\"T_f3fcb586_f5a5_11ea_9c08_f8a2d6efdcberow2_col4\" class=\"data row2 col4\" >0.2810</td>\n",
       "                        <td id=\"T_f3fcb586_f5a5_11ea_9c08_f8a2d6efdcberow2_col5\" class=\"data row2 col5\" >0.0000</td>\n",
       "                        <td id=\"T_f3fcb586_f5a5_11ea_9c08_f8a2d6efdcberow2_col6\" class=\"data row2 col6\" >-0.0000</td>\n",
       "                        <td id=\"T_f3fcb586_f5a5_11ea_9c08_f8a2d6efdcberow2_col7\" class=\"data row2 col7\" >0.0000</td>\n",
       "                        <td id=\"T_f3fcb586_f5a5_11ea_9c08_f8a2d6efdcberow2_col8\" class=\"data row2 col8\" >0.4557</td>\n",
       "                        <td id=\"T_f3fcb586_f5a5_11ea_9c08_f8a2d6efdcberow2_col9\" class=\"data row2 col9\" >0.4271</td>\n",
       "            </tr>\n",
       "            <tr>\n",
       "                        <th id=\"T_f3fcb586_f5a5_11ea_9c08_f8a2d6efdcbelevel0_row3\" class=\"row_heading level0 row3\" >roof_area</th>\n",
       "                        <td id=\"T_f3fcb586_f5a5_11ea_9c08_f8a2d6efdcberow3_col0\" class=\"data row3 col0\" >-0.8688</td>\n",
       "                        <td id=\"T_f3fcb586_f5a5_11ea_9c08_f8a2d6efdcberow3_col1\" class=\"data row3 col1\" >0.8807</td>\n",
       "                        <td id=\"T_f3fcb586_f5a5_11ea_9c08_f8a2d6efdcberow3_col2\" class=\"data row3 col2\" >-0.2923</td>\n",
       "                        <td id=\"T_f3fcb586_f5a5_11ea_9c08_f8a2d6efdcberow3_col3\" class=\"data row3 col3\" >1.0000</td>\n",
       "                        <td id=\"T_f3fcb586_f5a5_11ea_9c08_f8a2d6efdcberow3_col4\" class=\"data row3 col4\" >-0.9725</td>\n",
       "                        <td id=\"T_f3fcb586_f5a5_11ea_9c08_f8a2d6efdcberow3_col5\" class=\"data row3 col5\" >0.0000</td>\n",
       "                        <td id=\"T_f3fcb586_f5a5_11ea_9c08_f8a2d6efdcberow3_col6\" class=\"data row3 col6\" >-0.0000</td>\n",
       "                        <td id=\"T_f3fcb586_f5a5_11ea_9c08_f8a2d6efdcberow3_col7\" class=\"data row3 col7\" >-0.0000</td>\n",
       "                        <td id=\"T_f3fcb586_f5a5_11ea_9c08_f8a2d6efdcberow3_col8\" class=\"data row3 col8\" >-0.8618</td>\n",
       "                        <td id=\"T_f3fcb586_f5a5_11ea_9c08_f8a2d6efdcberow3_col9\" class=\"data row3 col9\" >-0.8625</td>\n",
       "            </tr>\n",
       "            <tr>\n",
       "                        <th id=\"T_f3fcb586_f5a5_11ea_9c08_f8a2d6efdcbelevel0_row4\" class=\"row_heading level0 row4\" >overall_height</th>\n",
       "                        <td id=\"T_f3fcb586_f5a5_11ea_9c08_f8a2d6efdcberow4_col0\" class=\"data row4 col0\" >0.8277</td>\n",
       "                        <td id=\"T_f3fcb586_f5a5_11ea_9c08_f8a2d6efdcberow4_col1\" class=\"data row4 col1\" >-0.8581</td>\n",
       "                        <td id=\"T_f3fcb586_f5a5_11ea_9c08_f8a2d6efdcberow4_col2\" class=\"data row4 col2\" >0.2810</td>\n",
       "                        <td id=\"T_f3fcb586_f5a5_11ea_9c08_f8a2d6efdcberow4_col3\" class=\"data row4 col3\" >-0.9725</td>\n",
       "                        <td id=\"T_f3fcb586_f5a5_11ea_9c08_f8a2d6efdcberow4_col4\" class=\"data row4 col4\" >1.0000</td>\n",
       "                        <td id=\"T_f3fcb586_f5a5_11ea_9c08_f8a2d6efdcberow4_col5\" class=\"data row4 col5\" >0.0000</td>\n",
       "                        <td id=\"T_f3fcb586_f5a5_11ea_9c08_f8a2d6efdcberow4_col6\" class=\"data row4 col6\" >0.0000</td>\n",
       "                        <td id=\"T_f3fcb586_f5a5_11ea_9c08_f8a2d6efdcberow4_col7\" class=\"data row4 col7\" >0.0000</td>\n",
       "                        <td id=\"T_f3fcb586_f5a5_11ea_9c08_f8a2d6efdcberow4_col8\" class=\"data row4 col8\" >0.8894</td>\n",
       "                        <td id=\"T_f3fcb586_f5a5_11ea_9c08_f8a2d6efdcberow4_col9\" class=\"data row4 col9\" >0.8958</td>\n",
       "            </tr>\n",
       "            <tr>\n",
       "                        <th id=\"T_f3fcb586_f5a5_11ea_9c08_f8a2d6efdcbelevel0_row5\" class=\"row_heading level0 row5\" >orientation</th>\n",
       "                        <td id=\"T_f3fcb586_f5a5_11ea_9c08_f8a2d6efdcberow5_col0\" class=\"data row5 col0\" >0.0000</td>\n",
       "                        <td id=\"T_f3fcb586_f5a5_11ea_9c08_f8a2d6efdcberow5_col1\" class=\"data row5 col1\" >0.0000</td>\n",
       "                        <td id=\"T_f3fcb586_f5a5_11ea_9c08_f8a2d6efdcberow5_col2\" class=\"data row5 col2\" >0.0000</td>\n",
       "                        <td id=\"T_f3fcb586_f5a5_11ea_9c08_f8a2d6efdcberow5_col3\" class=\"data row5 col3\" >0.0000</td>\n",
       "                        <td id=\"T_f3fcb586_f5a5_11ea_9c08_f8a2d6efdcberow5_col4\" class=\"data row5 col4\" >0.0000</td>\n",
       "                        <td id=\"T_f3fcb586_f5a5_11ea_9c08_f8a2d6efdcberow5_col5\" class=\"data row5 col5\" >1.0000</td>\n",
       "                        <td id=\"T_f3fcb586_f5a5_11ea_9c08_f8a2d6efdcberow5_col6\" class=\"data row5 col6\" >0.0000</td>\n",
       "                        <td id=\"T_f3fcb586_f5a5_11ea_9c08_f8a2d6efdcberow5_col7\" class=\"data row5 col7\" >0.0000</td>\n",
       "                        <td id=\"T_f3fcb586_f5a5_11ea_9c08_f8a2d6efdcberow5_col8\" class=\"data row5 col8\" >-0.0026</td>\n",
       "                        <td id=\"T_f3fcb586_f5a5_11ea_9c08_f8a2d6efdcberow5_col9\" class=\"data row5 col9\" >0.0143</td>\n",
       "            </tr>\n",
       "            <tr>\n",
       "                        <th id=\"T_f3fcb586_f5a5_11ea_9c08_f8a2d6efdcbelevel0_row6\" class=\"row_heading level0 row6\" >glazing_area</th>\n",
       "                        <td id=\"T_f3fcb586_f5a5_11ea_9c08_f8a2d6efdcberow6_col0\" class=\"data row6 col0\" >0.0000</td>\n",
       "                        <td id=\"T_f3fcb586_f5a5_11ea_9c08_f8a2d6efdcberow6_col1\" class=\"data row6 col1\" >0.0000</td>\n",
       "                        <td id=\"T_f3fcb586_f5a5_11ea_9c08_f8a2d6efdcberow6_col2\" class=\"data row6 col2\" >-0.0000</td>\n",
       "                        <td id=\"T_f3fcb586_f5a5_11ea_9c08_f8a2d6efdcberow6_col3\" class=\"data row6 col3\" >-0.0000</td>\n",
       "                        <td id=\"T_f3fcb586_f5a5_11ea_9c08_f8a2d6efdcberow6_col4\" class=\"data row6 col4\" >0.0000</td>\n",
       "                        <td id=\"T_f3fcb586_f5a5_11ea_9c08_f8a2d6efdcberow6_col5\" class=\"data row6 col5\" >0.0000</td>\n",
       "                        <td id=\"T_f3fcb586_f5a5_11ea_9c08_f8a2d6efdcberow6_col6\" class=\"data row6 col6\" >1.0000</td>\n",
       "                        <td id=\"T_f3fcb586_f5a5_11ea_9c08_f8a2d6efdcberow6_col7\" class=\"data row6 col7\" >0.2130</td>\n",
       "                        <td id=\"T_f3fcb586_f5a5_11ea_9c08_f8a2d6efdcberow6_col8\" class=\"data row6 col8\" >0.2698</td>\n",
       "                        <td id=\"T_f3fcb586_f5a5_11ea_9c08_f8a2d6efdcberow6_col9\" class=\"data row6 col9\" >0.2075</td>\n",
       "            </tr>\n",
       "            <tr>\n",
       "                        <th id=\"T_f3fcb586_f5a5_11ea_9c08_f8a2d6efdcbelevel0_row7\" class=\"row_heading level0 row7\" >glazing_area_dist</th>\n",
       "                        <td id=\"T_f3fcb586_f5a5_11ea_9c08_f8a2d6efdcberow7_col0\" class=\"data row7 col0\" >0.0000</td>\n",
       "                        <td id=\"T_f3fcb586_f5a5_11ea_9c08_f8a2d6efdcberow7_col1\" class=\"data row7 col1\" >-0.0000</td>\n",
       "                        <td id=\"T_f3fcb586_f5a5_11ea_9c08_f8a2d6efdcberow7_col2\" class=\"data row7 col2\" >0.0000</td>\n",
       "                        <td id=\"T_f3fcb586_f5a5_11ea_9c08_f8a2d6efdcberow7_col3\" class=\"data row7 col3\" >-0.0000</td>\n",
       "                        <td id=\"T_f3fcb586_f5a5_11ea_9c08_f8a2d6efdcberow7_col4\" class=\"data row7 col4\" >0.0000</td>\n",
       "                        <td id=\"T_f3fcb586_f5a5_11ea_9c08_f8a2d6efdcberow7_col5\" class=\"data row7 col5\" >0.0000</td>\n",
       "                        <td id=\"T_f3fcb586_f5a5_11ea_9c08_f8a2d6efdcberow7_col6\" class=\"data row7 col6\" >0.2130</td>\n",
       "                        <td id=\"T_f3fcb586_f5a5_11ea_9c08_f8a2d6efdcberow7_col7\" class=\"data row7 col7\" >1.0000</td>\n",
       "                        <td id=\"T_f3fcb586_f5a5_11ea_9c08_f8a2d6efdcberow7_col8\" class=\"data row7 col8\" >0.0874</td>\n",
       "                        <td id=\"T_f3fcb586_f5a5_11ea_9c08_f8a2d6efdcberow7_col9\" class=\"data row7 col9\" >0.0505</td>\n",
       "            </tr>\n",
       "            <tr>\n",
       "                        <th id=\"T_f3fcb586_f5a5_11ea_9c08_f8a2d6efdcbelevel0_row8\" class=\"row_heading level0 row8\" >heating_load</th>\n",
       "                        <td id=\"T_f3fcb586_f5a5_11ea_9c08_f8a2d6efdcberow8_col0\" class=\"data row8 col0\" >0.6223</td>\n",
       "                        <td id=\"T_f3fcb586_f5a5_11ea_9c08_f8a2d6efdcberow8_col1\" class=\"data row8 col1\" >-0.6581</td>\n",
       "                        <td id=\"T_f3fcb586_f5a5_11ea_9c08_f8a2d6efdcberow8_col2\" class=\"data row8 col2\" >0.4557</td>\n",
       "                        <td id=\"T_f3fcb586_f5a5_11ea_9c08_f8a2d6efdcberow8_col3\" class=\"data row8 col3\" >-0.8618</td>\n",
       "                        <td id=\"T_f3fcb586_f5a5_11ea_9c08_f8a2d6efdcberow8_col4\" class=\"data row8 col4\" >0.8894</td>\n",
       "                        <td id=\"T_f3fcb586_f5a5_11ea_9c08_f8a2d6efdcberow8_col5\" class=\"data row8 col5\" >-0.0026</td>\n",
       "                        <td id=\"T_f3fcb586_f5a5_11ea_9c08_f8a2d6efdcberow8_col6\" class=\"data row8 col6\" >0.2698</td>\n",
       "                        <td id=\"T_f3fcb586_f5a5_11ea_9c08_f8a2d6efdcberow8_col7\" class=\"data row8 col7\" >0.0874</td>\n",
       "                        <td id=\"T_f3fcb586_f5a5_11ea_9c08_f8a2d6efdcberow8_col8\" class=\"data row8 col8\" >1.0000</td>\n",
       "                        <td id=\"T_f3fcb586_f5a5_11ea_9c08_f8a2d6efdcberow8_col9\" class=\"data row8 col9\" >0.9759</td>\n",
       "            </tr>\n",
       "            <tr>\n",
       "                        <th id=\"T_f3fcb586_f5a5_11ea_9c08_f8a2d6efdcbelevel0_row9\" class=\"row_heading level0 row9\" >cooling_load</th>\n",
       "                        <td id=\"T_f3fcb586_f5a5_11ea_9c08_f8a2d6efdcberow9_col0\" class=\"data row9 col0\" >0.6343</td>\n",
       "                        <td id=\"T_f3fcb586_f5a5_11ea_9c08_f8a2d6efdcberow9_col1\" class=\"data row9 col1\" >-0.6730</td>\n",
       "                        <td id=\"T_f3fcb586_f5a5_11ea_9c08_f8a2d6efdcberow9_col2\" class=\"data row9 col2\" >0.4271</td>\n",
       "                        <td id=\"T_f3fcb586_f5a5_11ea_9c08_f8a2d6efdcberow9_col3\" class=\"data row9 col3\" >-0.8625</td>\n",
       "                        <td id=\"T_f3fcb586_f5a5_11ea_9c08_f8a2d6efdcberow9_col4\" class=\"data row9 col4\" >0.8958</td>\n",
       "                        <td id=\"T_f3fcb586_f5a5_11ea_9c08_f8a2d6efdcberow9_col5\" class=\"data row9 col5\" >0.0143</td>\n",
       "                        <td id=\"T_f3fcb586_f5a5_11ea_9c08_f8a2d6efdcberow9_col6\" class=\"data row9 col6\" >0.2075</td>\n",
       "                        <td id=\"T_f3fcb586_f5a5_11ea_9c08_f8a2d6efdcberow9_col7\" class=\"data row9 col7\" >0.0505</td>\n",
       "                        <td id=\"T_f3fcb586_f5a5_11ea_9c08_f8a2d6efdcberow9_col8\" class=\"data row9 col8\" >0.9759</td>\n",
       "                        <td id=\"T_f3fcb586_f5a5_11ea_9c08_f8a2d6efdcberow9_col9\" class=\"data row9 col9\" >1.0000</td>\n",
       "            </tr>\n",
       "    </tbody></table>"
      ],
      "text/plain": [
       "<pandas.io.formats.style.Styler at 0x2115a8bbf48>"
      ]
     },
     "execution_count": 10,
     "metadata": {},
     "output_type": "execute_result"
    }
   ],
   "source": [
    "correlation.style.background_gradient(cmap='coolwarm').set_precision(4)"
   ]
  },
  {
   "cell_type": "markdown",
   "metadata": {},
   "source": [
    "### Observations\n",
    "As we can see from correlation matrix:\n",
    "> 1. rel_compactness, wall_area and overall_height are highly positively correlated with heating and cooling load \n",
    "> 2. surface area and roof_area is highly negatively correlated with heating_load and cooling load."
   ]
  },
  {
   "cell_type": "markdown",
   "metadata": {},
   "source": [
    "Getting Features for Input (X) and Response (Y)"
   ]
  },
  {
   "cell_type": "code",
   "execution_count": 11,
   "metadata": {},
   "outputs": [],
   "source": [
    "X = energy.drop(['heating_load', 'cooling_load'], axis=1)"
   ]
  },
  {
   "cell_type": "code",
   "execution_count": 12,
   "metadata": {},
   "outputs": [
    {
     "data": {
      "text/html": [
       "<div>\n",
       "<style scoped>\n",
       "    .dataframe tbody tr th:only-of-type {\n",
       "        vertical-align: middle;\n",
       "    }\n",
       "\n",
       "    .dataframe tbody tr th {\n",
       "        vertical-align: top;\n",
       "    }\n",
       "\n",
       "    .dataframe thead th {\n",
       "        text-align: right;\n",
       "    }\n",
       "</style>\n",
       "<table border=\"1\" class=\"dataframe\">\n",
       "  <thead>\n",
       "    <tr style=\"text-align: right;\">\n",
       "      <th></th>\n",
       "      <th>rel_compactness</th>\n",
       "      <th>surface_area</th>\n",
       "      <th>wall_area</th>\n",
       "      <th>roof_area</th>\n",
       "      <th>overall_height</th>\n",
       "      <th>orientation</th>\n",
       "      <th>glazing_area</th>\n",
       "      <th>glazing_area_dist</th>\n",
       "    </tr>\n",
       "  </thead>\n",
       "  <tbody>\n",
       "    <tr>\n",
       "      <th>0</th>\n",
       "      <td>0.98</td>\n",
       "      <td>514.5</td>\n",
       "      <td>294.0</td>\n",
       "      <td>110.25</td>\n",
       "      <td>7.0</td>\n",
       "      <td>2</td>\n",
       "      <td>0.0</td>\n",
       "      <td>0</td>\n",
       "    </tr>\n",
       "    <tr>\n",
       "      <th>1</th>\n",
       "      <td>0.98</td>\n",
       "      <td>514.5</td>\n",
       "      <td>294.0</td>\n",
       "      <td>110.25</td>\n",
       "      <td>7.0</td>\n",
       "      <td>3</td>\n",
       "      <td>0.0</td>\n",
       "      <td>0</td>\n",
       "    </tr>\n",
       "    <tr>\n",
       "      <th>2</th>\n",
       "      <td>0.98</td>\n",
       "      <td>514.5</td>\n",
       "      <td>294.0</td>\n",
       "      <td>110.25</td>\n",
       "      <td>7.0</td>\n",
       "      <td>4</td>\n",
       "      <td>0.0</td>\n",
       "      <td>0</td>\n",
       "    </tr>\n",
       "    <tr>\n",
       "      <th>3</th>\n",
       "      <td>0.98</td>\n",
       "      <td>514.5</td>\n",
       "      <td>294.0</td>\n",
       "      <td>110.25</td>\n",
       "      <td>7.0</td>\n",
       "      <td>5</td>\n",
       "      <td>0.0</td>\n",
       "      <td>0</td>\n",
       "    </tr>\n",
       "    <tr>\n",
       "      <th>4</th>\n",
       "      <td>0.90</td>\n",
       "      <td>563.5</td>\n",
       "      <td>318.5</td>\n",
       "      <td>122.50</td>\n",
       "      <td>7.0</td>\n",
       "      <td>2</td>\n",
       "      <td>0.0</td>\n",
       "      <td>0</td>\n",
       "    </tr>\n",
       "    <tr>\n",
       "      <th>...</th>\n",
       "      <td>...</td>\n",
       "      <td>...</td>\n",
       "      <td>...</td>\n",
       "      <td>...</td>\n",
       "      <td>...</td>\n",
       "      <td>...</td>\n",
       "      <td>...</td>\n",
       "      <td>...</td>\n",
       "    </tr>\n",
       "    <tr>\n",
       "      <th>763</th>\n",
       "      <td>0.64</td>\n",
       "      <td>784.0</td>\n",
       "      <td>343.0</td>\n",
       "      <td>220.50</td>\n",
       "      <td>3.5</td>\n",
       "      <td>5</td>\n",
       "      <td>0.4</td>\n",
       "      <td>5</td>\n",
       "    </tr>\n",
       "    <tr>\n",
       "      <th>764</th>\n",
       "      <td>0.62</td>\n",
       "      <td>808.5</td>\n",
       "      <td>367.5</td>\n",
       "      <td>220.50</td>\n",
       "      <td>3.5</td>\n",
       "      <td>2</td>\n",
       "      <td>0.4</td>\n",
       "      <td>5</td>\n",
       "    </tr>\n",
       "    <tr>\n",
       "      <th>765</th>\n",
       "      <td>0.62</td>\n",
       "      <td>808.5</td>\n",
       "      <td>367.5</td>\n",
       "      <td>220.50</td>\n",
       "      <td>3.5</td>\n",
       "      <td>3</td>\n",
       "      <td>0.4</td>\n",
       "      <td>5</td>\n",
       "    </tr>\n",
       "    <tr>\n",
       "      <th>766</th>\n",
       "      <td>0.62</td>\n",
       "      <td>808.5</td>\n",
       "      <td>367.5</td>\n",
       "      <td>220.50</td>\n",
       "      <td>3.5</td>\n",
       "      <td>4</td>\n",
       "      <td>0.4</td>\n",
       "      <td>5</td>\n",
       "    </tr>\n",
       "    <tr>\n",
       "      <th>767</th>\n",
       "      <td>0.62</td>\n",
       "      <td>808.5</td>\n",
       "      <td>367.5</td>\n",
       "      <td>220.50</td>\n",
       "      <td>3.5</td>\n",
       "      <td>5</td>\n",
       "      <td>0.4</td>\n",
       "      <td>5</td>\n",
       "    </tr>\n",
       "  </tbody>\n",
       "</table>\n",
       "<p>768 rows × 8 columns</p>\n",
       "</div>"
      ],
      "text/plain": [
       "     rel_compactness  surface_area  wall_area  roof_area  overall_height  \\\n",
       "0               0.98         514.5      294.0     110.25             7.0   \n",
       "1               0.98         514.5      294.0     110.25             7.0   \n",
       "2               0.98         514.5      294.0     110.25             7.0   \n",
       "3               0.98         514.5      294.0     110.25             7.0   \n",
       "4               0.90         563.5      318.5     122.50             7.0   \n",
       "..               ...           ...        ...        ...             ...   \n",
       "763             0.64         784.0      343.0     220.50             3.5   \n",
       "764             0.62         808.5      367.5     220.50             3.5   \n",
       "765             0.62         808.5      367.5     220.50             3.5   \n",
       "766             0.62         808.5      367.5     220.50             3.5   \n",
       "767             0.62         808.5      367.5     220.50             3.5   \n",
       "\n",
       "     orientation  glazing_area  glazing_area_dist  \n",
       "0              2           0.0                  0  \n",
       "1              3           0.0                  0  \n",
       "2              4           0.0                  0  \n",
       "3              5           0.0                  0  \n",
       "4              2           0.0                  0  \n",
       "..           ...           ...                ...  \n",
       "763            5           0.4                  5  \n",
       "764            2           0.4                  5  \n",
       "765            3           0.4                  5  \n",
       "766            4           0.4                  5  \n",
       "767            5           0.4                  5  \n",
       "\n",
       "[768 rows x 8 columns]"
      ]
     },
     "execution_count": 12,
     "metadata": {},
     "output_type": "execute_result"
    }
   ],
   "source": [
    "X"
   ]
  },
  {
   "cell_type": "code",
   "execution_count": 13,
   "metadata": {},
   "outputs": [],
   "source": [
    "Y = energy['heating_load']"
   ]
  },
  {
   "cell_type": "code",
   "execution_count": 14,
   "metadata": {},
   "outputs": [
    {
     "data": {
      "text/plain": [
       "0      15.55\n",
       "1      15.55\n",
       "2      15.55\n",
       "3      15.55\n",
       "4      20.84\n",
       "       ...  \n",
       "763    17.88\n",
       "764    16.54\n",
       "765    16.44\n",
       "766    16.48\n",
       "767    16.64\n",
       "Name: heating_load, Length: 768, dtype: float64"
      ]
     },
     "execution_count": 14,
     "metadata": {},
     "output_type": "execute_result"
    }
   ],
   "source": [
    "Y"
   ]
  },
  {
   "cell_type": "markdown",
   "metadata": {},
   "source": [
    "### Model Building (for Y='Heating Load') using RFE\n",
    "\n",
    "#### Build a model to predict the Heating Load of Heating equipment."
   ]
  },
  {
   "cell_type": "markdown",
   "metadata": {},
   "source": [
    "Feature Selection and Model Building\n",
    "\n",
    "> ExtraTreesRegressor() and RandomForestRegression() perform with almost same efficiency. \n",
    ">(Courtesy: https://quantdare.com/what-is-the-difference-between-extra-trees-and-random-forest/)"
   ]
  },
  {
   "cell_type": "code",
   "execution_count": 15,
   "metadata": {},
   "outputs": [],
   "source": [
    "model = ExtraTreesRegressor()"
   ]
  },
  {
   "cell_type": "markdown",
   "metadata": {},
   "source": [
    "#### ABOUT RFE\n",
    "\n",
    "Feature ranking with recursive feature elimination.\n",
    "\n",
    ">This technique begins by building a model on the entire set of predictors and computing an importance score for each predictor. The least important predictor(s) are then removed, the model is re-built, and importance scores are computed again. In practice, the analyst specifies the number of predictor subsets to evaluate as well as each subset’s size. Therefore, the subset size is a tuning parameter for RFE. The subset size that optimizes the performance criteria is used to select the predictors based on the importance rankings. The optimal subset is then used to train the final model.\n",
    "\n",
    "(Courtesy: https://towardsdatascience.com/feature-selection-in-python-recursive-feature-elimination-19f1c39b8d15)"
   ]
  },
  {
   "cell_type": "markdown",
   "metadata": {},
   "source": [
    "For syntax of RFE: https://scikit-learn.org/stable/modules/generated/sklearn.feature_selection.RFE.html"
   ]
  },
  {
   "cell_type": "code",
   "execution_count": 16,
   "metadata": {},
   "outputs": [],
   "source": [
    "rfe = RFE(estimator=model, n_features_to_select=3, step=1)"
   ]
  },
  {
   "cell_type": "code",
   "execution_count": 17,
   "metadata": {},
   "outputs": [
    {
     "data": {
      "text/plain": [
       "RFE(estimator=ExtraTreesRegressor(), n_features_to_select=3)"
      ]
     },
     "execution_count": 17,
     "metadata": {},
     "output_type": "execute_result"
    }
   ],
   "source": [
    "rfe"
   ]
  },
  {
   "cell_type": "code",
   "execution_count": 18,
   "metadata": {},
   "outputs": [],
   "source": [
    "fit = rfe.fit(X, Y)"
   ]
  },
  {
   "cell_type": "code",
   "execution_count": 19,
   "metadata": {},
   "outputs": [
    {
     "name": "stdout",
     "output_type": "stream",
     "text": [
      "Number of Features:  3\n"
     ]
    }
   ],
   "source": [
    "print('Number of Features: ', fit.n_features_)"
   ]
  },
  {
   "cell_type": "code",
   "execution_count": 20,
   "metadata": {},
   "outputs": [
    {
     "data": {
      "text/plain": [
       "array([False,  True, False,  True,  True, False, False, False])"
      ]
     },
     "execution_count": 20,
     "metadata": {},
     "output_type": "execute_result"
    }
   ],
   "source": [
    "# Selected Features\n",
    "fit.support_"
   ]
  },
  {
   "cell_type": "code",
   "execution_count": 21,
   "metadata": {},
   "outputs": [
    {
     "name": "stdout",
     "output_type": "stream",
     "text": [
      "Selected Features:\n",
      "\n",
      "surface_area\n",
      "roof_area\n",
      "overall_height\n"
     ]
    }
   ],
   "source": [
    "selected_features = [each_feature for each_feature, status in zip(X.columns, fit.support_) if status == True]\n",
    "print('Selected Features:\\n', *selected_features, sep=\"\\n\")"
   ]
  },
  {
   "cell_type": "code",
   "execution_count": 22,
   "metadata": {},
   "outputs": [
    {
     "name": "stdout",
     "output_type": "stream",
     "text": [
      "rel_compactness --- ( 4 )\n",
      "surface_area --- ( 1 )\n",
      "wall_area --- ( 3 )\n",
      "roof_area --- ( 1 )\n",
      "overall_height --- ( 1 )\n",
      "orientation --- ( 6 )\n",
      "glazing_area --- ( 2 )\n",
      "glazing_area_dist --- ( 5 )\n"
     ]
    }
   ],
   "source": [
    "for feature, value in zip(X.columns, fit.ranking_):\n",
    "    print(feature, \"--- (\", value, \")\")"
   ]
  },
  {
   "cell_type": "markdown",
   "metadata": {},
   "source": [
    "### Plotting Importance of Features"
   ]
  },
  {
   "cell_type": "code",
   "execution_count": 23,
   "metadata": {},
   "outputs": [
    {
     "data": {
      "text/plain": [
       "[0.16252949215379572, 0.5936115369509658, 0.24385897089523856]"
      ]
     },
     "execution_count": 23,
     "metadata": {},
     "output_type": "execute_result"
    }
   ],
   "source": [
    "imp_values = list(fit.estimator_.feature_importances_)\n",
    "imp_values"
   ]
  },
  {
   "cell_type": "code",
   "execution_count": 24,
   "metadata": {},
   "outputs": [
    {
     "data": {
      "text/plain": [
       "[0.24385897089523856, 0.5936115369509658, 0.16252949215379572]"
      ]
     },
     "execution_count": 24,
     "metadata": {},
     "output_type": "execute_result"
    }
   ],
   "source": [
    "imp_values.reverse()\n",
    "imp_values"
   ]
  },
  {
   "cell_type": "code",
   "execution_count": 25,
   "metadata": {},
   "outputs": [
    {
     "data": {
      "text/plain": [
       "[0, 0.16252949215379572, 0, 0.5936115369509658, 0.24385897089523856, 0, 0, 0]"
      ]
     },
     "execution_count": 25,
     "metadata": {},
     "output_type": "execute_result"
    }
   ],
   "source": [
    "importance = []\n",
    "for value in fit.support_:\n",
    "    if value == True:\n",
    "        importance.append(imp_values.pop())\n",
    "    else:\n",
    "        importance.append(0)\n",
    "\n",
    "importance "
   ]
  },
  {
   "cell_type": "code",
   "execution_count": 26,
   "metadata": {},
   "outputs": [
    {
     "data": {
      "text/html": [
       "<div>\n",
       "<style scoped>\n",
       "    .dataframe tbody tr th:only-of-type {\n",
       "        vertical-align: middle;\n",
       "    }\n",
       "\n",
       "    .dataframe tbody tr th {\n",
       "        vertical-align: top;\n",
       "    }\n",
       "\n",
       "    .dataframe thead th {\n",
       "        text-align: right;\n",
       "    }\n",
       "</style>\n",
       "<table border=\"1\" class=\"dataframe\">\n",
       "  <thead>\n",
       "    <tr style=\"text-align: right;\">\n",
       "      <th></th>\n",
       "      <th>Features</th>\n",
       "      <th>Importance</th>\n",
       "    </tr>\n",
       "  </thead>\n",
       "  <tbody>\n",
       "    <tr>\n",
       "      <th>rel_compactness</th>\n",
       "      <td>rel_compactness</td>\n",
       "      <td>0.000000</td>\n",
       "    </tr>\n",
       "    <tr>\n",
       "      <th>surface_area</th>\n",
       "      <td>surface_area</td>\n",
       "      <td>0.162529</td>\n",
       "    </tr>\n",
       "    <tr>\n",
       "      <th>wall_area</th>\n",
       "      <td>wall_area</td>\n",
       "      <td>0.000000</td>\n",
       "    </tr>\n",
       "    <tr>\n",
       "      <th>roof_area</th>\n",
       "      <td>roof_area</td>\n",
       "      <td>0.593612</td>\n",
       "    </tr>\n",
       "    <tr>\n",
       "      <th>overall_height</th>\n",
       "      <td>overall_height</td>\n",
       "      <td>0.243859</td>\n",
       "    </tr>\n",
       "    <tr>\n",
       "      <th>orientation</th>\n",
       "      <td>orientation</td>\n",
       "      <td>0.000000</td>\n",
       "    </tr>\n",
       "    <tr>\n",
       "      <th>glazing_area</th>\n",
       "      <td>glazing_area</td>\n",
       "      <td>0.000000</td>\n",
       "    </tr>\n",
       "    <tr>\n",
       "      <th>glazing_area_dist</th>\n",
       "      <td>glazing_area_dist</td>\n",
       "      <td>0.000000</td>\n",
       "    </tr>\n",
       "  </tbody>\n",
       "</table>\n",
       "</div>"
      ],
      "text/plain": [
       "                            Features  Importance\n",
       "rel_compactness      rel_compactness    0.000000\n",
       "surface_area            surface_area    0.162529\n",
       "wall_area                  wall_area    0.000000\n",
       "roof_area                  roof_area    0.593612\n",
       "overall_height        overall_height    0.243859\n",
       "orientation              orientation    0.000000\n",
       "glazing_area            glazing_area    0.000000\n",
       "glazing_area_dist  glazing_area_dist    0.000000"
      ]
     },
     "execution_count": 26,
     "metadata": {},
     "output_type": "execute_result"
    }
   ],
   "source": [
    "plotting_data = pd.DataFrame({'Features': X.columns, 'Importance':importance}, index=X.columns)\n",
    "plotting_data"
   ]
  },
  {
   "cell_type": "code",
   "execution_count": 27,
   "metadata": {},
   "outputs": [
    {
     "data": {
      "text/plain": [
       "<matplotlib.axes._subplots.AxesSubplot at 0x2115bd48648>"
      ]
     },
     "execution_count": 27,
     "metadata": {},
     "output_type": "execute_result"
    },
    {
     "data": {
      "image/png": "[encoded data removed]",
      "text/plain": [
       "<Figure size 432x288 with 1 Axes>"
      ]
     },
     "metadata": {
      "needs_background": "light"
     },
     "output_type": "display_data"
    }
   ],
   "source": [
    "plotting_data.plot.barh()"
   ]
  },
  {
   "cell_type": "markdown",
   "metadata": {},
   "source": [
    "### Fit the Model"
   ]
  },
  {
   "cell_type": "code",
   "execution_count": 28,
   "metadata": {},
   "outputs": [],
   "source": [
    "seed = 7  # Can be any value. Keep it same to repoduce the same results"
   ]
  },
  {
   "cell_type": "code",
   "execution_count": 29,
   "metadata": {},
   "outputs": [],
   "source": [
    "n_estimators = len(X)"
   ]
  },
  {
   "cell_type": "code",
   "execution_count": 30,
   "metadata": {},
   "outputs": [
    {
     "data": {
      "text/plain": [
       "ExtraTreesRegressor()"
      ]
     },
     "execution_count": 30,
     "metadata": {},
     "output_type": "execute_result"
    }
   ],
   "source": [
    "model.fit(X, Y)"
   ]
  },
  {
   "cell_type": "markdown",
   "metadata": {},
   "source": [
    "### Evaluate the Model"
   ]
  },
  {
   "cell_type": "markdown",
   "metadata": {},
   "source": [
    ">Repeated k-fold cross-validation provides a way to improve the estimated performance of a machine learning model. This involves simply repeating the cross-validation procedure multiple times and reporting the mean result across all folds from all runs. This mean result is expected to be a more accurate estimate of the true unknown underlying mean performance of the model on the dataset, as calculated using the standard error.\n",
    "\n",
    "(Courtesy: https://machinelearningmastery.com/repeated-k-fold-cross-validation-with-python/)"
   ]
  },
  {
   "cell_type": "code",
   "execution_count": 31,
   "metadata": {},
   "outputs": [],
   "source": [
    "kfold = model_selection.RepeatedKFold(n_splits=n_estimators, n_repeats=10, random_state=seed)"
   ]
  },
  {
   "cell_type": "code",
   "execution_count": 32,
   "metadata": {},
   "outputs": [],
   "source": [
    "cv_results = model_selection.cross_val_score(model, X, Y, cv=10)"
   ]
  },
  {
   "cell_type": "code",
   "execution_count": 33,
   "metadata": {},
   "outputs": [
    {
     "data": {
      "text/plain": [
       "array([0.72206534, 0.99839525, 0.99619544, 0.99497013, 0.9966615 ,\n",
       "       0.99688694, 0.99784014, 0.99632613, 0.99545147, 0.99569401])"
      ]
     },
     "execution_count": 33,
     "metadata": {},
     "output_type": "execute_result"
    }
   ],
   "source": [
    "cv_results"
   ]
  },
  {
   "cell_type": "code",
   "execution_count": 34,
   "metadata": {},
   "outputs": [],
   "source": [
    "msg = \"%s: %f (%f)\" % (\"ExtraTreesRegressor\", cv_results.mean(), cv_results.std())"
   ]
  },
  {
   "cell_type": "code",
   "execution_count": 35,
   "metadata": {},
   "outputs": [
    {
     "data": {
      "text/plain": [
       "'ExtraTreesRegressor: 0.969049 (0.082334)'"
      ]
     },
     "execution_count": 35,
     "metadata": {},
     "output_type": "execute_result"
    }
   ],
   "source": [
    "msg"
   ]
  },
  {
   "cell_type": "markdown",
   "metadata": {},
   "source": [
    "### Model Building (for Y='Cooling Load')"
   ]
  },
  {
   "cell_type": "markdown",
   "metadata": {},
   "source": [
    ">The main issue of RFE is that it can be expensive to run. \n",
    "\n",
    "Removing correlated features are beneficial as the highly correlated features in the dataset provide the same information \n",
    "\n",
    "(Courtesy: https://towardsdatascience.com/feature-selection-in-python-recursive-feature-elimination-19f1c39b8d15)"
   ]
  },
  {
   "cell_type": "code",
   "execution_count": 36,
   "metadata": {},
   "outputs": [
    {
     "data": {
      "text/html": [
       "<div>\n",
       "<style scoped>\n",
       "    .dataframe tbody tr th:only-of-type {\n",
       "        vertical-align: middle;\n",
       "    }\n",
       "\n",
       "    .dataframe tbody tr th {\n",
       "        vertical-align: top;\n",
       "    }\n",
       "\n",
       "    .dataframe thead th {\n",
       "        text-align: right;\n",
       "    }\n",
       "</style>\n",
       "<table border=\"1\" class=\"dataframe\">\n",
       "  <thead>\n",
       "    <tr style=\"text-align: right;\">\n",
       "      <th></th>\n",
       "      <th>rel_compactness</th>\n",
       "      <th>surface_area</th>\n",
       "      <th>wall_area</th>\n",
       "      <th>roof_area</th>\n",
       "      <th>overall_height</th>\n",
       "      <th>orientation</th>\n",
       "      <th>glazing_area</th>\n",
       "      <th>glazing_area_dist</th>\n",
       "    </tr>\n",
       "  </thead>\n",
       "  <tbody>\n",
       "    <tr>\n",
       "      <th>0</th>\n",
       "      <td>0.98</td>\n",
       "      <td>514.5</td>\n",
       "      <td>294.0</td>\n",
       "      <td>110.25</td>\n",
       "      <td>7.0</td>\n",
       "      <td>2</td>\n",
       "      <td>0.0</td>\n",
       "      <td>0</td>\n",
       "    </tr>\n",
       "    <tr>\n",
       "      <th>1</th>\n",
       "      <td>0.98</td>\n",
       "      <td>514.5</td>\n",
       "      <td>294.0</td>\n",
       "      <td>110.25</td>\n",
       "      <td>7.0</td>\n",
       "      <td>3</td>\n",
       "      <td>0.0</td>\n",
       "      <td>0</td>\n",
       "    </tr>\n",
       "    <tr>\n",
       "      <th>2</th>\n",
       "      <td>0.98</td>\n",
       "      <td>514.5</td>\n",
       "      <td>294.0</td>\n",
       "      <td>110.25</td>\n",
       "      <td>7.0</td>\n",
       "      <td>4</td>\n",
       "      <td>0.0</td>\n",
       "      <td>0</td>\n",
       "    </tr>\n",
       "    <tr>\n",
       "      <th>3</th>\n",
       "      <td>0.98</td>\n",
       "      <td>514.5</td>\n",
       "      <td>294.0</td>\n",
       "      <td>110.25</td>\n",
       "      <td>7.0</td>\n",
       "      <td>5</td>\n",
       "      <td>0.0</td>\n",
       "      <td>0</td>\n",
       "    </tr>\n",
       "    <tr>\n",
       "      <th>4</th>\n",
       "      <td>0.90</td>\n",
       "      <td>563.5</td>\n",
       "      <td>318.5</td>\n",
       "      <td>122.50</td>\n",
       "      <td>7.0</td>\n",
       "      <td>2</td>\n",
       "      <td>0.0</td>\n",
       "      <td>0</td>\n",
       "    </tr>\n",
       "    <tr>\n",
       "      <th>...</th>\n",
       "      <td>...</td>\n",
       "      <td>...</td>\n",
       "      <td>...</td>\n",
       "      <td>...</td>\n",
       "      <td>...</td>\n",
       "      <td>...</td>\n",
       "      <td>...</td>\n",
       "      <td>...</td>\n",
       "    </tr>\n",
       "    <tr>\n",
       "      <th>763</th>\n",
       "      <td>0.64</td>\n",
       "      <td>784.0</td>\n",
       "      <td>343.0</td>\n",
       "      <td>220.50</td>\n",
       "      <td>3.5</td>\n",
       "      <td>5</td>\n",
       "      <td>0.4</td>\n",
       "      <td>5</td>\n",
       "    </tr>\n",
       "    <tr>\n",
       "      <th>764</th>\n",
       "      <td>0.62</td>\n",
       "      <td>808.5</td>\n",
       "      <td>367.5</td>\n",
       "      <td>220.50</td>\n",
       "      <td>3.5</td>\n",
       "      <td>2</td>\n",
       "      <td>0.4</td>\n",
       "      <td>5</td>\n",
       "    </tr>\n",
       "    <tr>\n",
       "      <th>765</th>\n",
       "      <td>0.62</td>\n",
       "      <td>808.5</td>\n",
       "      <td>367.5</td>\n",
       "      <td>220.50</td>\n",
       "      <td>3.5</td>\n",
       "      <td>3</td>\n",
       "      <td>0.4</td>\n",
       "      <td>5</td>\n",
       "    </tr>\n",
       "    <tr>\n",
       "      <th>766</th>\n",
       "      <td>0.62</td>\n",
       "      <td>808.5</td>\n",
       "      <td>367.5</td>\n",
       "      <td>220.50</td>\n",
       "      <td>3.5</td>\n",
       "      <td>4</td>\n",
       "      <td>0.4</td>\n",
       "      <td>5</td>\n",
       "    </tr>\n",
       "    <tr>\n",
       "      <th>767</th>\n",
       "      <td>0.62</td>\n",
       "      <td>808.5</td>\n",
       "      <td>367.5</td>\n",
       "      <td>220.50</td>\n",
       "      <td>3.5</td>\n",
       "      <td>5</td>\n",
       "      <td>0.4</td>\n",
       "      <td>5</td>\n",
       "    </tr>\n",
       "  </tbody>\n",
       "</table>\n",
       "<p>768 rows × 8 columns</p>\n",
       "</div>"
      ],
      "text/plain": [
       "     rel_compactness  surface_area  wall_area  roof_area  overall_height  \\\n",
       "0               0.98         514.5      294.0     110.25             7.0   \n",
       "1               0.98         514.5      294.0     110.25             7.0   \n",
       "2               0.98         514.5      294.0     110.25             7.0   \n",
       "3               0.98         514.5      294.0     110.25             7.0   \n",
       "4               0.90         563.5      318.5     122.50             7.0   \n",
       "..               ...           ...        ...        ...             ...   \n",
       "763             0.64         784.0      343.0     220.50             3.5   \n",
       "764             0.62         808.5      367.5     220.50             3.5   \n",
       "765             0.62         808.5      367.5     220.50             3.5   \n",
       "766             0.62         808.5      367.5     220.50             3.5   \n",
       "767             0.62         808.5      367.5     220.50             3.5   \n",
       "\n",
       "     orientation  glazing_area  glazing_area_dist  \n",
       "0              2           0.0                  0  \n",
       "1              3           0.0                  0  \n",
       "2              4           0.0                  0  \n",
       "3              5           0.0                  0  \n",
       "4              2           0.0                  0  \n",
       "..           ...           ...                ...  \n",
       "763            5           0.4                  5  \n",
       "764            2           0.4                  5  \n",
       "765            3           0.4                  5  \n",
       "766            4           0.4                  5  \n",
       "767            5           0.4                  5  \n",
       "\n",
       "[768 rows x 8 columns]"
      ]
     },
     "execution_count": 36,
     "metadata": {},
     "output_type": "execute_result"
    }
   ],
   "source": [
    "data = energy.drop(['heating_load', 'cooling_load'], axis=1)\n",
    "data"
   ]
  },
  {
   "cell_type": "code",
   "execution_count": 37,
   "metadata": {},
   "outputs": [
    {
     "data": {
      "text/html": [
       "<div>\n",
       "<style scoped>\n",
       "    .dataframe tbody tr th:only-of-type {\n",
       "        vertical-align: middle;\n",
       "    }\n",
       "\n",
       "    .dataframe tbody tr th {\n",
       "        vertical-align: top;\n",
       "    }\n",
       "\n",
       "    .dataframe thead th {\n",
       "        text-align: right;\n",
       "    }\n",
       "</style>\n",
       "<table border=\"1\" class=\"dataframe\">\n",
       "  <thead>\n",
       "    <tr style=\"text-align: right;\">\n",
       "      <th></th>\n",
       "      <th>rel_compactness</th>\n",
       "      <th>surface_area</th>\n",
       "      <th>wall_area</th>\n",
       "      <th>roof_area</th>\n",
       "      <th>overall_height</th>\n",
       "      <th>orientation</th>\n",
       "      <th>glazing_area</th>\n",
       "      <th>glazing_area_dist</th>\n",
       "    </tr>\n",
       "  </thead>\n",
       "  <tbody>\n",
       "    <tr>\n",
       "      <th>rel_compactness</th>\n",
       "      <td>1.0000</td>\n",
       "      <td>-0.9919</td>\n",
       "      <td>-0.2038</td>\n",
       "      <td>-0.8688</td>\n",
       "      <td>0.8277</td>\n",
       "      <td>0.0</td>\n",
       "      <td>0.000</td>\n",
       "      <td>0.000</td>\n",
       "    </tr>\n",
       "    <tr>\n",
       "      <th>surface_area</th>\n",
       "      <td>-0.9919</td>\n",
       "      <td>1.0000</td>\n",
       "      <td>0.1955</td>\n",
       "      <td>0.8807</td>\n",
       "      <td>-0.8581</td>\n",
       "      <td>0.0</td>\n",
       "      <td>0.000</td>\n",
       "      <td>-0.000</td>\n",
       "    </tr>\n",
       "    <tr>\n",
       "      <th>wall_area</th>\n",
       "      <td>-0.2038</td>\n",
       "      <td>0.1955</td>\n",
       "      <td>1.0000</td>\n",
       "      <td>-0.2923</td>\n",
       "      <td>0.2810</td>\n",
       "      <td>0.0</td>\n",
       "      <td>-0.000</td>\n",
       "      <td>0.000</td>\n",
       "    </tr>\n",
       "    <tr>\n",
       "      <th>roof_area</th>\n",
       "      <td>-0.8688</td>\n",
       "      <td>0.8807</td>\n",
       "      <td>-0.2923</td>\n",
       "      <td>1.0000</td>\n",
       "      <td>-0.9725</td>\n",
       "      <td>0.0</td>\n",
       "      <td>-0.000</td>\n",
       "      <td>-0.000</td>\n",
       "    </tr>\n",
       "    <tr>\n",
       "      <th>overall_height</th>\n",
       "      <td>0.8277</td>\n",
       "      <td>-0.8581</td>\n",
       "      <td>0.2810</td>\n",
       "      <td>-0.9725</td>\n",
       "      <td>1.0000</td>\n",
       "      <td>0.0</td>\n",
       "      <td>0.000</td>\n",
       "      <td>0.000</td>\n",
       "    </tr>\n",
       "    <tr>\n",
       "      <th>orientation</th>\n",
       "      <td>0.0000</td>\n",
       "      <td>0.0000</td>\n",
       "      <td>0.0000</td>\n",
       "      <td>0.0000</td>\n",
       "      <td>0.0000</td>\n",
       "      <td>1.0</td>\n",
       "      <td>0.000</td>\n",
       "      <td>0.000</td>\n",
       "    </tr>\n",
       "    <tr>\n",
       "      <th>glazing_area</th>\n",
       "      <td>0.0000</td>\n",
       "      <td>0.0000</td>\n",
       "      <td>-0.0000</td>\n",
       "      <td>-0.0000</td>\n",
       "      <td>0.0000</td>\n",
       "      <td>0.0</td>\n",
       "      <td>1.000</td>\n",
       "      <td>0.213</td>\n",
       "    </tr>\n",
       "    <tr>\n",
       "      <th>glazing_area_dist</th>\n",
       "      <td>0.0000</td>\n",
       "      <td>-0.0000</td>\n",
       "      <td>0.0000</td>\n",
       "      <td>-0.0000</td>\n",
       "      <td>0.0000</td>\n",
       "      <td>0.0</td>\n",
       "      <td>0.213</td>\n",
       "      <td>1.000</td>\n",
       "    </tr>\n",
       "  </tbody>\n",
       "</table>\n",
       "</div>"
      ],
      "text/plain": [
       "                   rel_compactness  surface_area  wall_area  roof_area  \\\n",
       "rel_compactness             1.0000       -0.9919    -0.2038    -0.8688   \n",
       "surface_area               -0.9919        1.0000     0.1955     0.8807   \n",
       "wall_area                  -0.2038        0.1955     1.0000    -0.2923   \n",
       "roof_area                  -0.8688        0.8807    -0.2923     1.0000   \n",
       "overall_height              0.8277       -0.8581     0.2810    -0.9725   \n",
       "orientation                 0.0000        0.0000     0.0000     0.0000   \n",
       "glazing_area                0.0000        0.0000    -0.0000    -0.0000   \n",
       "glazing_area_dist           0.0000       -0.0000     0.0000    -0.0000   \n",
       "\n",
       "                   overall_height  orientation  glazing_area  \\\n",
       "rel_compactness            0.8277          0.0         0.000   \n",
       "surface_area              -0.8581          0.0         0.000   \n",
       "wall_area                  0.2810          0.0        -0.000   \n",
       "roof_area                 -0.9725          0.0        -0.000   \n",
       "overall_height             1.0000          0.0         0.000   \n",
       "orientation                0.0000          1.0         0.000   \n",
       "glazing_area               0.0000          0.0         1.000   \n",
       "glazing_area_dist          0.0000          0.0         0.213   \n",
       "\n",
       "                   glazing_area_dist  \n",
       "rel_compactness                0.000  \n",
       "surface_area                  -0.000  \n",
       "wall_area                      0.000  \n",
       "roof_area                     -0.000  \n",
       "overall_height                 0.000  \n",
       "orientation                    0.000  \n",
       "glazing_area                   0.213  \n",
       "glazing_area_dist              1.000  "
      ]
     },
     "execution_count": 37,
     "metadata": {},
     "output_type": "execute_result"
    }
   ],
   "source": [
    "correlation_matrix = data.corr()\n",
    "correlation_matrix.round(decimals=4)"
   ]
  },
  {
   "cell_type": "code",
   "execution_count": 38,
   "metadata": {},
   "outputs": [
    {
     "data": {
      "text/html": [
       "<style  type=\"text/css\" >\n",
       "    #T_f6d1ba9c_f5a5_11ea_adc8_f8a2d6efdcberow0_col0 {\n",
       "            background-color:  #b40426;\n",
       "            color:  #f1f1f1;\n",
       "        }    #T_f6d1ba9c_f5a5_11ea_adc8_f8a2d6efdcberow0_col1 {\n",
       "            background-color:  #3b4cc0;\n",
       "            color:  #f1f1f1;\n",
       "        }    #T_f6d1ba9c_f5a5_11ea_adc8_f8a2d6efdcberow0_col2 {\n",
       "            background-color:  #4f69d9;\n",
       "            color:  #000000;\n",
       "        }    #T_f6d1ba9c_f5a5_11ea_adc8_f8a2d6efdcberow0_col3 {\n",
       "            background-color:  #4a63d3;\n",
       "            color:  #f1f1f1;\n",
       "        }    #T_f6d1ba9c_f5a5_11ea_adc8_f8a2d6efdcberow0_col4 {\n",
       "            background-color:  #d24b40;\n",
       "            color:  #f1f1f1;\n",
       "        }    #T_f6d1ba9c_f5a5_11ea_adc8_f8a2d6efdcberow0_col5 {\n",
       "            background-color:  #3b4cc0;\n",
       "            color:  #f1f1f1;\n",
       "        }    #T_f6d1ba9c_f5a5_11ea_adc8_f8a2d6efdcberow0_col6 {\n",
       "            background-color:  #3b4cc0;\n",
       "            color:  #f1f1f1;\n",
       "        }    #T_f6d1ba9c_f5a5_11ea_adc8_f8a2d6efdcberow0_col7 {\n",
       "            background-color:  #3b4cc0;\n",
       "            color:  #f1f1f1;\n",
       "        }    #T_f6d1ba9c_f5a5_11ea_adc8_f8a2d6efdcberow1_col0 {\n",
       "            background-color:  #3b4cc0;\n",
       "            color:  #f1f1f1;\n",
       "        }    #T_f6d1ba9c_f5a5_11ea_adc8_f8a2d6efdcberow1_col1 {\n",
       "            background-color:  #b40426;\n",
       "            color:  #f1f1f1;\n",
       "        }    #T_f6d1ba9c_f5a5_11ea_adc8_f8a2d6efdcberow1_col2 {\n",
       "            background-color:  #b9d0f9;\n",
       "            color:  #000000;\n",
       "        }    #T_f6d1ba9c_f5a5_11ea_adc8_f8a2d6efdcberow1_col3 {\n",
       "            background-color:  #ca3b37;\n",
       "            color:  #f1f1f1;\n",
       "        }    #T_f6d1ba9c_f5a5_11ea_adc8_f8a2d6efdcberow1_col4 {\n",
       "            background-color:  #4b64d5;\n",
       "            color:  #f1f1f1;\n",
       "        }    #T_f6d1ba9c_f5a5_11ea_adc8_f8a2d6efdcberow1_col5 {\n",
       "            background-color:  #3b4cc0;\n",
       "            color:  #f1f1f1;\n",
       "        }    #T_f6d1ba9c_f5a5_11ea_adc8_f8a2d6efdcberow1_col6 {\n",
       "            background-color:  #3b4cc0;\n",
       "            color:  #f1f1f1;\n",
       "        }    #T_f6d1ba9c_f5a5_11ea_adc8_f8a2d6efdcberow1_col7 {\n",
       "            background-color:  #3b4cc0;\n",
       "            color:  #f1f1f1;\n",
       "        }    #T_f6d1ba9c_f5a5_11ea_adc8_f8a2d6efdcberow2_col0 {\n",
       "            background-color:  #bfd3f6;\n",
       "            color:  #000000;\n",
       "        }    #T_f6d1ba9c_f5a5_11ea_adc8_f8a2d6efdcberow2_col1 {\n",
       "            background-color:  #f1ccb8;\n",
       "            color:  #000000;\n",
       "        }    #T_f6d1ba9c_f5a5_11ea_adc8_f8a2d6efdcberow2_col2 {\n",
       "            background-color:  #b40426;\n",
       "            color:  #f1f1f1;\n",
       "        }    #T_f6d1ba9c_f5a5_11ea_adc8_f8a2d6efdcberow2_col3 {\n",
       "            background-color:  #aec9fc;\n",
       "            color:  #000000;\n",
       "        }    #T_f6d1ba9c_f5a5_11ea_adc8_f8a2d6efdcberow2_col4 {\n",
       "            background-color:  #f5c1a9;\n",
       "            color:  #000000;\n",
       "        }    #T_f6d1ba9c_f5a5_11ea_adc8_f8a2d6efdcberow2_col5 {\n",
       "            background-color:  #3b4cc0;\n",
       "            color:  #f1f1f1;\n",
       "        }    #T_f6d1ba9c_f5a5_11ea_adc8_f8a2d6efdcberow2_col6 {\n",
       "            background-color:  #3b4cc0;\n",
       "            color:  #f1f1f1;\n",
       "        }    #T_f6d1ba9c_f5a5_11ea_adc8_f8a2d6efdcberow2_col7 {\n",
       "            background-color:  #3b4cc0;\n",
       "            color:  #f1f1f1;\n",
       "        }    #T_f6d1ba9c_f5a5_11ea_adc8_f8a2d6efdcberow3_col0 {\n",
       "            background-color:  #4c66d6;\n",
       "            color:  #000000;\n",
       "        }    #T_f6d1ba9c_f5a5_11ea_adc8_f8a2d6efdcberow3_col1 {\n",
       "            background-color:  #ca3b37;\n",
       "            color:  #f1f1f1;\n",
       "        }    #T_f6d1ba9c_f5a5_11ea_adc8_f8a2d6efdcberow3_col2 {\n",
       "            background-color:  #3b4cc0;\n",
       "            color:  #f1f1f1;\n",
       "        }    #T_f6d1ba9c_f5a5_11ea_adc8_f8a2d6efdcberow3_col3 {\n",
       "            background-color:  #b40426;\n",
       "            color:  #f1f1f1;\n",
       "        }    #T_f6d1ba9c_f5a5_11ea_adc8_f8a2d6efdcberow3_col4 {\n",
       "            background-color:  #3b4cc0;\n",
       "            color:  #f1f1f1;\n",
       "        }    #T_f6d1ba9c_f5a5_11ea_adc8_f8a2d6efdcberow3_col5 {\n",
       "            background-color:  #3b4cc0;\n",
       "            color:  #f1f1f1;\n",
       "        }    #T_f6d1ba9c_f5a5_11ea_adc8_f8a2d6efdcberow3_col6 {\n",
       "            background-color:  #3b4cc0;\n",
       "            color:  #f1f1f1;\n",
       "        }    #T_f6d1ba9c_f5a5_11ea_adc8_f8a2d6efdcberow3_col7 {\n",
       "            background-color:  #3b4cc0;\n",
       "            color:  #f1f1f1;\n",
       "        }    #T_f6d1ba9c_f5a5_11ea_adc8_f8a2d6efdcberow4_col0 {\n",
       "            background-color:  #d24b40;\n",
       "            color:  #f1f1f1;\n",
       "        }    #T_f6d1ba9c_f5a5_11ea_adc8_f8a2d6efdcberow4_col1 {\n",
       "            background-color:  #4f69d9;\n",
       "            color:  #000000;\n",
       "        }    #T_f6d1ba9c_f5a5_11ea_adc8_f8a2d6efdcberow4_col2 {\n",
       "            background-color:  #cdd9ec;\n",
       "            color:  #000000;\n",
       "        }    #T_f6d1ba9c_f5a5_11ea_adc8_f8a2d6efdcberow4_col3 {\n",
       "            background-color:  #3b4cc0;\n",
       "            color:  #f1f1f1;\n",
       "        }    #T_f6d1ba9c_f5a5_11ea_adc8_f8a2d6efdcberow4_col4 {\n",
       "            background-color:  #b40426;\n",
       "            color:  #f1f1f1;\n",
       "        }    #T_f6d1ba9c_f5a5_11ea_adc8_f8a2d6efdcberow4_col5 {\n",
       "            background-color:  #3b4cc0;\n",
       "            color:  #f1f1f1;\n",
       "        }    #T_f6d1ba9c_f5a5_11ea_adc8_f8a2d6efdcberow4_col6 {\n",
       "            background-color:  #3b4cc0;\n",
       "            color:  #f1f1f1;\n",
       "        }    #T_f6d1ba9c_f5a5_11ea_adc8_f8a2d6efdcberow4_col7 {\n",
       "            background-color:  #3b4cc0;\n",
       "            color:  #f1f1f1;\n",
       "        }    #T_f6d1ba9c_f5a5_11ea_adc8_f8a2d6efdcberow5_col0 {\n",
       "            background-color:  #dcdddd;\n",
       "            color:  #000000;\n",
       "        }    #T_f6d1ba9c_f5a5_11ea_adc8_f8a2d6efdcberow5_col1 {\n",
       "            background-color:  #dcdddd;\n",
       "            color:  #000000;\n",
       "        }    #T_f6d1ba9c_f5a5_11ea_adc8_f8a2d6efdcberow5_col2 {\n",
       "            background-color:  #84a7fc;\n",
       "            color:  #000000;\n",
       "        }    #T_f6d1ba9c_f5a5_11ea_adc8_f8a2d6efdcberow5_col3 {\n",
       "            background-color:  #dbdcde;\n",
       "            color:  #000000;\n",
       "        }    #T_f6d1ba9c_f5a5_11ea_adc8_f8a2d6efdcberow5_col4 {\n",
       "            background-color:  #dbdcde;\n",
       "            color:  #000000;\n",
       "        }    #T_f6d1ba9c_f5a5_11ea_adc8_f8a2d6efdcberow5_col5 {\n",
       "            background-color:  #b40426;\n",
       "            color:  #f1f1f1;\n",
       "        }    #T_f6d1ba9c_f5a5_11ea_adc8_f8a2d6efdcberow5_col6 {\n",
       "            background-color:  #3b4cc0;\n",
       "            color:  #f1f1f1;\n",
       "        }    #T_f6d1ba9c_f5a5_11ea_adc8_f8a2d6efdcberow5_col7 {\n",
       "            background-color:  #3b4cc0;\n",
       "            color:  #f1f1f1;\n",
       "        }    #T_f6d1ba9c_f5a5_11ea_adc8_f8a2d6efdcberow6_col0 {\n",
       "            background-color:  #dcdddd;\n",
       "            color:  #000000;\n",
       "        }    #T_f6d1ba9c_f5a5_11ea_adc8_f8a2d6efdcberow6_col1 {\n",
       "            background-color:  #dcdddd;\n",
       "            color:  #000000;\n",
       "        }    #T_f6d1ba9c_f5a5_11ea_adc8_f8a2d6efdcberow6_col2 {\n",
       "            background-color:  #84a7fc;\n",
       "            color:  #000000;\n",
       "        }    #T_f6d1ba9c_f5a5_11ea_adc8_f8a2d6efdcberow6_col3 {\n",
       "            background-color:  #dbdcde;\n",
       "            color:  #000000;\n",
       "        }    #T_f6d1ba9c_f5a5_11ea_adc8_f8a2d6efdcberow6_col4 {\n",
       "            background-color:  #dbdcde;\n",
       "            color:  #000000;\n",
       "        }    #T_f6d1ba9c_f5a5_11ea_adc8_f8a2d6efdcberow6_col5 {\n",
       "            background-color:  #3b4cc0;\n",
       "            color:  #f1f1f1;\n",
       "        }    #T_f6d1ba9c_f5a5_11ea_adc8_f8a2d6efdcberow6_col6 {\n",
       "            background-color:  #b40426;\n",
       "            color:  #f1f1f1;\n",
       "        }    #T_f6d1ba9c_f5a5_11ea_adc8_f8a2d6efdcberow6_col7 {\n",
       "            background-color:  #80a3fa;\n",
       "            color:  #000000;\n",
       "        }    #T_f6d1ba9c_f5a5_11ea_adc8_f8a2d6efdcberow7_col0 {\n",
       "            background-color:  #dcdddd;\n",
       "            color:  #000000;\n",
       "        }    #T_f6d1ba9c_f5a5_11ea_adc8_f8a2d6efdcberow7_col1 {\n",
       "            background-color:  #dcdddd;\n",
       "            color:  #000000;\n",
       "        }    #T_f6d1ba9c_f5a5_11ea_adc8_f8a2d6efdcberow7_col2 {\n",
       "            background-color:  #84a7fc;\n",
       "            color:  #000000;\n",
       "        }    #T_f6d1ba9c_f5a5_11ea_adc8_f8a2d6efdcberow7_col3 {\n",
       "            background-color:  #dbdcde;\n",
       "            color:  #000000;\n",
       "        }    #T_f6d1ba9c_f5a5_11ea_adc8_f8a2d6efdcberow7_col4 {\n",
       "            background-color:  #dbdcde;\n",
       "            color:  #000000;\n",
       "        }    #T_f6d1ba9c_f5a5_11ea_adc8_f8a2d6efdcberow7_col5 {\n",
       "            background-color:  #3b4cc0;\n",
       "            color:  #f1f1f1;\n",
       "        }    #T_f6d1ba9c_f5a5_11ea_adc8_f8a2d6efdcberow7_col6 {\n",
       "            background-color:  #80a3fa;\n",
       "            color:  #000000;\n",
       "        }    #T_f6d1ba9c_f5a5_11ea_adc8_f8a2d6efdcberow7_col7 {\n",
       "            background-color:  #b40426;\n",
       "            color:  #f1f1f1;\n",
       "        }</style><table id=\"T_f6d1ba9c_f5a5_11ea_adc8_f8a2d6efdcbe\" ><thead>    <tr>        <th class=\"blank level0\" ></th>        <th class=\"col_heading level0 col0\" >rel_compactness</th>        <th class=\"col_heading level0 col1\" >surface_area</th>        <th class=\"col_heading level0 col2\" >wall_area</th>        <th class=\"col_heading level0 col3\" >roof_area</th>        <th class=\"col_heading level0 col4\" >overall_height</th>        <th class=\"col_heading level0 col5\" >orientation</th>        <th class=\"col_heading level0 col6\" >glazing_area</th>        <th class=\"col_heading level0 col7\" >glazing_area_dist</th>    </tr></thead><tbody>\n",
       "                <tr>\n",
       "                        <th id=\"T_f6d1ba9c_f5a5_11ea_adc8_f8a2d6efdcbelevel0_row0\" class=\"row_heading level0 row0\" >rel_compactness</th>\n",
       "                        <td id=\"T_f6d1ba9c_f5a5_11ea_adc8_f8a2d6efdcberow0_col0\" class=\"data row0 col0\" >1.0000</td>\n",
       "                        <td id=\"T_f6d1ba9c_f5a5_11ea_adc8_f8a2d6efdcberow0_col1\" class=\"data row0 col1\" >-0.9919</td>\n",
       "                        <td id=\"T_f6d1ba9c_f5a5_11ea_adc8_f8a2d6efdcberow0_col2\" class=\"data row0 col2\" >-0.2038</td>\n",
       "                        <td id=\"T_f6d1ba9c_f5a5_11ea_adc8_f8a2d6efdcberow0_col3\" class=\"data row0 col3\" >-0.8688</td>\n",
       "                        <td id=\"T_f6d1ba9c_f5a5_11ea_adc8_f8a2d6efdcberow0_col4\" class=\"data row0 col4\" >0.8277</td>\n",
       "                        <td id=\"T_f6d1ba9c_f5a5_11ea_adc8_f8a2d6efdcberow0_col5\" class=\"data row0 col5\" >0.0000</td>\n",
       "                        <td id=\"T_f6d1ba9c_f5a5_11ea_adc8_f8a2d6efdcberow0_col6\" class=\"data row0 col6\" >0.0000</td>\n",
       "                        <td id=\"T_f6d1ba9c_f5a5_11ea_adc8_f8a2d6efdcberow0_col7\" class=\"data row0 col7\" >0.0000</td>\n",
       "            </tr>\n",
       "            <tr>\n",
       "                        <th id=\"T_f6d1ba9c_f5a5_11ea_adc8_f8a2d6efdcbelevel0_row1\" class=\"row_heading level0 row1\" >surface_area</th>\n",
       "                        <td id=\"T_f6d1ba9c_f5a5_11ea_adc8_f8a2d6efdcberow1_col0\" class=\"data row1 col0\" >-0.9919</td>\n",
       "                        <td id=\"T_f6d1ba9c_f5a5_11ea_adc8_f8a2d6efdcberow1_col1\" class=\"data row1 col1\" >1.0000</td>\n",
       "                        <td id=\"T_f6d1ba9c_f5a5_11ea_adc8_f8a2d6efdcberow1_col2\" class=\"data row1 col2\" >0.1955</td>\n",
       "                        <td id=\"T_f6d1ba9c_f5a5_11ea_adc8_f8a2d6efdcberow1_col3\" class=\"data row1 col3\" >0.8807</td>\n",
       "                        <td id=\"T_f6d1ba9c_f5a5_11ea_adc8_f8a2d6efdcberow1_col4\" class=\"data row1 col4\" >-0.8581</td>\n",
       "                        <td id=\"T_f6d1ba9c_f5a5_11ea_adc8_f8a2d6efdcberow1_col5\" class=\"data row1 col5\" >0.0000</td>\n",
       "                        <td id=\"T_f6d1ba9c_f5a5_11ea_adc8_f8a2d6efdcberow1_col6\" class=\"data row1 col6\" >0.0000</td>\n",
       "                        <td id=\"T_f6d1ba9c_f5a5_11ea_adc8_f8a2d6efdcberow1_col7\" class=\"data row1 col7\" >-0.0000</td>\n",
       "            </tr>\n",
       "            <tr>\n",
       "                        <th id=\"T_f6d1ba9c_f5a5_11ea_adc8_f8a2d6efdcbelevel0_row2\" class=\"row_heading level0 row2\" >wall_area</th>\n",
       "                        <td id=\"T_f6d1ba9c_f5a5_11ea_adc8_f8a2d6efdcberow2_col0\" class=\"data row2 col0\" >-0.2038</td>\n",
       "                        <td id=\"T_f6d1ba9c_f5a5_11ea_adc8_f8a2d6efdcberow2_col1\" class=\"data row2 col1\" >0.1955</td>\n",
       "                        <td id=\"T_f6d1ba9c_f5a5_11ea_adc8_f8a2d6efdcberow2_col2\" class=\"data row2 col2\" >1.0000</td>\n",
       "                        <td id=\"T_f6d1ba9c_f5a5_11ea_adc8_f8a2d6efdcberow2_col3\" class=\"data row2 col3\" >-0.2923</td>\n",
       "                        <td id=\"T_f6d1ba9c_f5a5_11ea_adc8_f8a2d6efdcberow2_col4\" class=\"data row2 col4\" >0.2810</td>\n",
       "                        <td id=\"T_f6d1ba9c_f5a5_11ea_adc8_f8a2d6efdcberow2_col5\" class=\"data row2 col5\" >0.0000</td>\n",
       "                        <td id=\"T_f6d1ba9c_f5a5_11ea_adc8_f8a2d6efdcberow2_col6\" class=\"data row2 col6\" >-0.0000</td>\n",
       "                        <td id=\"T_f6d1ba9c_f5a5_11ea_adc8_f8a2d6efdcberow2_col7\" class=\"data row2 col7\" >0.0000</td>\n",
       "            </tr>\n",
       "            <tr>\n",
       "                        <th id=\"T_f6d1ba9c_f5a5_11ea_adc8_f8a2d6efdcbelevel0_row3\" class=\"row_heading level0 row3\" >roof_area</th>\n",
       "                        <td id=\"T_f6d1ba9c_f5a5_11ea_adc8_f8a2d6efdcberow3_col0\" class=\"data row3 col0\" >-0.8688</td>\n",
       "                        <td id=\"T_f6d1ba9c_f5a5_11ea_adc8_f8a2d6efdcberow3_col1\" class=\"data row3 col1\" >0.8807</td>\n",
       "                        <td id=\"T_f6d1ba9c_f5a5_11ea_adc8_f8a2d6efdcberow3_col2\" class=\"data row3 col2\" >-0.2923</td>\n",
       "                        <td id=\"T_f6d1ba9c_f5a5_11ea_adc8_f8a2d6efdcberow3_col3\" class=\"data row3 col3\" >1.0000</td>\n",
       "                        <td id=\"T_f6d1ba9c_f5a5_11ea_adc8_f8a2d6efdcberow3_col4\" class=\"data row3 col4\" >-0.9725</td>\n",
       "                        <td id=\"T_f6d1ba9c_f5a5_11ea_adc8_f8a2d6efdcberow3_col5\" class=\"data row3 col5\" >0.0000</td>\n",
       "                        <td id=\"T_f6d1ba9c_f5a5_11ea_adc8_f8a2d6efdcberow3_col6\" class=\"data row3 col6\" >-0.0000</td>\n",
       "                        <td id=\"T_f6d1ba9c_f5a5_11ea_adc8_f8a2d6efdcberow3_col7\" class=\"data row3 col7\" >-0.0000</td>\n",
       "            </tr>\n",
       "            <tr>\n",
       "                        <th id=\"T_f6d1ba9c_f5a5_11ea_adc8_f8a2d6efdcbelevel0_row4\" class=\"row_heading level0 row4\" >overall_height</th>\n",
       "                        <td id=\"T_f6d1ba9c_f5a5_11ea_adc8_f8a2d6efdcberow4_col0\" class=\"data row4 col0\" >0.8277</td>\n",
       "                        <td id=\"T_f6d1ba9c_f5a5_11ea_adc8_f8a2d6efdcberow4_col1\" class=\"data row4 col1\" >-0.8581</td>\n",
       "                        <td id=\"T_f6d1ba9c_f5a5_11ea_adc8_f8a2d6efdcberow4_col2\" class=\"data row4 col2\" >0.2810</td>\n",
       "                        <td id=\"T_f6d1ba9c_f5a5_11ea_adc8_f8a2d6efdcberow4_col3\" class=\"data row4 col3\" >-0.9725</td>\n",
       "                        <td id=\"T_f6d1ba9c_f5a5_11ea_adc8_f8a2d6efdcberow4_col4\" class=\"data row4 col4\" >1.0000</td>\n",
       "                        <td id=\"T_f6d1ba9c_f5a5_11ea_adc8_f8a2d6efdcberow4_col5\" class=\"data row4 col5\" >0.0000</td>\n",
       "                        <td id=\"T_f6d1ba9c_f5a5_11ea_adc8_f8a2d6efdcberow4_col6\" class=\"data row4 col6\" >0.0000</td>\n",
       "                        <td id=\"T_f6d1ba9c_f5a5_11ea_adc8_f8a2d6efdcberow4_col7\" class=\"data row4 col7\" >0.0000</td>\n",
       "            </tr>\n",
       "            <tr>\n",
       "                        <th id=\"T_f6d1ba9c_f5a5_11ea_adc8_f8a2d6efdcbelevel0_row5\" class=\"row_heading level0 row5\" >orientation</th>\n",
       "                        <td id=\"T_f6d1ba9c_f5a5_11ea_adc8_f8a2d6efdcberow5_col0\" class=\"data row5 col0\" >0.0000</td>\n",
       "                        <td id=\"T_f6d1ba9c_f5a5_11ea_adc8_f8a2d6efdcberow5_col1\" class=\"data row5 col1\" >0.0000</td>\n",
       "                        <td id=\"T_f6d1ba9c_f5a5_11ea_adc8_f8a2d6efdcberow5_col2\" class=\"data row5 col2\" >0.0000</td>\n",
       "                        <td id=\"T_f6d1ba9c_f5a5_11ea_adc8_f8a2d6efdcberow5_col3\" class=\"data row5 col3\" >0.0000</td>\n",
       "                        <td id=\"T_f6d1ba9c_f5a5_11ea_adc8_f8a2d6efdcberow5_col4\" class=\"data row5 col4\" >0.0000</td>\n",
       "                        <td id=\"T_f6d1ba9c_f5a5_11ea_adc8_f8a2d6efdcberow5_col5\" class=\"data row5 col5\" >1.0000</td>\n",
       "                        <td id=\"T_f6d1ba9c_f5a5_11ea_adc8_f8a2d6efdcberow5_col6\" class=\"data row5 col6\" >0.0000</td>\n",
       "                        <td id=\"T_f6d1ba9c_f5a5_11ea_adc8_f8a2d6efdcberow5_col7\" class=\"data row5 col7\" >0.0000</td>\n",
       "            </tr>\n",
       "            <tr>\n",
       "                        <th id=\"T_f6d1ba9c_f5a5_11ea_adc8_f8a2d6efdcbelevel0_row6\" class=\"row_heading level0 row6\" >glazing_area</th>\n",
       "                        <td id=\"T_f6d1ba9c_f5a5_11ea_adc8_f8a2d6efdcberow6_col0\" class=\"data row6 col0\" >0.0000</td>\n",
       "                        <td id=\"T_f6d1ba9c_f5a5_11ea_adc8_f8a2d6efdcberow6_col1\" class=\"data row6 col1\" >0.0000</td>\n",
       "                        <td id=\"T_f6d1ba9c_f5a5_11ea_adc8_f8a2d6efdcberow6_col2\" class=\"data row6 col2\" >-0.0000</td>\n",
       "                        <td id=\"T_f6d1ba9c_f5a5_11ea_adc8_f8a2d6efdcberow6_col3\" class=\"data row6 col3\" >-0.0000</td>\n",
       "                        <td id=\"T_f6d1ba9c_f5a5_11ea_adc8_f8a2d6efdcberow6_col4\" class=\"data row6 col4\" >0.0000</td>\n",
       "                        <td id=\"T_f6d1ba9c_f5a5_11ea_adc8_f8a2d6efdcberow6_col5\" class=\"data row6 col5\" >0.0000</td>\n",
       "                        <td id=\"T_f6d1ba9c_f5a5_11ea_adc8_f8a2d6efdcberow6_col6\" class=\"data row6 col6\" >1.0000</td>\n",
       "                        <td id=\"T_f6d1ba9c_f5a5_11ea_adc8_f8a2d6efdcberow6_col7\" class=\"data row6 col7\" >0.2130</td>\n",
       "            </tr>\n",
       "            <tr>\n",
       "                        <th id=\"T_f6d1ba9c_f5a5_11ea_adc8_f8a2d6efdcbelevel0_row7\" class=\"row_heading level0 row7\" >glazing_area_dist</th>\n",
       "                        <td id=\"T_f6d1ba9c_f5a5_11ea_adc8_f8a2d6efdcberow7_col0\" class=\"data row7 col0\" >0.0000</td>\n",
       "                        <td id=\"T_f6d1ba9c_f5a5_11ea_adc8_f8a2d6efdcberow7_col1\" class=\"data row7 col1\" >-0.0000</td>\n",
       "                        <td id=\"T_f6d1ba9c_f5a5_11ea_adc8_f8a2d6efdcberow7_col2\" class=\"data row7 col2\" >0.0000</td>\n",
       "                        <td id=\"T_f6d1ba9c_f5a5_11ea_adc8_f8a2d6efdcberow7_col3\" class=\"data row7 col3\" >-0.0000</td>\n",
       "                        <td id=\"T_f6d1ba9c_f5a5_11ea_adc8_f8a2d6efdcberow7_col4\" class=\"data row7 col4\" >0.0000</td>\n",
       "                        <td id=\"T_f6d1ba9c_f5a5_11ea_adc8_f8a2d6efdcberow7_col5\" class=\"data row7 col5\" >0.0000</td>\n",
       "                        <td id=\"T_f6d1ba9c_f5a5_11ea_adc8_f8a2d6efdcberow7_col6\" class=\"data row7 col6\" >0.2130</td>\n",
       "                        <td id=\"T_f6d1ba9c_f5a5_11ea_adc8_f8a2d6efdcberow7_col7\" class=\"data row7 col7\" >1.0000</td>\n",
       "            </tr>\n",
       "    </tbody></table>"
      ],
      "text/plain": [
       "<pandas.io.formats.style.Styler at 0x2115de4e988>"
      ]
     },
     "execution_count": 38,
     "metadata": {},
     "output_type": "execute_result"
    }
   ],
   "source": [
    "correlation_matrix.style.background_gradient(cmap='coolwarm').set_precision(4)"
   ]
  },
  {
   "cell_type": "markdown",
   "metadata": {},
   "source": [
    "Omitting highly correlated features"
   ]
  },
  {
   "cell_type": "code",
   "execution_count": 39,
   "metadata": {},
   "outputs": [
    {
     "name": "stdout",
     "output_type": "stream",
     "text": [
      "Highly Correlated Features:  {'roof_area', 'heating_load', 'surface_area', 'overall_height'}\n"
     ]
    }
   ],
   "source": [
    "correlated_features = set()\n",
    "\n",
    "for i in range(len(correlation_matrix.columns)):\n",
    "    for j in range(i):\n",
    "        if abs(correlation_matrix.iloc[i, j]) > 0.8:\n",
    "            colname = correlation_matrix.columns[i]\n",
    "            correlated_features.add(colname)\n",
    "correlated_features.add('heating_load')\n",
    "            \n",
    "print(\"Highly Correlated Features: \", correlated_features)"
   ]
  },
  {
   "cell_type": "markdown",
   "metadata": {},
   "source": [
    "Get new Input and Target data"
   ]
  },
  {
   "cell_type": "code",
   "execution_count": 40,
   "metadata": {},
   "outputs": [
    {
     "data": {
      "text/html": [
       "<div>\n",
       "<style scoped>\n",
       "    .dataframe tbody tr th:only-of-type {\n",
       "        vertical-align: middle;\n",
       "    }\n",
       "\n",
       "    .dataframe tbody tr th {\n",
       "        vertical-align: top;\n",
       "    }\n",
       "\n",
       "    .dataframe thead th {\n",
       "        text-align: right;\n",
       "    }\n",
       "</style>\n",
       "<table border=\"1\" class=\"dataframe\">\n",
       "  <thead>\n",
       "    <tr style=\"text-align: right;\">\n",
       "      <th></th>\n",
       "      <th>rel_compactness</th>\n",
       "      <th>wall_area</th>\n",
       "      <th>orientation</th>\n",
       "      <th>glazing_area</th>\n",
       "      <th>glazing_area_dist</th>\n",
       "      <th>cooling_load</th>\n",
       "    </tr>\n",
       "  </thead>\n",
       "  <tbody>\n",
       "    <tr>\n",
       "      <th>0</th>\n",
       "      <td>0.98</td>\n",
       "      <td>294.0</td>\n",
       "      <td>2</td>\n",
       "      <td>0.0</td>\n",
       "      <td>0</td>\n",
       "      <td>21.33</td>\n",
       "    </tr>\n",
       "    <tr>\n",
       "      <th>1</th>\n",
       "      <td>0.98</td>\n",
       "      <td>294.0</td>\n",
       "      <td>3</td>\n",
       "      <td>0.0</td>\n",
       "      <td>0</td>\n",
       "      <td>21.33</td>\n",
       "    </tr>\n",
       "    <tr>\n",
       "      <th>2</th>\n",
       "      <td>0.98</td>\n",
       "      <td>294.0</td>\n",
       "      <td>4</td>\n",
       "      <td>0.0</td>\n",
       "      <td>0</td>\n",
       "      <td>21.33</td>\n",
       "    </tr>\n",
       "    <tr>\n",
       "      <th>3</th>\n",
       "      <td>0.98</td>\n",
       "      <td>294.0</td>\n",
       "      <td>5</td>\n",
       "      <td>0.0</td>\n",
       "      <td>0</td>\n",
       "      <td>21.33</td>\n",
       "    </tr>\n",
       "    <tr>\n",
       "      <th>4</th>\n",
       "      <td>0.90</td>\n",
       "      <td>318.5</td>\n",
       "      <td>2</td>\n",
       "      <td>0.0</td>\n",
       "      <td>0</td>\n",
       "      <td>28.28</td>\n",
       "    </tr>\n",
       "    <tr>\n",
       "      <th>...</th>\n",
       "      <td>...</td>\n",
       "      <td>...</td>\n",
       "      <td>...</td>\n",
       "      <td>...</td>\n",
       "      <td>...</td>\n",
       "      <td>...</td>\n",
       "    </tr>\n",
       "    <tr>\n",
       "      <th>763</th>\n",
       "      <td>0.64</td>\n",
       "      <td>343.0</td>\n",
       "      <td>5</td>\n",
       "      <td>0.4</td>\n",
       "      <td>5</td>\n",
       "      <td>21.40</td>\n",
       "    </tr>\n",
       "    <tr>\n",
       "      <th>764</th>\n",
       "      <td>0.62</td>\n",
       "      <td>367.5</td>\n",
       "      <td>2</td>\n",
       "      <td>0.4</td>\n",
       "      <td>5</td>\n",
       "      <td>16.88</td>\n",
       "    </tr>\n",
       "    <tr>\n",
       "      <th>765</th>\n",
       "      <td>0.62</td>\n",
       "      <td>367.5</td>\n",
       "      <td>3</td>\n",
       "      <td>0.4</td>\n",
       "      <td>5</td>\n",
       "      <td>17.11</td>\n",
       "    </tr>\n",
       "    <tr>\n",
       "      <th>766</th>\n",
       "      <td>0.62</td>\n",
       "      <td>367.5</td>\n",
       "      <td>4</td>\n",
       "      <td>0.4</td>\n",
       "      <td>5</td>\n",
       "      <td>16.61</td>\n",
       "    </tr>\n",
       "    <tr>\n",
       "      <th>767</th>\n",
       "      <td>0.62</td>\n",
       "      <td>367.5</td>\n",
       "      <td>5</td>\n",
       "      <td>0.4</td>\n",
       "      <td>5</td>\n",
       "      <td>16.03</td>\n",
       "    </tr>\n",
       "  </tbody>\n",
       "</table>\n",
       "<p>768 rows × 6 columns</p>\n",
       "</div>"
      ],
      "text/plain": [
       "     rel_compactness  wall_area  orientation  glazing_area  glazing_area_dist  \\\n",
       "0               0.98      294.0            2           0.0                  0   \n",
       "1               0.98      294.0            3           0.0                  0   \n",
       "2               0.98      294.0            4           0.0                  0   \n",
       "3               0.98      294.0            5           0.0                  0   \n",
       "4               0.90      318.5            2           0.0                  0   \n",
       "..               ...        ...          ...           ...                ...   \n",
       "763             0.64      343.0            5           0.4                  5   \n",
       "764             0.62      367.5            2           0.4                  5   \n",
       "765             0.62      367.5            3           0.4                  5   \n",
       "766             0.62      367.5            4           0.4                  5   \n",
       "767             0.62      367.5            5           0.4                  5   \n",
       "\n",
       "     cooling_load  \n",
       "0           21.33  \n",
       "1           21.33  \n",
       "2           21.33  \n",
       "3           21.33  \n",
       "4           28.28  \n",
       "..            ...  \n",
       "763         21.40  \n",
       "764         16.88  \n",
       "765         17.11  \n",
       "766         16.61  \n",
       "767         16.03  \n",
       "\n",
       "[768 rows x 6 columns]"
      ]
     },
     "execution_count": 40,
     "metadata": {},
     "output_type": "execute_result"
    }
   ],
   "source": [
    "req_data = energy.drop(list(correlated_features), axis=1)\n",
    "req_data"
   ]
  },
  {
   "cell_type": "code",
   "execution_count": 41,
   "metadata": {},
   "outputs": [],
   "source": [
    "X = req_data.drop(['cooling_load'], axis=1)\n",
    "target = req_data['cooling_load']"
   ]
  },
  {
   "cell_type": "code",
   "execution_count": 42,
   "metadata": {},
   "outputs": [
    {
     "data": {
      "text/html": [
       "<div>\n",
       "<style scoped>\n",
       "    .dataframe tbody tr th:only-of-type {\n",
       "        vertical-align: middle;\n",
       "    }\n",
       "\n",
       "    .dataframe tbody tr th {\n",
       "        vertical-align: top;\n",
       "    }\n",
       "\n",
       "    .dataframe thead th {\n",
       "        text-align: right;\n",
       "    }\n",
       "</style>\n",
       "<table border=\"1\" class=\"dataframe\">\n",
       "  <thead>\n",
       "    <tr style=\"text-align: right;\">\n",
       "      <th></th>\n",
       "      <th>rel_compactness</th>\n",
       "      <th>wall_area</th>\n",
       "      <th>orientation</th>\n",
       "      <th>glazing_area</th>\n",
       "      <th>glazing_area_dist</th>\n",
       "    </tr>\n",
       "  </thead>\n",
       "  <tbody>\n",
       "    <tr>\n",
       "      <th>0</th>\n",
       "      <td>0.98</td>\n",
       "      <td>294.0</td>\n",
       "      <td>2</td>\n",
       "      <td>0.0</td>\n",
       "      <td>0</td>\n",
       "    </tr>\n",
       "    <tr>\n",
       "      <th>1</th>\n",
       "      <td>0.98</td>\n",
       "      <td>294.0</td>\n",
       "      <td>3</td>\n",
       "      <td>0.0</td>\n",
       "      <td>0</td>\n",
       "    </tr>\n",
       "    <tr>\n",
       "      <th>2</th>\n",
       "      <td>0.98</td>\n",
       "      <td>294.0</td>\n",
       "      <td>4</td>\n",
       "      <td>0.0</td>\n",
       "      <td>0</td>\n",
       "    </tr>\n",
       "    <tr>\n",
       "      <th>3</th>\n",
       "      <td>0.98</td>\n",
       "      <td>294.0</td>\n",
       "      <td>5</td>\n",
       "      <td>0.0</td>\n",
       "      <td>0</td>\n",
       "    </tr>\n",
       "    <tr>\n",
       "      <th>4</th>\n",
       "      <td>0.90</td>\n",
       "      <td>318.5</td>\n",
       "      <td>2</td>\n",
       "      <td>0.0</td>\n",
       "      <td>0</td>\n",
       "    </tr>\n",
       "    <tr>\n",
       "      <th>...</th>\n",
       "      <td>...</td>\n",
       "      <td>...</td>\n",
       "      <td>...</td>\n",
       "      <td>...</td>\n",
       "      <td>...</td>\n",
       "    </tr>\n",
       "    <tr>\n",
       "      <th>763</th>\n",
       "      <td>0.64</td>\n",
       "      <td>343.0</td>\n",
       "      <td>5</td>\n",
       "      <td>0.4</td>\n",
       "      <td>5</td>\n",
       "    </tr>\n",
       "    <tr>\n",
       "      <th>764</th>\n",
       "      <td>0.62</td>\n",
       "      <td>367.5</td>\n",
       "      <td>2</td>\n",
       "      <td>0.4</td>\n",
       "      <td>5</td>\n",
       "    </tr>\n",
       "    <tr>\n",
       "      <th>765</th>\n",
       "      <td>0.62</td>\n",
       "      <td>367.5</td>\n",
       "      <td>3</td>\n",
       "      <td>0.4</td>\n",
       "      <td>5</td>\n",
       "    </tr>\n",
       "    <tr>\n",
       "      <th>766</th>\n",
       "      <td>0.62</td>\n",
       "      <td>367.5</td>\n",
       "      <td>4</td>\n",
       "      <td>0.4</td>\n",
       "      <td>5</td>\n",
       "    </tr>\n",
       "    <tr>\n",
       "      <th>767</th>\n",
       "      <td>0.62</td>\n",
       "      <td>367.5</td>\n",
       "      <td>5</td>\n",
       "      <td>0.4</td>\n",
       "      <td>5</td>\n",
       "    </tr>\n",
       "  </tbody>\n",
       "</table>\n",
       "<p>768 rows × 5 columns</p>\n",
       "</div>"
      ],
      "text/plain": [
       "     rel_compactness  wall_area  orientation  glazing_area  glazing_area_dist\n",
       "0               0.98      294.0            2           0.0                  0\n",
       "1               0.98      294.0            3           0.0                  0\n",
       "2               0.98      294.0            4           0.0                  0\n",
       "3               0.98      294.0            5           0.0                  0\n",
       "4               0.90      318.5            2           0.0                  0\n",
       "..               ...        ...          ...           ...                ...\n",
       "763             0.64      343.0            5           0.4                  5\n",
       "764             0.62      367.5            2           0.4                  5\n",
       "765             0.62      367.5            3           0.4                  5\n",
       "766             0.62      367.5            4           0.4                  5\n",
       "767             0.62      367.5            5           0.4                  5\n",
       "\n",
       "[768 rows x 5 columns]"
      ]
     },
     "execution_count": 42,
     "metadata": {},
     "output_type": "execute_result"
    }
   ],
   "source": [
    "X"
   ]
  },
  {
   "cell_type": "code",
   "execution_count": 43,
   "metadata": {},
   "outputs": [
    {
     "data": {
      "text/plain": [
       "0      21.33\n",
       "1      21.33\n",
       "2      21.33\n",
       "3      21.33\n",
       "4      28.28\n",
       "       ...  \n",
       "763    21.40\n",
       "764    16.88\n",
       "765    17.11\n",
       "766    16.61\n",
       "767    16.03\n",
       "Name: cooling_load, Length: 768, dtype: float64"
      ]
     },
     "execution_count": 43,
     "metadata": {},
     "output_type": "execute_result"
    }
   ],
   "source": [
    "target"
   ]
  },
  {
   "cell_type": "markdown",
   "metadata": {},
   "source": [
    "\n",
    "#### Build a model to predict the Cooling Load of Heating equipment."
   ]
  },
  {
   "cell_type": "markdown",
   "metadata": {},
   "source": [
    "Feature Selection and Model Building"
   ]
  },
  {
   "cell_type": "code",
   "execution_count": 44,
   "metadata": {},
   "outputs": [],
   "source": [
    "model = ExtraTreesRegressor()"
   ]
  },
  {
   "cell_type": "code",
   "execution_count": 45,
   "metadata": {},
   "outputs": [],
   "source": [
    "from sklearn.feature_selection import RFECV"
   ]
  },
  {
   "cell_type": "markdown",
   "metadata": {},
   "source": [
    "#### ABOUT RFECV\n",
    "\n",
    "Feature ranking with recursive feature elimination and cross-validated selection of the best number of features.\n",
    "\n",
    "<img src='Pictures/14.png'/>\n",
    "\n",
    "(Courtesy: https://scikit-learn.org/stable/modules/generated/sklearn.feature_selection.RFECV.html)"
   ]
  },
  {
   "cell_type": "code",
   "execution_count": 46,
   "metadata": {},
   "outputs": [],
   "source": [
    "rfecv = RFECV(model, step=1)"
   ]
  },
  {
   "cell_type": "code",
   "execution_count": 47,
   "metadata": {},
   "outputs": [],
   "source": [
    "fit = rfecv.fit(X, target)"
   ]
  },
  {
   "cell_type": "code",
   "execution_count": 48,
   "metadata": {},
   "outputs": [
    {
     "name": "stdout",
     "output_type": "stream",
     "text": [
      "Optimal number of features: 3\n"
     ]
    }
   ],
   "source": [
    "print('Optimal number of features: {}'.format(rfecv.n_features_))"
   ]
  },
  {
   "cell_type": "markdown",
   "metadata": {},
   "source": [
    "### Plot the accuracy obtained with every number of features used\n",
    "\n",
    ">From the plot we can identify how many features has to be selected (instead of explicity choosing a value without prior knowledge of dataset).\n",
    "\n",
    "(Courtesy: https://towardsdatascience.com/feature-selection-in-python-recursive-feature-elimination-19f1c39b8d15)"
   ]
  },
  {
   "cell_type": "code",
   "execution_count": 49,
   "metadata": {
    "scrolled": false
   },
   "outputs": [
    {
     "data": {
      "image/png": "[encoded data removed]",
      "text/plain": [
       "<Figure size 1152x648 with 1 Axes>"
      ]
     },
     "metadata": {
      "needs_background": "light"
     },
     "output_type": "display_data"
    }
   ],
   "source": [
    "plt.figure(figsize=(16, 9))\n",
    "\n",
    "plt.title('Recursive Feature Elimination with Cross-Validation', fontsize=18, fontweight='bold', pad=20)\n",
    "plt.xlabel('Number of features Choosen', fontsize=14, labelpad=20)\n",
    "plt.ylabel('% Correct Classification', fontsize=14, labelpad=20)\n",
    "plt.plot(range(1, len(rfecv.grid_scores_) + 1), rfecv.grid_scores_, color='#303F9F', linewidth=3)\n",
    "\n",
    "plt.show()"
   ]
  },
  {
   "cell_type": "code",
   "execution_count": 50,
   "metadata": {},
   "outputs": [
    {
     "data": {
      "text/plain": [
       "array([0.650952 , 0.2982751, 0.0507729])"
      ]
     },
     "execution_count": 50,
     "metadata": {},
     "output_type": "execute_result"
    }
   ],
   "source": [
    "rfecv.estimator_.feature_importances_"
   ]
  },
  {
   "cell_type": "code",
   "execution_count": 51,
   "metadata": {},
   "outputs": [
    {
     "data": {
      "text/plain": [
       "array([ True,  True, False,  True, False])"
      ]
     },
     "execution_count": 51,
     "metadata": {},
     "output_type": "execute_result"
    }
   ],
   "source": [
    "# Selected Features\n",
    "rfecv.support_"
   ]
  },
  {
   "cell_type": "code",
   "execution_count": 52,
   "metadata": {},
   "outputs": [
    {
     "name": "stdout",
     "output_type": "stream",
     "text": [
      "Selected Features:\n",
      "\n",
      "rel_compactness\n",
      "wall_area\n",
      "glazing_area\n"
     ]
    }
   ],
   "source": [
    "selected_features = [each_feature for each_feature, status in zip(X.columns, rfecv.support_) if status == True]\n",
    "print('Selected Features:\\n', *selected_features, sep=\"\\n\")"
   ]
  },
  {
   "cell_type": "code",
   "execution_count": 53,
   "metadata": {},
   "outputs": [
    {
     "name": "stdout",
     "output_type": "stream",
     "text": [
      "rel_compactness --- ( 1 )\n",
      "wall_area --- ( 1 )\n",
      "orientation --- ( 3 )\n",
      "glazing_area --- ( 1 )\n",
      "glazing_area_dist --- ( 2 )\n"
     ]
    }
   ],
   "source": [
    "for feature, value in zip(X.columns, rfecv.ranking_):\n",
    "    print(feature, \"--- (\", value, \")\")"
   ]
  },
  {
   "cell_type": "code",
   "execution_count": 54,
   "metadata": {},
   "outputs": [
    {
     "data": {
      "text/plain": [
       "[0.6509520012361241, 0.2982751010653679, 0.050772897698508]"
      ]
     },
     "execution_count": 54,
     "metadata": {},
     "output_type": "execute_result"
    }
   ],
   "source": [
    "imp_values = list(rfecv.estimator_.feature_importances_)\n",
    "imp_values"
   ]
  },
  {
   "cell_type": "code",
   "execution_count": 55,
   "metadata": {},
   "outputs": [
    {
     "data": {
      "text/plain": [
       "[0.050772897698508, 0.2982751010653679, 0.6509520012361241]"
      ]
     },
     "execution_count": 55,
     "metadata": {},
     "output_type": "execute_result"
    }
   ],
   "source": [
    "imp_values.reverse()\n",
    "imp_values"
   ]
  },
  {
   "cell_type": "code",
   "execution_count": 56,
   "metadata": {},
   "outputs": [
    {
     "data": {
      "text/plain": [
       "[0.6509520012361241, 0.2982751010653679, 0, 0.050772897698508, 0]"
      ]
     },
     "execution_count": 56,
     "metadata": {},
     "output_type": "execute_result"
    }
   ],
   "source": [
    "importance = []\n",
    "for value in fit.support_:\n",
    "    if value == True:\n",
    "        importance.append(imp_values.pop())\n",
    "    else:\n",
    "        importance.append(0)\n",
    "\n",
    "importance"
   ]
  },
  {
   "cell_type": "code",
   "execution_count": 57,
   "metadata": {},
   "outputs": [
    {
     "data": {
      "text/html": [
       "<div>\n",
       "<style scoped>\n",
       "    .dataframe tbody tr th:only-of-type {\n",
       "        vertical-align: middle;\n",
       "    }\n",
       "\n",
       "    .dataframe tbody tr th {\n",
       "        vertical-align: top;\n",
       "    }\n",
       "\n",
       "    .dataframe thead th {\n",
       "        text-align: right;\n",
       "    }\n",
       "</style>\n",
       "<table border=\"1\" class=\"dataframe\">\n",
       "  <thead>\n",
       "    <tr style=\"text-align: right;\">\n",
       "      <th></th>\n",
       "      <th>Features</th>\n",
       "      <th>Importance</th>\n",
       "    </tr>\n",
       "  </thead>\n",
       "  <tbody>\n",
       "    <tr>\n",
       "      <th>rel_compactness</th>\n",
       "      <td>rel_compactness</td>\n",
       "      <td>0.650952</td>\n",
       "    </tr>\n",
       "    <tr>\n",
       "      <th>wall_area</th>\n",
       "      <td>wall_area</td>\n",
       "      <td>0.298275</td>\n",
       "    </tr>\n",
       "    <tr>\n",
       "      <th>orientation</th>\n",
       "      <td>orientation</td>\n",
       "      <td>0.000000</td>\n",
       "    </tr>\n",
       "    <tr>\n",
       "      <th>glazing_area</th>\n",
       "      <td>glazing_area</td>\n",
       "      <td>0.050773</td>\n",
       "    </tr>\n",
       "    <tr>\n",
       "      <th>glazing_area_dist</th>\n",
       "      <td>glazing_area_dist</td>\n",
       "      <td>0.000000</td>\n",
       "    </tr>\n",
       "  </tbody>\n",
       "</table>\n",
       "</div>"
      ],
      "text/plain": [
       "                            Features  Importance\n",
       "rel_compactness      rel_compactness    0.650952\n",
       "wall_area                  wall_area    0.298275\n",
       "orientation              orientation    0.000000\n",
       "glazing_area            glazing_area    0.050773\n",
       "glazing_area_dist  glazing_area_dist    0.000000"
      ]
     },
     "execution_count": 57,
     "metadata": {},
     "output_type": "execute_result"
    }
   ],
   "source": [
    "plotting_data = pd.DataFrame({'Features': X.columns, 'Importance':importance}, index=X.columns)\n",
    "plotting_data"
   ]
  },
  {
   "cell_type": "code",
   "execution_count": 58,
   "metadata": {},
   "outputs": [
    {
     "data": {
      "text/plain": [
       "<matplotlib.axes._subplots.AxesSubplot at 0x2115ac73c08>"
      ]
     },
     "execution_count": 58,
     "metadata": {},
     "output_type": "execute_result"
    },
    {
     "data": {
      "image/png": "[encoded data removed]",
      "text/plain": [
       "<Figure size 432x288 with 1 Axes>"
      ]
     },
     "metadata": {
      "needs_background": "light"
     },
     "output_type": "display_data"
    }
   ],
   "source": [
    "plotting_data.plot.barh()"
   ]
  },
  {
   "cell_type": "markdown",
   "metadata": {},
   "source": [
    "### Fit the Model"
   ]
  },
  {
   "cell_type": "code",
   "execution_count": 59,
   "metadata": {},
   "outputs": [],
   "source": [
    "seed = 7"
   ]
  },
  {
   "cell_type": "code",
   "execution_count": 60,
   "metadata": {},
   "outputs": [],
   "source": [
    "n_estimators = len(X)"
   ]
  },
  {
   "cell_type": "code",
   "execution_count": 61,
   "metadata": {},
   "outputs": [
    {
     "data": {
      "text/plain": [
       "ExtraTreesRegressor()"
      ]
     },
     "execution_count": 61,
     "metadata": {},
     "output_type": "execute_result"
    }
   ],
   "source": [
    "model.fit(X, target)"
   ]
  },
  {
   "cell_type": "markdown",
   "metadata": {},
   "source": [
    "### Evaluate the Model"
   ]
  },
  {
   "cell_type": "code",
   "execution_count": 62,
   "metadata": {},
   "outputs": [],
   "source": [
    "kfold = model_selection.RepeatedKFold(n_splits=n_estimators, n_repeats=10, random_state=seed)"
   ]
  },
  {
   "cell_type": "code",
   "execution_count": 63,
   "metadata": {},
   "outputs": [],
   "source": [
    "cv_results = model_selection.cross_val_score(model, X, target, cv=10)"
   ]
  },
  {
   "cell_type": "code",
   "execution_count": 64,
   "metadata": {},
   "outputs": [
    {
     "data": {
      "text/plain": [
       "array([0.91488363, 0.97997898, 0.9383246 , 0.96252841, 0.98591357,\n",
       "       0.93732657, 0.96219915, 0.95316227, 0.92324001, 0.95668327])"
      ]
     },
     "execution_count": 64,
     "metadata": {},
     "output_type": "execute_result"
    }
   ],
   "source": [
    "cv_results"
   ]
  },
  {
   "cell_type": "code",
   "execution_count": 65,
   "metadata": {},
   "outputs": [],
   "source": [
    "msg = \"%s: %f (%f)\" % (\"ExtraTreesRegressor\", cv_results.mean(), cv_results.std())"
   ]
  },
  {
   "cell_type": "code",
   "execution_count": 66,
   "metadata": {},
   "outputs": [
    {
     "data": {
      "text/plain": [
       "'ExtraTreesRegressor: 0.951424 (0.021851)'"
      ]
     },
     "execution_count": 66,
     "metadata": {},
     "output_type": "execute_result"
    }
   ],
   "source": [
    "msg"
   ]
  },
  {
   "cell_type": "markdown",
   "metadata": {},
   "source": [
    "## Summary\n",
    "\n",
    "For Y1 (Heating Load)\n",
    "> 1. 'surface_area', 'roof_area' and 'overall_height' were top 3 selected for predicting 'heating_load'.\n",
    "> 2. The accuracy of prediction by ExtraTreeRegressor is ~97%.\n",
    "\n",
    "For Y2 (Cooling Load)\n",
    "> 1. 'rel_compactness', 'wall_area' and 'glazing_area' were top 3 selected for predicting 'cooling_load'.\n",
    "> 2. The accuracy of prediction by ExtraTreeRegressor is ~95%.\n",
    "\n",
    "The results of this study support the feasibility of using machine learning tools to estimate building parameters as a convenient and accurate approach, as long as the requested query bears resemblance to the data actually used to train the mathematical model in the first place.\n",
    "\n",
    "(Courtesy: https://www.semanticscholar.org/paper/Accurate-quantitative-estimation-of-energy-of-using-Tsanas-Xifara/719e65379c5959141180a45f540f707d583b8ce2)"
   ]
  },
  {
   "cell_type": "markdown",
   "metadata": {},
   "source": [
    "                                               Prepared by J.Haripriya"
   ]
  }
 ],
 "metadata": {
  "kernelspec": {
   "display_name": "Python 3",
   "language": "python",
   "name": "python3"
  },
  "language_info": {
   "codemirror_mode": {
    "name": "ipython",
    "version": 3
   },
   "file_extension": ".py",
   "mimetype": "text/x-python",
   "name": "python",
   "nbconvert_exporter": "python",
   "pygments_lexer": "ipython3",
   "version": "3.7.7"
  }
 },
 "nbformat": 4,
 "nbformat_minor": 4
}

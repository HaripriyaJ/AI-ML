{
 "cells": [
  {
   "cell_type": "markdown",
   "metadata": {},
   "source": [
    "### Create an excel file with website data using beautiful soup or request or selector gadget for link below:\n",
    "<br/>https://www.amazon.in/s?k=top+10+phones+under+20000&crid=3UFKG06L1X1O1&sprefix=top+10+phone%2Caps%2C310&ref=nb_sb_ss_i_4_12<br/>\n",
    "\n",
    "<b>Required columns:</b>\n",
    "> * Mobile Name <br/>\n",
    "> * Mobile prize <br/>\n",
    "> * Discount option (like : Save ₹3,500 (15%)) <br/>\n",
    "> * EMI option or not (like : Save extra with No Cost EMI) <br/>\n",
    "> * Other information (like : FREE Delivery by Thursday, September 17)"
   ]
  },
  {
   "cell_type": "markdown",
   "metadata": {},
   "source": [
    "##### Import necessary libraries"
   ]
  },
  {
   "cell_type": "code",
   "execution_count": 1,
   "metadata": {},
   "outputs": [],
   "source": [
    "from bs4 import BeautifulSoup\n",
    "import requests"
   ]
  },
  {
   "cell_type": "markdown",
   "metadata": {},
   "source": [
    "##### Link to scrap the data from"
   ]
  },
  {
   "cell_type": "code",
   "execution_count": 2,
   "metadata": {},
   "outputs": [],
   "source": [
    "link = 'https://www.amazon.in/s?k=top+10+phones+under+20000&crid=3UFKG06L1X1O1&sprefix=top+10+phone%2Caps%2C310&ref=nb_sb_ss_i_4_12'"
   ]
  },
  {
   "cell_type": "markdown",
   "metadata": {},
   "source": [
    "##### Get page"
   ]
  },
  {
   "cell_type": "code",
   "execution_count": 3,
   "metadata": {},
   "outputs": [],
   "source": [
    "page = requests.get(link)"
   ]
  },
  {
   "cell_type": "code",
   "execution_count": 4,
   "metadata": {},
   "outputs": [
    {
     "data": {
      "text/plain": [
       "<Response [200]>"
      ]
     },
     "execution_count": 4,
     "metadata": {},
     "output_type": "execute_result"
    }
   ],
   "source": [
    "page  # Response 200 indicates successful retrieval"
   ]
  },
  {
   "cell_type": "code",
   "execution_count": 5,
   "metadata": {},
   "outputs": [],
   "source": [
    "# Displays content of HTML\n",
    "page.content"
   ]
  },
  {
   "cell_type": "markdown",
   "metadata": {},
   "source": [
    "##### Beautify the code using bs (for better readability)"
   ]
  },
  {
   "cell_type": "code",
   "execution_count": 6,
   "metadata": {},
   "outputs": [],
   "source": [
    "soup = BeautifulSoup(page.content, 'html.parser')"
   ]
  },
  {
   "cell_type": "code",
   "execution_count": 7,
   "metadata": {},
   "outputs": [],
   "source": [
    "print(soup.prettify())"
   ]
  },
  {
   "cell_type": "markdown",
   "metadata": {},
   "source": [
    "##### Identify the data to be scraped from the code using Inspect Element option"
   ]
  },
  {
   "cell_type": "markdown",
   "metadata": {},
   "source": [
    "<i>Getting Mobile Names</i>"
   ]
  },
  {
   "cell_type": "code",
   "execution_count": 8,
   "metadata": {},
   "outputs": [],
   "source": [
    "mobile_name_values = soup.find_all('span', class_='a-size-medium a-color-base a-text-normal')"
   ]
  },
  {
   "cell_type": "code",
   "execution_count": 9,
   "metadata": {},
   "outputs": [
    {
     "data": {
      "text/plain": [
       "<span class=\"a-size-medium a-color-base a-text-normal\" dir=\"auto\">Honor 9A (Phantom Blue, 3GB RAM, 64GB Storage)- Download Apps Through Petal Search</span>"
      ]
     },
     "execution_count": 9,
     "metadata": {},
     "output_type": "execute_result"
    }
   ],
   "source": [
    "mobile_name_values[0]"
   ]
  },
  {
   "cell_type": "code",
   "execution_count": 10,
   "metadata": {},
   "outputs": [],
   "source": [
    "mobile_names = []\n",
    "for each_item in range(0, len(mobile_name_values)):\n",
    "    mobile_names.append(mobile_name_values[each_item].get_text())"
   ]
  },
  {
   "cell_type": "code",
   "execution_count": 11,
   "metadata": {},
   "outputs": [
    {
     "data": {
      "text/plain": [
       "['Honor 9A (Phantom Blue, 3GB RAM, 64GB Storage)- Download Apps Through Petal Search',\n",
       " 'OPPO A5 2020 (Dazzling White, 3GB RAM, 64GB Storage) with No Cost EMI/Additional Exchange Offers',\n",
       " 'Redmi Note 9 Pro (Interstellar Black, 4GB RAM, 64GB Storage) - Latest 8nm Snapdragon 720G & Gorilla Glass 5 Protection',\n",
       " 'Redmi Note 9 Pro (Glacier White, 6GB RAM, 128GB Storage) - Latest 8nm Snapdragon 720G & Gorilla Glass 5 Protection',\n",
       " 'Samsung Galaxy M31s (Mirage Blue, 6GB RAM, 128GB Storage)',\n",
       " 'Redmi Note 8 (Cosmic Purple, 4GB RAM, 64GB Storage)',\n",
       " 'Redmi Note 8 (Moonlight White, 4GB RAM, 64GB Storage)',\n",
       " 'Samsung Galaxy M31 (Space Black, 6GB RAM, 128GB Storage)',\n",
       " 'OPPO A5 2020 (Mirror Black, 3GB RAM, 64GB Storage) with No Cost EMI/Additional Exchange Offers',\n",
       " 'Samsung Galaxy M01 Core (Red, 1GB RAM, 16GB Storage) with No Cost EMI/Additional Exchange Offers',\n",
       " 'Vivo S1 Pro (Dreamy White, 8GB RAM, 128GB Storage) with No Cost EMI/Additional Exchange Offers',\n",
       " 'Vivo Y12 (Aqua Blue, 3GB RAM, 64GB Storage) with No Cost EMI/Additional Exchange Offers',\n",
       " 'OPPO A12 (Blue, 3GB RAM, 32GB Storage) with No Cost EMI/Additional Exchange Offers',\n",
       " 'Samsung Galaxy M31s (Mirage Black, 6GB RAM, 128GB Storage)',\n",
       " 'Samsung Galaxy M01 Core (Black, 2GB RAM, 32GB Storage) with No Cost EMI/Additional Exchange Offers',\n",
       " 'Redmi Note 9 (Aqua Green, 4GB RAM 128GB Storage) - 48MP Quad Camera & Full HD+ Display']"
      ]
     },
     "execution_count": 11,
     "metadata": {},
     "output_type": "execute_result"
    }
   ],
   "source": [
    "mobile_names"
   ]
  },
  {
   "cell_type": "code",
   "execution_count": 12,
   "metadata": {},
   "outputs": [
    {
     "data": {
      "text/plain": [
       "16"
      ]
     },
     "execution_count": 12,
     "metadata": {},
     "output_type": "execute_result"
    }
   ],
   "source": [
    "len(mobile_names)"
   ]
  },
  {
   "cell_type": "markdown",
   "metadata": {},
   "source": [
    "<i>Remove Duplicates (if any)</i>\n",
    "\n",
    "(Create a dictionary, using the List items as keys. This will automatically remove any duplicates because dictionaries cannot have duplicate keys.)"
   ]
  },
  {
   "cell_type": "code",
   "execution_count": 13,
   "metadata": {},
   "outputs": [
    {
     "data": {
      "text/plain": [
       "['Honor 9A (Phantom Blue, 3GB RAM, 64GB Storage)- Download Apps Through Petal Search',\n",
       " 'OPPO A5 2020 (Dazzling White, 3GB RAM, 64GB Storage) with No Cost EMI/Additional Exchange Offers',\n",
       " 'Redmi Note 9 Pro (Interstellar Black, 4GB RAM, 64GB Storage) - Latest 8nm Snapdragon 720G & Gorilla Glass 5 Protection',\n",
       " 'Redmi Note 9 Pro (Glacier White, 6GB RAM, 128GB Storage) - Latest 8nm Snapdragon 720G & Gorilla Glass 5 Protection',\n",
       " 'Samsung Galaxy M31s (Mirage Blue, 6GB RAM, 128GB Storage)',\n",
       " 'Redmi Note 8 (Cosmic Purple, 4GB RAM, 64GB Storage)',\n",
       " 'Redmi Note 8 (Moonlight White, 4GB RAM, 64GB Storage)',\n",
       " 'Samsung Galaxy M31 (Space Black, 6GB RAM, 128GB Storage)',\n",
       " 'OPPO A5 2020 (Mirror Black, 3GB RAM, 64GB Storage) with No Cost EMI/Additional Exchange Offers',\n",
       " 'Samsung Galaxy M01 Core (Red, 1GB RAM, 16GB Storage) with No Cost EMI/Additional Exchange Offers',\n",
       " 'Vivo S1 Pro (Dreamy White, 8GB RAM, 128GB Storage) with No Cost EMI/Additional Exchange Offers',\n",
       " 'Vivo Y12 (Aqua Blue, 3GB RAM, 64GB Storage) with No Cost EMI/Additional Exchange Offers',\n",
       " 'OPPO A12 (Blue, 3GB RAM, 32GB Storage) with No Cost EMI/Additional Exchange Offers',\n",
       " 'Samsung Galaxy M31s (Mirage Black, 6GB RAM, 128GB Storage)',\n",
       " 'Samsung Galaxy M01 Core (Black, 2GB RAM, 32GB Storage) with No Cost EMI/Additional Exchange Offers',\n",
       " 'Redmi Note 9 (Aqua Green, 4GB RAM 128GB Storage) - 48MP Quad Camera & Full HD+ Display']"
      ]
     },
     "execution_count": 13,
     "metadata": {},
     "output_type": "execute_result"
    }
   ],
   "source": [
    "mobile_list = list(dict.fromkeys(mobile_names))\n",
    "mobile_list"
   ]
  },
  {
   "cell_type": "code",
   "execution_count": 14,
   "metadata": {},
   "outputs": [
    {
     "data": {
      "text/plain": [
       "16"
      ]
     },
     "execution_count": 14,
     "metadata": {},
     "output_type": "execute_result"
    }
   ],
   "source": [
    "len(mobile_list)"
   ]
  },
  {
   "cell_type": "markdown",
   "metadata": {},
   "source": [
    "<i>Getting Mobile Price</i>\n",
    "\n",
    "(Since there are no duplicates, no need to further process any other categories of data)"
   ]
  },
  {
   "cell_type": "code",
   "execution_count": 15,
   "metadata": {},
   "outputs": [
    {
     "data": {
      "text/plain": [
       "<span class=\"a-price-whole\">9,999</span>"
      ]
     },
     "execution_count": 15,
     "metadata": {},
     "output_type": "execute_result"
    }
   ],
   "source": [
    "price_values = soup.find_all('span', class_='a-price-whole')\n",
    "price_values[0]"
   ]
  },
  {
   "cell_type": "code",
   "execution_count": 16,
   "metadata": {},
   "outputs": [],
   "source": [
    "price_list = []\n",
    "for each_value in range(0, len(price_values)):\n",
    "    price_list.append(price_values[each_value].get_text())"
   ]
  },
  {
   "cell_type": "code",
   "execution_count": 17,
   "metadata": {},
   "outputs": [
    {
     "data": {
      "text/plain": [
       "['9,999',\n",
       " '10,990',\n",
       " '13,999',\n",
       " '16,999',\n",
       " '19,499',\n",
       " '12,799',\n",
       " '12,799',\n",
       " '17,499',\n",
       " '10,990',\n",
       " '4,999',\n",
       " '18,990',\n",
       " '10,990',\n",
       " '9,990',\n",
       " '19,499',\n",
       " '5,999',\n",
       " '13,499']"
      ]
     },
     "execution_count": 17,
     "metadata": {},
     "output_type": "execute_result"
    }
   ],
   "source": [
    "price_list"
   ]
  },
  {
   "cell_type": "code",
   "execution_count": 18,
   "metadata": {},
   "outputs": [
    {
     "data": {
      "text/plain": [
       "16"
      ]
     },
     "execution_count": 18,
     "metadata": {},
     "output_type": "execute_result"
    }
   ],
   "source": [
    "len(price_list)"
   ]
  },
  {
   "cell_type": "markdown",
   "metadata": {},
   "source": [
    "<i>Getting Discount Options</i>"
   ]
  },
  {
   "cell_type": "code",
   "execution_count": 19,
   "metadata": {},
   "outputs": [],
   "source": [
    "scrap_data = soup.find_all('div', class_=\"a-section a-spacing-none a-spacing-top-small\")"
   ]
  },
  {
   "cell_type": "markdown",
   "metadata": {},
   "source": [
    "<i>The span class for the required value does not contain a class name. So, we're retrieving the whole `div` tag enclosing the discount options and extracting the required string </i>"
   ]
  },
  {
   "cell_type": "code",
   "execution_count": 20,
   "metadata": {},
   "outputs": [
    {
     "data": {
      "text/plain": [
       "<div class=\"a-section a-spacing-none a-spacing-top-small\">\n",
       "<div class=\"a-row a-size-base a-color-base\"><div class=\"a-row\">\n",
       "<a class=\"a-size-base a-link-normal s-no-hover a-text-normal\" href=\"/Honor-Phantom-Storage-Download-Through/dp/B08BSK3GP9?dchild=1\" target=\"_blank\">\n",
       "<span class=\"a-price\" data-a-color=\"price\" data-a-size=\"l\"><span class=\"a-offscreen\">₹9,999</span><span aria-hidden=\"true\"><span class=\"a-price-symbol\">₹</span><span class=\"a-price-whole\">9,999</span></span></span>\n",
       "<span class=\"a-price a-text-price\" data-a-color=\"secondary\" data-a-size=\"b\" data-a-strike=\"true\"><span class=\"a-offscreen\">₹11,999</span><span aria-hidden=\"true\">₹11,999</span></span>\n",
       "</a>\n",
       "<span class=\"a-letter-space\"></span><span dir=\"auto\">Save ₹2,000 (17%)</span><span class=\"a-letter-space\"></span></div></div><div class=\"a-row a-size-base a-color-secondary\"><div class=\"a-row\"><span class=\"a-color-secondary\"><span class=\"a-truncate\" data-a-max-rows=\"1\" data-a-overflow-marker=\"&amp;hellip;\" data-a-word-break=\"normal\" style=\"line-height: 1.3em !important; max-height: 1.3em;\"><span class=\"a-truncate-full\">Save extra with No Cost EMI</span><span aria-hidden=\"true\" class=\"a-truncate-cut a-hidden\"></span></span></span></div></div>\n",
       "</div>"
      ]
     },
     "execution_count": 20,
     "metadata": {},
     "output_type": "execute_result"
    }
   ],
   "source": [
    "scrap_data[0]"
   ]
  },
  {
   "cell_type": "markdown",
   "metadata": {},
   "source": [
    "<i> Stringify the Soup object to apply regex search </i>"
   ]
  },
  {
   "cell_type": "code",
   "execution_count": 21,
   "metadata": {},
   "outputs": [],
   "source": [
    "trial = str(scrap_data[0])"
   ]
  },
  {
   "cell_type": "code",
   "execution_count": 22,
   "metadata": {},
   "outputs": [],
   "source": [
    "import re\n",
    "\n",
    "m = re.search('<span dir=\"auto\">(.+?)</span>', trial)\n",
    "if m:\n",
    "    found = m.group(1)\n"
   ]
  },
  {
   "cell_type": "code",
   "execution_count": 23,
   "metadata": {},
   "outputs": [
    {
     "data": {
      "text/plain": [
       "'Save ₹2,000 (17%)'"
      ]
     },
     "execution_count": 23,
     "metadata": {},
     "output_type": "execute_result"
    }
   ],
   "source": [
    "found"
   ]
  },
  {
   "cell_type": "code",
   "execution_count": 24,
   "metadata": {},
   "outputs": [
    {
     "data": {
      "text/plain": [
       "16"
      ]
     },
     "execution_count": 24,
     "metadata": {},
     "output_type": "execute_result"
    }
   ],
   "source": [
    "len(scrap_data)"
   ]
  },
  {
   "cell_type": "markdown",
   "metadata": {},
   "source": [
    "<i> Applying the same logic to the whole data collected </i>\n",
    "\n",
    "(We have to handle 'No offer' criteria as well)"
   ]
  },
  {
   "cell_type": "code",
   "execution_count": 25,
   "metadata": {},
   "outputs": [],
   "source": [
    "discount_options = []\n",
    "for each_value in range(0, len(scrap_data)):\n",
    "    m = re.search('<span dir=\"auto\">(.+?)</span>', str(scrap_data[each_value]))\n",
    "    if m is not None:\n",
    "        discount_options.append(m.group(1))\n",
    "    else:\n",
    "        discount_options.append(\"No Savings\")"
   ]
  },
  {
   "cell_type": "code",
   "execution_count": 26,
   "metadata": {},
   "outputs": [
    {
     "data": {
      "text/plain": [
       "['Save ₹2,000 (17%)',\n",
       " 'Save ₹4,000 (27%)',\n",
       " 'Save ₹3,000 (18%)',\n",
       " 'Save ₹3,000 (15%)',\n",
       " 'Save ₹3,500 (15%)',\n",
       " 'Save ₹200 (2%)',\n",
       " 'Save ₹200 (2%)',\n",
       " 'No Savings',\n",
       " 'Save ₹4,000 (27%)',\n",
       " 'Save ₹2,000 (29%)',\n",
       " 'Save ₹2,000 (10%)',\n",
       " 'Save ₹3,000 (21%)',\n",
       " 'Save ₹1,000 (9%)',\n",
       " 'Save ₹3,500 (15%)',\n",
       " 'Save ₹2,500 (29%)',\n",
       " 'No Savings']"
      ]
     },
     "execution_count": 26,
     "metadata": {},
     "output_type": "execute_result"
    }
   ],
   "source": [
    "discount_options"
   ]
  },
  {
   "cell_type": "code",
   "execution_count": 27,
   "metadata": {},
   "outputs": [
    {
     "data": {
      "text/plain": [
       "16"
      ]
     },
     "execution_count": 27,
     "metadata": {},
     "output_type": "execute_result"
    }
   ],
   "source": [
    "len(discount_options)"
   ]
  },
  {
   "cell_type": "markdown",
   "metadata": {},
   "source": [
    "<i> Getting EMI otions </i>\n",
    "\n",
    "(We have to handle 'No EMI' criteria as well)"
   ]
  },
  {
   "cell_type": "code",
   "execution_count": 28,
   "metadata": {},
   "outputs": [
    {
     "data": {
      "text/plain": [
       "<span class=\"a-color-secondary\"><span class=\"a-truncate\" data-a-max-rows=\"1\" data-a-overflow-marker=\"&amp;hellip;\" data-a-word-break=\"normal\" style=\"line-height: 1.3em !important; max-height: 1.3em;\"><span class=\"a-truncate-full\">Save extra with No Cost EMI</span><span aria-hidden=\"true\" class=\"a-truncate-cut a-hidden\"></span></span></span>"
      ]
     },
     "execution_count": 28,
     "metadata": {},
     "output_type": "execute_result"
    }
   ],
   "source": [
    "emi_options_values = soup.find_all('span', class_=\"a-color-secondary\")\n",
    "emi_options_values[0]"
   ]
  },
  {
   "cell_type": "code",
   "execution_count": 29,
   "metadata": {},
   "outputs": [],
   "source": [
    "emi_options_list = []\n",
    "for each_value in range(0, len(emi_options_values)):\n",
    "    m = re.search('<span class=\"a-truncate-full\">(.+?)</span>', str(emi_options_values[each_value]))\n",
    "    if m is not None:\n",
    "        emi_options_list.append(m.group(1))\n",
    "    else:\n",
    "        emi_options_list.append(\"No EMI Options\")"
   ]
  },
  {
   "cell_type": "code",
   "execution_count": 30,
   "metadata": {},
   "outputs": [
    {
     "data": {
      "text/plain": [
       "['Save extra with No Cost EMI',\n",
       " 'Save extra with No Cost EMI',\n",
       " 'Save extra with No Cost EMI',\n",
       " 'Save extra with No Cost EMI',\n",
       " 'Save extra with No Cost EMI',\n",
       " 'Save extra with No Cost EMI',\n",
       " 'Save extra with No Cost EMI',\n",
       " 'Save extra with No Cost EMI',\n",
       " 'Save extra with No Cost EMI',\n",
       " 'Save extra with No Cost EMI',\n",
       " 'Save extra with No Cost EMI',\n",
       " 'Save extra with No Cost EMI',\n",
       " 'Save extra with No Cost EMI',\n",
       " 'Save extra with No Cost EMI',\n",
       " 'Save extra with No Cost EMI',\n",
       " 'Save extra with No Cost EMI']"
      ]
     },
     "execution_count": 30,
     "metadata": {},
     "output_type": "execute_result"
    }
   ],
   "source": [
    "emi_options_list"
   ]
  },
  {
   "cell_type": "code",
   "execution_count": 31,
   "metadata": {},
   "outputs": [
    {
     "data": {
      "text/plain": [
       "16"
      ]
     },
     "execution_count": 31,
     "metadata": {},
     "output_type": "execute_result"
    }
   ],
   "source": [
    "len(emi_options_list)"
   ]
  },
  {
   "cell_type": "markdown",
   "metadata": {},
   "source": [
    "#### Fetching Additional Information"
   ]
  },
  {
   "cell_type": "markdown",
   "metadata": {},
   "source": [
    "<i> Fetching when the product will be received </i>"
   ]
  },
  {
   "cell_type": "code",
   "execution_count": 32,
   "metadata": {},
   "outputs": [
    {
     "data": {
      "text/plain": [
       "<div class=\"a-row s-align-children-center\">\n",
       "<span class=\"aok-inline-block s-image-logo-view\">\n",
       "<span class=\"aok-relative s-icon-text-medium s-prime\">\n",
       "<i aria-label=\"Amazon Prime\" class=\"a-icon a-icon-prime a-icon-medium\" role=\"img\"></i>\n",
       "</span>\n",
       "<span>\n",
       "</span>\n",
       "</span>\n",
       "<span aria-label=\"Get it by Tuesday, September 22\">\n",
       "<span dir=\"auto\">Get it by </span><span class=\"a-text-bold\" dir=\"auto\">Tuesday, September 22</span>\n",
       "</span>\n",
       "</div>"
      ]
     },
     "execution_count": 32,
     "metadata": {},
     "output_type": "execute_result"
    }
   ],
   "source": [
    "scrap_data = soup.find_all('div', class_=\"a-row s-align-children-center\")\n",
    "scrap_data[0]"
   ]
  },
  {
   "cell_type": "code",
   "execution_count": 33,
   "metadata": {},
   "outputs": [],
   "source": [
    "get_it_by = []\n",
    "for each_value in range(0, len(scrap_data)):\n",
    "    m = re.search('<span dir=\"auto\">(.+?)</span>', str(scrap_data[each_value]))\n",
    "    n = re.search('<span class=\"a-text-bold\" dir=\"auto\">(.+?)</span>', str(scrap_data[each_value]))\n",
    "    if m and n:\n",
    "        get_it_by.append(m.group(1) + \":\" + n.group(1))"
   ]
  },
  {
   "cell_type": "code",
   "execution_count": 34,
   "metadata": {},
   "outputs": [
    {
     "data": {
      "text/plain": [
       "['Get it by :Tuesday, September 22',\n",
       " 'Get it by :Tuesday, September 22',\n",
       " 'Get it by :Tuesday, September 22',\n",
       " 'Get it by :Tuesday, September 22',\n",
       " 'Get it by :Tuesday, September 22',\n",
       " 'Get it by :Tuesday, September 22',\n",
       " 'Get it by :Tuesday, September 22',\n",
       " 'Get it by :Tuesday, September 22',\n",
       " 'Get it by :Tuesday, September 22',\n",
       " 'Get it by :Tuesday, September 22',\n",
       " 'Get it by :Tuesday, September 22',\n",
       " 'Get it by :Tuesday, September 22',\n",
       " 'Get it by :Thursday, September 24',\n",
       " 'Get it by :Tuesday, September 22',\n",
       " 'Get it by :Wednesday, September 23',\n",
       " 'Get it by :Tuesday, September 22']"
      ]
     },
     "execution_count": 34,
     "metadata": {},
     "output_type": "execute_result"
    }
   ],
   "source": [
    "get_it_by"
   ]
  },
  {
   "cell_type": "code",
   "execution_count": 35,
   "metadata": {},
   "outputs": [
    {
     "data": {
      "text/plain": [
       "16"
      ]
     },
     "execution_count": 35,
     "metadata": {},
     "output_type": "execute_result"
    }
   ],
   "source": [
    "len(get_it_by)"
   ]
  },
  {
   "cell_type": "markdown",
   "metadata": {},
   "source": [
    "<i> Ratings </i>"
   ]
  },
  {
   "cell_type": "code",
   "execution_count": 36,
   "metadata": {},
   "outputs": [
    {
     "data": {
      "text/plain": [
       "<div class=\"a-row a-size-small\">\n",
       "<span aria-label=\"3.1 out of 5 stars\">\n",
       "<span class=\"a-declarative\" data-a-popover='{\"max-width\":\"700\",\"closeButton\":false,\"position\":\"triggerBottom\",\"url\":\"/review/widgets/average-customer-review/popover/ref=acr_search__popover?ie=UTF8&amp;asin=B08BSK3GP9&amp;ref=acr_search__popover&amp;contextId=search\"}' data-action=\"a-popover\">\n",
       "<a class=\"a-popover-trigger a-declarative\" href=\"javascript:void(0)\"><i class=\"a-icon a-icon-star-small a-star-small-3 aok-align-bottom\"><span class=\"a-icon-alt\">3.1 out of 5 stars</span></i><i class=\"a-icon a-icon-popover\"></i></a>\n",
       "</span>\n",
       "</span>\n",
       "<span aria-label=\"512\">\n",
       "<a class=\"a-link-normal\" href=\"/Honor-Phantom-Storage-Download-Through/dp/B08BSK3GP9?dchild=1#customerReviews\" target=\"_blank\">\n",
       "<span class=\"a-size-base\" dir=\"auto\">512</span>\n",
       "</a>\n",
       "</span>\n",
       "</div>"
      ]
     },
     "execution_count": 36,
     "metadata": {},
     "output_type": "execute_result"
    }
   ],
   "source": [
    "scrap_data = soup.find_all('div', class_=\"a-row a-size-small\")\n",
    "scrap_data[0]"
   ]
  },
  {
   "cell_type": "code",
   "execution_count": 37,
   "metadata": {},
   "outputs": [],
   "source": [
    "ratings = []\n",
    "for each_value in range(0, len(scrap_data)):\n",
    "    m = re.search('<span aria-label=\"(.+?)\">', str(scrap_data[each_value]))\n",
    "    if m:\n",
    "        ratings.append(m.group(1))"
   ]
  },
  {
   "cell_type": "code",
   "execution_count": 38,
   "metadata": {},
   "outputs": [
    {
     "data": {
      "text/plain": [
       "['3.1 out of 5 stars',\n",
       " '4.1 out of 5 stars',\n",
       " '4.3 out of 5 stars',\n",
       " '4.3 out of 5 stars',\n",
       " '4.4 out of 5 stars',\n",
       " '4.3 out of 5 stars',\n",
       " '4.3 out of 5 stars',\n",
       " '4.3 out of 5 stars',\n",
       " '4.1 out of 5 stars',\n",
       " '3.1 out of 5 stars',\n",
       " '4.0 out of 5 stars',\n",
       " '4.2 out of 5 stars',\n",
       " '4.0 out of 5 stars',\n",
       " '4.4 out of 5 stars',\n",
       " '3.1 out of 5 stars',\n",
       " '4.3 out of 5 stars']"
      ]
     },
     "execution_count": 38,
     "metadata": {},
     "output_type": "execute_result"
    }
   ],
   "source": [
    "ratings"
   ]
  },
  {
   "cell_type": "code",
   "execution_count": 39,
   "metadata": {},
   "outputs": [
    {
     "data": {
      "text/plain": [
       "16"
      ]
     },
     "execution_count": 39,
     "metadata": {},
     "output_type": "execute_result"
    }
   ],
   "source": [
    "len(ratings)"
   ]
  },
  {
   "cell_type": "markdown",
   "metadata": {},
   "source": [
    "<i> Total Number of Reviews </i>"
   ]
  },
  {
   "cell_type": "code",
   "execution_count": 40,
   "metadata": {},
   "outputs": [
    {
     "data": {
      "text/plain": [
       "<span class=\"a-size-base\" dir=\"auto\">512</span>"
      ]
     },
     "execution_count": 40,
     "metadata": {},
     "output_type": "execute_result"
    }
   ],
   "source": [
    "scrap_data = soup.find_all('span', class_='a-size-base')\n",
    "scrap_data[8]"
   ]
  },
  {
   "cell_type": "code",
   "execution_count": 41,
   "metadata": {},
   "outputs": [],
   "source": [
    "total_reviews = []\n",
    "for each_value in range(0, len(scrap_data)):\n",
    "    m = re.search('<span class=\"a-size-base\" dir=\"auto\">(.+?)</span>', str(scrap_data[each_value]))\n",
    "    if m :\n",
    "        total_reviews.append(m.group(1))"
   ]
  },
  {
   "cell_type": "code",
   "execution_count": 42,
   "metadata": {},
   "outputs": [
    {
     "data": {
      "text/plain": [
       "['512',\n",
       " '4,952',\n",
       " '12,203',\n",
       " '12,203',\n",
       " '15,826',\n",
       " '98,418',\n",
       " '98,418',\n",
       " '87,858',\n",
       " '4,952',\n",
       " '1,293',\n",
       " '1,517',\n",
       " '1,967',\n",
       " '1,058',\n",
       " '15,826',\n",
       " '1,293',\n",
       " '797']"
      ]
     },
     "execution_count": 42,
     "metadata": {},
     "output_type": "execute_result"
    }
   ],
   "source": [
    "total_reviews"
   ]
  },
  {
   "cell_type": "code",
   "execution_count": 43,
   "metadata": {},
   "outputs": [
    {
     "data": {
      "text/plain": [
       "16"
      ]
     },
     "execution_count": 43,
     "metadata": {},
     "output_type": "execute_result"
    }
   ],
   "source": [
    "len(total_reviews)"
   ]
  },
  {
   "cell_type": "markdown",
   "metadata": {},
   "source": [
    "### Storing these values onto the spreadsheet"
   ]
  },
  {
   "cell_type": "code",
   "execution_count": 44,
   "metadata": {},
   "outputs": [
    {
     "data": {
      "text/html": [
       "<div>\n",
       "<style scoped>\n",
       "    .dataframe tbody tr th:only-of-type {\n",
       "        vertical-align: middle;\n",
       "    }\n",
       "\n",
       "    .dataframe tbody tr th {\n",
       "        vertical-align: top;\n",
       "    }\n",
       "\n",
       "    .dataframe thead th {\n",
       "        text-align: right;\n",
       "    }\n",
       "</style>\n",
       "<table border=\"1\" class=\"dataframe\">\n",
       "  <thead>\n",
       "    <tr style=\"text-align: right;\">\n",
       "      <th></th>\n",
       "      <th>Mobile Name</th>\n",
       "      <th>Selling Price</th>\n",
       "      <th>Discount Options</th>\n",
       "      <th>EMI Options</th>\n",
       "      <th>Delivery Date</th>\n",
       "      <th>Ratings</th>\n",
       "      <th>Review Count</th>\n",
       "    </tr>\n",
       "  </thead>\n",
       "  <tbody>\n",
       "    <tr>\n",
       "      <th>0</th>\n",
       "      <td>Honor 9A (Phantom Blue, 3GB RAM, 64GB Storage)...</td>\n",
       "      <td>9,999</td>\n",
       "      <td>Save ₹2,000 (17%)</td>\n",
       "      <td>Save extra with No Cost EMI</td>\n",
       "      <td>Get it by :Tuesday, September 22</td>\n",
       "      <td>3.1 out of 5 stars</td>\n",
       "      <td>512</td>\n",
       "    </tr>\n",
       "    <tr>\n",
       "      <th>1</th>\n",
       "      <td>OPPO A5 2020 (Dazzling White, 3GB RAM, 64GB St...</td>\n",
       "      <td>10,990</td>\n",
       "      <td>Save ₹4,000 (27%)</td>\n",
       "      <td>Save extra with No Cost EMI</td>\n",
       "      <td>Get it by :Tuesday, September 22</td>\n",
       "      <td>4.1 out of 5 stars</td>\n",
       "      <td>4,952</td>\n",
       "    </tr>\n",
       "    <tr>\n",
       "      <th>2</th>\n",
       "      <td>Redmi Note 9 Pro (Interstellar Black, 4GB RAM,...</td>\n",
       "      <td>13,999</td>\n",
       "      <td>Save ₹3,000 (18%)</td>\n",
       "      <td>Save extra with No Cost EMI</td>\n",
       "      <td>Get it by :Tuesday, September 22</td>\n",
       "      <td>4.3 out of 5 stars</td>\n",
       "      <td>12,203</td>\n",
       "    </tr>\n",
       "    <tr>\n",
       "      <th>3</th>\n",
       "      <td>Redmi Note 9 Pro (Glacier White, 6GB RAM, 128G...</td>\n",
       "      <td>16,999</td>\n",
       "      <td>Save ₹3,000 (15%)</td>\n",
       "      <td>Save extra with No Cost EMI</td>\n",
       "      <td>Get it by :Tuesday, September 22</td>\n",
       "      <td>4.3 out of 5 stars</td>\n",
       "      <td>12,203</td>\n",
       "    </tr>\n",
       "    <tr>\n",
       "      <th>4</th>\n",
       "      <td>Samsung Galaxy M31s (Mirage Blue, 6GB RAM, 128...</td>\n",
       "      <td>19,499</td>\n",
       "      <td>Save ₹3,500 (15%)</td>\n",
       "      <td>Save extra with No Cost EMI</td>\n",
       "      <td>Get it by :Tuesday, September 22</td>\n",
       "      <td>4.4 out of 5 stars</td>\n",
       "      <td>15,826</td>\n",
       "    </tr>\n",
       "    <tr>\n",
       "      <th>5</th>\n",
       "      <td>Redmi Note 8 (Cosmic Purple, 4GB RAM, 64GB Sto...</td>\n",
       "      <td>12,799</td>\n",
       "      <td>Save ₹200 (2%)</td>\n",
       "      <td>Save extra with No Cost EMI</td>\n",
       "      <td>Get it by :Tuesday, September 22</td>\n",
       "      <td>4.3 out of 5 stars</td>\n",
       "      <td>98,418</td>\n",
       "    </tr>\n",
       "    <tr>\n",
       "      <th>6</th>\n",
       "      <td>Redmi Note 8 (Moonlight White, 4GB RAM, 64GB S...</td>\n",
       "      <td>12,799</td>\n",
       "      <td>Save ₹200 (2%)</td>\n",
       "      <td>Save extra with No Cost EMI</td>\n",
       "      <td>Get it by :Tuesday, September 22</td>\n",
       "      <td>4.3 out of 5 stars</td>\n",
       "      <td>98,418</td>\n",
       "    </tr>\n",
       "    <tr>\n",
       "      <th>7</th>\n",
       "      <td>Samsung Galaxy M31 (Space Black, 6GB RAM, 128G...</td>\n",
       "      <td>17,499</td>\n",
       "      <td>No Savings</td>\n",
       "      <td>Save extra with No Cost EMI</td>\n",
       "      <td>Get it by :Tuesday, September 22</td>\n",
       "      <td>4.3 out of 5 stars</td>\n",
       "      <td>87,858</td>\n",
       "    </tr>\n",
       "    <tr>\n",
       "      <th>8</th>\n",
       "      <td>OPPO A5 2020 (Mirror Black, 3GB RAM, 64GB Stor...</td>\n",
       "      <td>10,990</td>\n",
       "      <td>Save ₹4,000 (27%)</td>\n",
       "      <td>Save extra with No Cost EMI</td>\n",
       "      <td>Get it by :Tuesday, September 22</td>\n",
       "      <td>4.1 out of 5 stars</td>\n",
       "      <td>4,952</td>\n",
       "    </tr>\n",
       "    <tr>\n",
       "      <th>9</th>\n",
       "      <td>Samsung Galaxy M01 Core (Red, 1GB RAM, 16GB St...</td>\n",
       "      <td>4,999</td>\n",
       "      <td>Save ₹2,000 (29%)</td>\n",
       "      <td>Save extra with No Cost EMI</td>\n",
       "      <td>Get it by :Tuesday, September 22</td>\n",
       "      <td>3.1 out of 5 stars</td>\n",
       "      <td>1,293</td>\n",
       "    </tr>\n",
       "    <tr>\n",
       "      <th>10</th>\n",
       "      <td>Vivo S1 Pro (Dreamy White, 8GB RAM, 128GB Stor...</td>\n",
       "      <td>18,990</td>\n",
       "      <td>Save ₹2,000 (10%)</td>\n",
       "      <td>Save extra with No Cost EMI</td>\n",
       "      <td>Get it by :Tuesday, September 22</td>\n",
       "      <td>4.0 out of 5 stars</td>\n",
       "      <td>1,517</td>\n",
       "    </tr>\n",
       "    <tr>\n",
       "      <th>11</th>\n",
       "      <td>Vivo Y12 (Aqua Blue, 3GB RAM, 64GB Storage) wi...</td>\n",
       "      <td>10,990</td>\n",
       "      <td>Save ₹3,000 (21%)</td>\n",
       "      <td>Save extra with No Cost EMI</td>\n",
       "      <td>Get it by :Tuesday, September 22</td>\n",
       "      <td>4.2 out of 5 stars</td>\n",
       "      <td>1,967</td>\n",
       "    </tr>\n",
       "    <tr>\n",
       "      <th>12</th>\n",
       "      <td>OPPO A12 (Blue, 3GB RAM, 32GB Storage) with No...</td>\n",
       "      <td>9,990</td>\n",
       "      <td>Save ₹1,000 (9%)</td>\n",
       "      <td>Save extra with No Cost EMI</td>\n",
       "      <td>Get it by :Thursday, September 24</td>\n",
       "      <td>4.0 out of 5 stars</td>\n",
       "      <td>1,058</td>\n",
       "    </tr>\n",
       "    <tr>\n",
       "      <th>13</th>\n",
       "      <td>Samsung Galaxy M31s (Mirage Black, 6GB RAM, 12...</td>\n",
       "      <td>19,499</td>\n",
       "      <td>Save ₹3,500 (15%)</td>\n",
       "      <td>Save extra with No Cost EMI</td>\n",
       "      <td>Get it by :Tuesday, September 22</td>\n",
       "      <td>4.4 out of 5 stars</td>\n",
       "      <td>15,826</td>\n",
       "    </tr>\n",
       "    <tr>\n",
       "      <th>14</th>\n",
       "      <td>Samsung Galaxy M01 Core (Black, 2GB RAM, 32GB ...</td>\n",
       "      <td>5,999</td>\n",
       "      <td>Save ₹2,500 (29%)</td>\n",
       "      <td>Save extra with No Cost EMI</td>\n",
       "      <td>Get it by :Wednesday, September 23</td>\n",
       "      <td>3.1 out of 5 stars</td>\n",
       "      <td>1,293</td>\n",
       "    </tr>\n",
       "    <tr>\n",
       "      <th>15</th>\n",
       "      <td>Redmi Note 9 (Aqua Green, 4GB RAM 128GB Storag...</td>\n",
       "      <td>13,499</td>\n",
       "      <td>No Savings</td>\n",
       "      <td>Save extra with No Cost EMI</td>\n",
       "      <td>Get it by :Tuesday, September 22</td>\n",
       "      <td>4.3 out of 5 stars</td>\n",
       "      <td>797</td>\n",
       "    </tr>\n",
       "  </tbody>\n",
       "</table>\n",
       "</div>"
      ],
      "text/plain": [
       "                                          Mobile Name Selling Price  \\\n",
       "0   Honor 9A (Phantom Blue, 3GB RAM, 64GB Storage)...         9,999   \n",
       "1   OPPO A5 2020 (Dazzling White, 3GB RAM, 64GB St...        10,990   \n",
       "2   Redmi Note 9 Pro (Interstellar Black, 4GB RAM,...        13,999   \n",
       "3   Redmi Note 9 Pro (Glacier White, 6GB RAM, 128G...        16,999   \n",
       "4   Samsung Galaxy M31s (Mirage Blue, 6GB RAM, 128...        19,499   \n",
       "5   Redmi Note 8 (Cosmic Purple, 4GB RAM, 64GB Sto...        12,799   \n",
       "6   Redmi Note 8 (Moonlight White, 4GB RAM, 64GB S...        12,799   \n",
       "7   Samsung Galaxy M31 (Space Black, 6GB RAM, 128G...        17,499   \n",
       "8   OPPO A5 2020 (Mirror Black, 3GB RAM, 64GB Stor...        10,990   \n",
       "9   Samsung Galaxy M01 Core (Red, 1GB RAM, 16GB St...         4,999   \n",
       "10  Vivo S1 Pro (Dreamy White, 8GB RAM, 128GB Stor...        18,990   \n",
       "11  Vivo Y12 (Aqua Blue, 3GB RAM, 64GB Storage) wi...        10,990   \n",
       "12  OPPO A12 (Blue, 3GB RAM, 32GB Storage) with No...         9,990   \n",
       "13  Samsung Galaxy M31s (Mirage Black, 6GB RAM, 12...        19,499   \n",
       "14  Samsung Galaxy M01 Core (Black, 2GB RAM, 32GB ...         5,999   \n",
       "15  Redmi Note 9 (Aqua Green, 4GB RAM 128GB Storag...        13,499   \n",
       "\n",
       "     Discount Options                  EMI Options  \\\n",
       "0   Save ₹2,000 (17%)  Save extra with No Cost EMI   \n",
       "1   Save ₹4,000 (27%)  Save extra with No Cost EMI   \n",
       "2   Save ₹3,000 (18%)  Save extra with No Cost EMI   \n",
       "3   Save ₹3,000 (15%)  Save extra with No Cost EMI   \n",
       "4   Save ₹3,500 (15%)  Save extra with No Cost EMI   \n",
       "5      Save ₹200 (2%)  Save extra with No Cost EMI   \n",
       "6      Save ₹200 (2%)  Save extra with No Cost EMI   \n",
       "7          No Savings  Save extra with No Cost EMI   \n",
       "8   Save ₹4,000 (27%)  Save extra with No Cost EMI   \n",
       "9   Save ₹2,000 (29%)  Save extra with No Cost EMI   \n",
       "10  Save ₹2,000 (10%)  Save extra with No Cost EMI   \n",
       "11  Save ₹3,000 (21%)  Save extra with No Cost EMI   \n",
       "12   Save ₹1,000 (9%)  Save extra with No Cost EMI   \n",
       "13  Save ₹3,500 (15%)  Save extra with No Cost EMI   \n",
       "14  Save ₹2,500 (29%)  Save extra with No Cost EMI   \n",
       "15         No Savings  Save extra with No Cost EMI   \n",
       "\n",
       "                         Delivery Date             Ratings Review Count  \n",
       "0     Get it by :Tuesday, September 22  3.1 out of 5 stars          512  \n",
       "1     Get it by :Tuesday, September 22  4.1 out of 5 stars        4,952  \n",
       "2     Get it by :Tuesday, September 22  4.3 out of 5 stars       12,203  \n",
       "3     Get it by :Tuesday, September 22  4.3 out of 5 stars       12,203  \n",
       "4     Get it by :Tuesday, September 22  4.4 out of 5 stars       15,826  \n",
       "5     Get it by :Tuesday, September 22  4.3 out of 5 stars       98,418  \n",
       "6     Get it by :Tuesday, September 22  4.3 out of 5 stars       98,418  \n",
       "7     Get it by :Tuesday, September 22  4.3 out of 5 stars       87,858  \n",
       "8     Get it by :Tuesday, September 22  4.1 out of 5 stars        4,952  \n",
       "9     Get it by :Tuesday, September 22  3.1 out of 5 stars        1,293  \n",
       "10    Get it by :Tuesday, September 22  4.0 out of 5 stars        1,517  \n",
       "11    Get it by :Tuesday, September 22  4.2 out of 5 stars        1,967  \n",
       "12   Get it by :Thursday, September 24  4.0 out of 5 stars        1,058  \n",
       "13    Get it by :Tuesday, September 22  4.4 out of 5 stars       15,826  \n",
       "14  Get it by :Wednesday, September 23  3.1 out of 5 stars        1,293  \n",
       "15    Get it by :Tuesday, September 22  4.3 out of 5 stars          797  "
      ]
     },
     "execution_count": 44,
     "metadata": {},
     "output_type": "execute_result"
    }
   ],
   "source": [
    "import pandas as pd\n",
    "data = pd.DataFrame({'Mobile Name':mobile_names, 'Selling Price': price_list,\n",
    "                     'Discount Options': discount_options, 'EMI Options':emi_options_list, 'Delivery Date': get_it_by,\n",
    "                  'Ratings': ratings, 'Review Count': total_reviews})\n",
    "data"
   ]
  },
  {
   "cell_type": "code",
   "execution_count": 45,
   "metadata": {},
   "outputs": [],
   "source": [
    "data.to_csv('Output/ProductDetails.csv', index=False, encoding='utf-8-sig')"
   ]
  },
  {
   "cell_type": "markdown",
   "metadata": {},
   "source": [
    "<center>Prepared by J.Haripriya</center>"
   ]
  }
 ],
 "metadata": {
  "kernelspec": {
   "display_name": "Python 3",
   "language": "python",
   "name": "python3"
  },
  "language_info": {
   "codemirror_mode": {
    "name": "ipython",
    "version": 3
   },
   "file_extension": ".py",
   "mimetype": "text/x-python",
   "name": "python",
   "nbconvert_exporter": "python",
   "pygments_lexer": "ipython3",
   "version": "3.7.7"
  }
 },
 "nbformat": 4,
 "nbformat_minor": 4
}

{
 "cells": [
  {
   "cell_type": "markdown",
   "metadata": {},
   "source": [
    "### Scraping data from Imdb website\n",
    "\n",
    "The objective of this experiment is to obtain movies and tv shows of all available languages and widely used genres using BeautifulSoup."
   ]
  },
  {
   "cell_type": "markdown",
   "metadata": {},
   "source": [
    "#### Import necessary libraries"
   ]
  },
  {
   "cell_type": "code",
   "execution_count": 1,
   "metadata": {},
   "outputs": [],
   "source": [
    "from bs4 import BeautifulSoup\n",
    "import requests\n",
    "import re\n",
    "import pandas as pd"
   ]
  },
  {
   "cell_type": "markdown",
   "metadata": {},
   "source": [
    "#### Link to scrap data from"
   ]
  },
  {
   "cell_type": "code",
   "execution_count": 2,
   "metadata": {},
   "outputs": [],
   "source": [
    "comedy = \"https://www.imdb.com/search/title/?genres=comedy\"\n",
    "scifi = \"https://www.imdb.com/search/title/?genres=sci-fi\"\n",
    "horror = \"https://www.imdb.com/search/title/?genres=horror\"\n",
    "romance = \"https://www.imdb.com/search/title/?genres=romance\"\n",
    "action = \"https://www.imdb.com/search/title/?genres=action\"\n",
    "thriller = \"https://www.imdb.com/search/title/?genres=thriller\"\n",
    "drama = \"https://www.imdb.com/search/title/?genres=drama\"\n",
    "mystery = \"https://www.imdb.com/search/title/?genres=mystery\"\n",
    "crime = \"https://www.imdb.com/search/title/?genres=crime\"\n",
    "fantasy = \"https://www.imdb.com/search/title/?genres=fantasy\"\n",
    "adventure = \"https://www.imdb.com/search/title/?genres=adventure\""
   ]
  },
  {
   "cell_type": "markdown",
   "metadata": {},
   "source": [
    "#### Get Page\n"
   ]
  },
  {
   "cell_type": "code",
   "execution_count": 3,
   "metadata": {},
   "outputs": [],
   "source": [
    "page = requests.get(comedy)"
   ]
  },
  {
   "cell_type": "code",
   "execution_count": 4,
   "metadata": {},
   "outputs": [],
   "source": [
    "html_soup = BeautifulSoup(page.text, 'html.parser')"
   ]
  },
  {
   "cell_type": "code",
   "execution_count": 5,
   "metadata": {},
   "outputs": [],
   "source": [
    "html_soup_scifi = BeautifulSoup(requests.get(scifi).text, 'html.parser')"
   ]
  },
  {
   "cell_type": "code",
   "execution_count": 6,
   "metadata": {},
   "outputs": [],
   "source": [
    "html_soup_horror = BeautifulSoup(requests.get(horror).text, 'html.parser')"
   ]
  },
  {
   "cell_type": "code",
   "execution_count": 7,
   "metadata": {},
   "outputs": [],
   "source": [
    "html_soup_romance = BeautifulSoup(requests.get(romance).text, 'html.parser')"
   ]
  },
  {
   "cell_type": "code",
   "execution_count": 8,
   "metadata": {},
   "outputs": [],
   "source": [
    "html_soup_action = BeautifulSoup(requests.get(action).text, 'html.parser')"
   ]
  },
  {
   "cell_type": "code",
   "execution_count": 9,
   "metadata": {},
   "outputs": [],
   "source": [
    "html_soup_thriller= BeautifulSoup(requests.get(thriller).text, 'html.parser')"
   ]
  },
  {
   "cell_type": "code",
   "execution_count": 10,
   "metadata": {},
   "outputs": [],
   "source": [
    "html_soup_drama = BeautifulSoup(requests.get(drama).text, 'html.parser')"
   ]
  },
  {
   "cell_type": "code",
   "execution_count": 11,
   "metadata": {},
   "outputs": [],
   "source": [
    "html_soup_mystery = BeautifulSoup(requests.get(mystery).text, 'html.parser')"
   ]
  },
  {
   "cell_type": "code",
   "execution_count": 12,
   "metadata": {},
   "outputs": [],
   "source": [
    "html_soup_crime = BeautifulSoup(requests.get(crime).text, 'html.parser')"
   ]
  },
  {
   "cell_type": "code",
   "execution_count": 13,
   "metadata": {},
   "outputs": [],
   "source": [
    "html_soup_fantasy = BeautifulSoup(requests.get(fantasy).text, 'html.parser')"
   ]
  },
  {
   "cell_type": "code",
   "execution_count": 14,
   "metadata": {},
   "outputs": [],
   "source": [
    "html_soup_adventure = BeautifulSoup(requests.get(adventure).text, 'html.parser')"
   ]
  },
  {
   "cell_type": "markdown",
   "metadata": {},
   "source": [
    "#### Data to be scraped"
   ]
  },
  {
   "cell_type": "code",
   "execution_count": 15,
   "metadata": {},
   "outputs": [],
   "source": [
    "cards = html_soup.find_all('div', class_='lister-item-content') "
   ]
  },
  {
   "cell_type": "markdown",
   "metadata": {},
   "source": [
    "### Features to be extracted"
   ]
  },
  {
   "cell_type": "code",
   "execution_count": 16,
   "metadata": {},
   "outputs": [],
   "source": [
    "movie_show_name = []\n",
    "year = []\n",
    "runtime = []\n",
    "genre = []\n",
    "rating = []\n",
    "description = []\n",
    "directors = []\n",
    "actors = []\n",
    "votes = []"
   ]
  },
  {
   "cell_type": "markdown",
   "metadata": {},
   "source": [
    "##### Total number of movies "
   ]
  },
  {
   "cell_type": "markdown",
   "metadata": {},
   "source": [
    "Comedy"
   ]
  },
  {
   "cell_type": "code",
   "execution_count": 17,
   "metadata": {},
   "outputs": [
    {
     "data": {
      "text/plain": [
       "1568756"
      ]
     },
     "execution_count": 17,
     "metadata": {},
     "output_type": "execute_result"
    }
   ],
   "source": [
    "total_titles = str(re.search('of (.+?) titles', html_soup.find('div', class_='desc').span.text).group(1))\n",
    "total_titles = int(''.join(total_titles.split(',')))\n",
    "total_titles                  "
   ]
  },
  {
   "cell_type": "markdown",
   "metadata": {},
   "source": [
    "Sci-Fi"
   ]
  },
  {
   "cell_type": "code",
   "execution_count": 18,
   "metadata": {},
   "outputs": [
    {
     "data": {
      "text/plain": [
       "177281"
      ]
     },
     "execution_count": 18,
     "metadata": {},
     "output_type": "execute_result"
    }
   ],
   "source": [
    "total_count_scifi = str(re.search('of (.+?) titles', html_soup_scifi.find('div', class_='desc').span.text).group(1))\n",
    "total_count_scifi = int(''.join(total_count_scifi.split(',')))\n",
    "total_count_scifi     "
   ]
  },
  {
   "cell_type": "markdown",
   "metadata": {},
   "source": [
    "Horror"
   ]
  },
  {
   "cell_type": "code",
   "execution_count": 19,
   "metadata": {},
   "outputs": [
    {
     "data": {
      "text/plain": [
       "148777"
      ]
     },
     "execution_count": 19,
     "metadata": {},
     "output_type": "execute_result"
    }
   ],
   "source": [
    "total_count_horror = str(re.search('of (.+?) titles', html_soup_horror.find('div', class_='desc').span.text).group(1))\n",
    "total_count_horror = int(''.join(total_count_horror.split(',')))\n",
    "total_count_horror"
   ]
  },
  {
   "cell_type": "markdown",
   "metadata": {},
   "source": [
    "Romance"
   ]
  },
  {
   "cell_type": "code",
   "execution_count": 20,
   "metadata": {},
   "outputs": [
    {
     "data": {
      "text/plain": [
       "786255"
      ]
     },
     "execution_count": 20,
     "metadata": {},
     "output_type": "execute_result"
    }
   ],
   "source": [
    "total_count_romance = str(re.search('of (.+?) titles', html_soup_romance.find('div', class_='desc').span.text).group(1))\n",
    "total_count_romance = int(''.join(total_count_romance.split(',')))\n",
    "total_count_romance"
   ]
  },
  {
   "cell_type": "markdown",
   "metadata": {},
   "source": [
    "Action"
   ]
  },
  {
   "cell_type": "code",
   "execution_count": 21,
   "metadata": {},
   "outputs": [
    {
     "data": {
      "text/plain": [
       "303111"
      ]
     },
     "execution_count": 21,
     "metadata": {},
     "output_type": "execute_result"
    }
   ],
   "source": [
    "total_count_action = str(re.search('of (.+?) titles', html_soup_action.find('div', class_='desc').span.text).group(1))\n",
    "total_count_action = int(''.join(total_count_action.split(',')))\n",
    "total_count_action"
   ]
  },
  {
   "cell_type": "markdown",
   "metadata": {},
   "source": [
    "Thriller"
   ]
  },
  {
   "cell_type": "code",
   "execution_count": 22,
   "metadata": {},
   "outputs": [
    {
     "data": {
      "text/plain": [
       "244118"
      ]
     },
     "execution_count": 22,
     "metadata": {},
     "output_type": "execute_result"
    }
   ],
   "source": [
    "total_count_thriller = str(re.search('of (.+?) titles', html_soup_thriller.find('div', class_='desc').span.text).group(1))\n",
    "total_count_thriller = int(''.join(total_count_thriller.split(',')))\n",
    "total_count_thriller"
   ]
  },
  {
   "cell_type": "markdown",
   "metadata": {},
   "source": [
    "Drama"
   ]
  },
  {
   "cell_type": "code",
   "execution_count": 23,
   "metadata": {},
   "outputs": [
    {
     "data": {
      "text/plain": [
       "2086227"
      ]
     },
     "execution_count": 23,
     "metadata": {},
     "output_type": "execute_result"
    }
   ],
   "source": [
    "total_count_drama = str(re.search('of (.+?) titles', html_soup_drama.find('div', class_='desc').span.text).group(1))\n",
    "total_count_drama = int(''.join(total_count_drama.split(',')))\n",
    "total_count_drama"
   ]
  },
  {
   "cell_type": "markdown",
   "metadata": {},
   "source": [
    "Mystery"
   ]
  },
  {
   "cell_type": "code",
   "execution_count": 24,
   "metadata": {},
   "outputs": [
    {
     "data": {
      "text/plain": [
       "207951"
      ]
     },
     "execution_count": 24,
     "metadata": {},
     "output_type": "execute_result"
    }
   ],
   "source": [
    "total_count_mystery = str(re.search('of (.+?) titles', html_soup_mystery.find('div', class_='desc').span.text).group(1))\n",
    "total_count_mystery = int(''.join(total_count_mystery.split(',')))\n",
    "total_count_mystery"
   ]
  },
  {
   "cell_type": "markdown",
   "metadata": {},
   "source": [
    "Crime"
   ]
  },
  {
   "cell_type": "code",
   "execution_count": 25,
   "metadata": {},
   "outputs": [
    {
     "data": {
      "text/plain": [
       "326555"
      ]
     },
     "execution_count": 25,
     "metadata": {},
     "output_type": "execute_result"
    }
   ],
   "source": [
    "total_count_crime = str(re.search('of (.+?) titles', html_soup_crime.find('div', class_='desc').span.text).group(1))\n",
    "total_count_crime = int(''.join(total_count_crime.split(',')))\n",
    "total_count_crime"
   ]
  },
  {
   "cell_type": "markdown",
   "metadata": {},
   "source": [
    "Fantasy"
   ]
  },
  {
   "cell_type": "code",
   "execution_count": 26,
   "metadata": {},
   "outputs": [
    {
     "data": {
      "text/plain": [
       "234863"
      ]
     },
     "execution_count": 26,
     "metadata": {},
     "output_type": "execute_result"
    }
   ],
   "source": [
    "total_count_fantasy = str(re.search('of (.+?) titles', html_soup_fantasy.find('div', class_='desc').span.text).group(1))\n",
    "total_count_fantasy = int(''.join(total_count_fantasy.split(',')))\n",
    "total_count_fantasy"
   ]
  },
  {
   "cell_type": "markdown",
   "metadata": {},
   "source": [
    "Adventure"
   ]
  },
  {
   "cell_type": "code",
   "execution_count": 27,
   "metadata": {},
   "outputs": [
    {
     "data": {
      "text/plain": [
       "275020"
      ]
     },
     "execution_count": 27,
     "metadata": {},
     "output_type": "execute_result"
    }
   ],
   "source": [
    "total_count_adventure = str(re.search('of (.+?) titles', html_soup_adventure.find('div', class_='desc').span.text).group(1))\n",
    "total_count_adventure = int(''.join(total_count_adventure.split(',')))\n",
    "total_count_adventure"
   ]
  },
  {
   "cell_type": "markdown",
   "metadata": {},
   "source": [
    "#### Sample data and processing"
   ]
  },
  {
   "cell_type": "markdown",
   "metadata": {},
   "source": [
    "##### Movie/Show Name"
   ]
  },
  {
   "cell_type": "code",
   "execution_count": 28,
   "metadata": {},
   "outputs": [
    {
     "data": {
      "text/plain": [
       "\"Schitt's Creek\""
      ]
     },
     "execution_count": 28,
     "metadata": {},
     "output_type": "execute_result"
    }
   ],
   "source": [
    "name = cards[0].h3.a.text #name\n",
    "name"
   ]
  },
  {
   "cell_type": "markdown",
   "metadata": {},
   "source": [
    "##### Movie/Show Year(s)\n",
    "\n",
    "Reformatting scraped string to remove brackets"
   ]
  },
  {
   "cell_type": "code",
   "execution_count": 29,
   "metadata": {},
   "outputs": [
    {
     "data": {
      "text/plain": [
       "'(2015–2020)'"
      ]
     },
     "execution_count": 29,
     "metadata": {},
     "output_type": "execute_result"
    }
   ],
   "source": [
    "years = cards[0].h3.find('span', class_='lister-item-year text-muted unbold').text #year\n",
    "years"
   ]
  },
  {
   "cell_type": "code",
   "execution_count": 30,
   "metadata": {},
   "outputs": [
    {
     "data": {
      "text/plain": [
       "'2015–2020'"
      ]
     },
     "execution_count": 30,
     "metadata": {},
     "output_type": "execute_result"
    }
   ],
   "source": [
    "# Remove brackets\n",
    "years = re.sub('\\(|\\)|', '', years)\n",
    "years"
   ]
  },
  {
   "cell_type": "code",
   "execution_count": 31,
   "metadata": {},
   "outputs": [
    {
     "data": {
      "text/plain": [
       "'2015 - 2020'"
      ]
     },
     "execution_count": 31,
     "metadata": {},
     "output_type": "execute_result"
    }
   ],
   "source": [
    "years = ' - '.join(years.split('–'))\n",
    "years"
   ]
  },
  {
   "cell_type": "markdown",
   "metadata": {},
   "source": [
    "##### Runtime\n",
    "\n",
    "Extract the numerical part (i.e., duration in minutes) from the text"
   ]
  },
  {
   "cell_type": "code",
   "execution_count": 32,
   "metadata": {},
   "outputs": [
    {
     "data": {
      "text/plain": [
       "'22 min'"
      ]
     },
     "execution_count": 32,
     "metadata": {},
     "output_type": "execute_result"
    }
   ],
   "source": [
    "run_time = cards[0].p.find('span', class_='runtime').text #runtime\n",
    "run_time"
   ]
  },
  {
   "cell_type": "code",
   "execution_count": 33,
   "metadata": {},
   "outputs": [
    {
     "data": {
      "text/plain": [
       "22"
      ]
     },
     "execution_count": 33,
     "metadata": {},
     "output_type": "execute_result"
    }
   ],
   "source": [
    "run_time = int(run_time.split(' ')[0])\n",
    "run_time"
   ]
  },
  {
   "cell_type": "markdown",
   "metadata": {},
   "source": [
    "##### Genres"
   ]
  },
  {
   "cell_type": "code",
   "execution_count": 34,
   "metadata": {},
   "outputs": [
    {
     "data": {
      "text/plain": [
       "'\\nAction, Comedy, Crime            '"
      ]
     },
     "execution_count": 34,
     "metadata": {},
     "output_type": "execute_result"
    }
   ],
   "source": [
    "genre_list = str(cards[1].p.find('span', class_='genre').text)\n",
    "genre_list"
   ]
  },
  {
   "cell_type": "code",
   "execution_count": 35,
   "metadata": {},
   "outputs": [
    {
     "data": {
      "text/plain": [
       "'Action,Comedy,Crime'"
      ]
     },
     "execution_count": 35,
     "metadata": {},
     "output_type": "execute_result"
    }
   ],
   "source": [
    "genre_list = re.sub('\\s+', '', genre_list)\n",
    "genre_list"
   ]
  },
  {
   "cell_type": "markdown",
   "metadata": {},
   "source": [
    "##### Ratings\n",
    "\n",
    "Extracting data value from the nested div"
   ]
  },
  {
   "cell_type": "code",
   "execution_count": 36,
   "metadata": {},
   "outputs": [
    {
     "data": {
      "text/plain": [
       "<div class=\"inline-block ratings-imdb-rating\" data-value=\"8.5\" name=\"ir\">\n",
       "<span class=\"global-sprite rating-star imdb-rating\"></span>\n",
       "<strong>8.5</strong>\n",
       "</div>"
      ]
     },
     "execution_count": 36,
     "metadata": {},
     "output_type": "execute_result"
    }
   ],
   "source": [
    "movie_rating = cards[0].find('div', attrs = {'name':'ir'}) #ratings\n",
    "movie_rating"
   ]
  },
  {
   "cell_type": "code",
   "execution_count": 37,
   "metadata": {},
   "outputs": [
    {
     "data": {
      "text/plain": [
       "'8.5'"
      ]
     },
     "execution_count": 37,
     "metadata": {},
     "output_type": "execute_result"
    }
   ],
   "source": [
    "movie_rating['data-value']"
   ]
  },
  {
   "cell_type": "code",
   "execution_count": 38,
   "metadata": {},
   "outputs": [
    {
     "data": {
      "text/plain": [
       "8.5"
      ]
     },
     "execution_count": 38,
     "metadata": {},
     "output_type": "execute_result"
    }
   ],
   "source": [
    "movie_rating = float(movie_rating['data-value'])\n",
    "movie_rating"
   ]
  },
  {
   "cell_type": "markdown",
   "metadata": {},
   "source": [
    "##### Description\n",
    "\n",
    "Remove unwanted tab spaces and new line characters from the text"
   ]
  },
  {
   "cell_type": "code",
   "execution_count": 39,
   "metadata": {},
   "outputs": [
    {
     "data": {
      "text/plain": [
       "\"\\n    When rich video-store magnate Johnny Rose and his family suddenly find themselves broke, they are forced to leave their pampered lives to regroup in Schitt's Creek.\""
      ]
     },
     "execution_count": 39,
     "metadata": {},
     "output_type": "execute_result"
    }
   ],
   "source": [
    "description_text = cards[0].find_all('p', class_='text-muted')[1].text # description\n",
    "description_text"
   ]
  },
  {
   "cell_type": "code",
   "execution_count": 40,
   "metadata": {},
   "outputs": [
    {
     "data": {
      "text/plain": [
       "\" When rich video-store magnate Johnny Rose and his family suddenly find themselves broke, they are forced to leave their pampered lives to regroup in Schitt's Creek.\""
      ]
     },
     "execution_count": 40,
     "metadata": {},
     "output_type": "execute_result"
    }
   ],
   "source": [
    "description_text = re.sub('\\s+', ' ', description_text)\n",
    "description_text"
   ]
  },
  {
   "cell_type": "markdown",
   "metadata": {},
   "source": [
    "##### Actors\n",
    "\n",
    "Extract all the actors names from parsed html"
   ]
  },
  {
   "cell_type": "code",
   "execution_count": 41,
   "metadata": {},
   "outputs": [
    {
     "data": {
      "text/plain": [
       "[<a href=\"/name/nm0506405/\">Eugene Levy</a>,\n",
       " <a href=\"/name/nm0001573/\">Catherine O'Hara</a>,\n",
       " <a href=\"/name/nm2391794/\">Dan Levy</a>,\n",
       " <a href=\"/name/nm2251884/\">Annie Murphy</a>]"
      ]
     },
     "execution_count": 41,
     "metadata": {},
     "output_type": "execute_result"
    }
   ],
   "source": [
    "all_actors = cards[0].find('p', class_='').find_all('a') # actors\n",
    "all_actors"
   ]
  },
  {
   "cell_type": "code",
   "execution_count": 42,
   "metadata": {},
   "outputs": [
    {
     "name": "stdout",
     "output_type": "stream",
     "text": [
      "Eugene Levy\n",
      "Catherine O'Hara\n",
      "Dan Levy\n",
      "Annie Murphy\n"
     ]
    }
   ],
   "source": [
    "for each_actor in all_actors:\n",
    "    print(each_actor.text)"
   ]
  },
  {
   "cell_type": "markdown",
   "metadata": {},
   "source": [
    "##### Votes\n",
    "\n",
    "Get total number of votes casted for a movie"
   ]
  },
  {
   "cell_type": "code",
   "execution_count": 43,
   "metadata": {},
   "outputs": [
    {
     "data": {
      "text/plain": [
       "<span data-value=\"54764\" name=\"nv\">54,764</span>"
      ]
     },
     "execution_count": 43,
     "metadata": {},
     "output_type": "execute_result"
    }
   ],
   "source": [
    "user_votes = cards[0].find('span', attrs = {'name':'nv'}) \n",
    "user_votes"
   ]
  },
  {
   "cell_type": "code",
   "execution_count": 44,
   "metadata": {},
   "outputs": [
    {
     "data": {
      "text/plain": [
       "54764"
      ]
     },
     "execution_count": 44,
     "metadata": {},
     "output_type": "execute_result"
    }
   ],
   "source": [
    "user_votes = int(user_votes['data-value'])\n",
    "user_votes"
   ]
  },
  {
   "cell_type": "markdown",
   "metadata": {},
   "source": [
    "#### Function to get data from a single page (Top 51)"
   ]
  },
  {
   "cell_type": "code",
   "execution_count": 45,
   "metadata": {},
   "outputs": [],
   "source": [
    "def movieData(movie_list):\n",
    "    for each_movie in movie_list:\n",
    "        \n",
    "        # Movie or show name\n",
    "        movie_show_name.append(each_movie.h3.a.text)\n",
    "        \n",
    "        # Movie or show years\n",
    "        years = each_movie.h3.find('span', class_='lister-item-year text-muted unbold').text\n",
    "        years = re.sub('\\(|\\)', '', years)\n",
    "        years = ' - '.join(years.split('–'))\n",
    "        years = re.sub('[A-Za-z]+', '', years) # Removes any alphabets\n",
    "        year.append(years)\n",
    "        \n",
    "        # Runtime\n",
    "        if each_movie.p.find('span', class_='runtime'):\n",
    "            run_time = each_movie.p.find('span', class_='runtime').text\n",
    "            run_time = int(''.join(run_time.split(',')).split(' ')[0])\n",
    "            runtime.append(run_time) \n",
    "        else:\n",
    "            runtime.append(\"Not available\")\n",
    "        \n",
    "        # Genres\n",
    "        genre_list = str(each_movie.p.find('span', class_='genre').text)\n",
    "        genre_list = re.sub('\\s+', '', genre_list)\n",
    "        genre.append(genre_list)\n",
    "        \n",
    "        # Rating\n",
    "        if each_movie.find('div', attrs = {'name':'ir'}):\n",
    "            movie_rating = each_movie.find('div', attrs = {'name':'ir'})\n",
    "            movie_rating = float(movie_rating['data-value'])\n",
    "            rating.append(movie_rating)\n",
    "        else:\n",
    "            rating.append(0.0)\n",
    "        \n",
    "        # Description\n",
    "        description_text = each_movie.find_all('p', class_='text-muted')[1].text\n",
    "        description_text = re.sub('\\s+', ' ', description_text)\n",
    "        description.append(description_text)\n",
    "        \n",
    "        # Directors and Actors \n",
    "        directors_or_actors = re.sub('\\s+', ' ', str(each_movie.find_all('p', class_='')))\n",
    "        \n",
    "        # Director name is available\n",
    "        if re.search(\"Director:|Directors:\", directors_or_actors):\n",
    "            \n",
    "            try:\n",
    "                movie_directors = BeautifulSoup(re.search(\"Director(.+?)</span>\", directors_or_actors).group(1)).find_all('a')\n",
    "                \n",
    "                director_list = []\n",
    "                # If more than one directors are available\n",
    "                for each_director in movie_directors:\n",
    "                    director_list.append(each_director.text)\n",
    "\n",
    "                directors.append(', '.join(director_list))\n",
    "                \n",
    "            except:\n",
    "                directors.append('Not Available')         \n",
    "        else:\n",
    "            directors.append(\"Data Unavailable\")\n",
    "        \n",
    "        # Actor names is available\n",
    "        if re.search(\"Stars:(.+?)\", directors_or_actors):\n",
    "            movie_stars = BeautifulSoup(re.search(\"Stars:(.+?)</p>\", directors_or_actors).group(1)).find_all('a')\n",
    "            \n",
    "            actor_list = []\n",
    "            for each_actor in movie_stars:\n",
    "                actor_list.append(each_actor.text)\n",
    "            actors.append(', '.join(actor_list))\n",
    "        else:\n",
    "            actors.append(\"Data Unavailable\")                                    \n",
    "                                    \n",
    "        # Votes\n",
    "        user_votes = each_movie.find('span', attrs = {'name':'nv'})\n",
    "        if user_votes:\n",
    "            votes.append(int(user_votes['data-value']))\n",
    "        else:\n",
    "            votes.append(0)"
   ]
  },
  {
   "cell_type": "markdown",
   "metadata": {},
   "source": [
    "### Fetching Data from Webpage"
   ]
  },
  {
   "cell_type": "markdown",
   "metadata": {},
   "source": [
    "#### Data from Comedy section"
   ]
  },
  {
   "cell_type": "code",
   "execution_count": 46,
   "metadata": {},
   "outputs": [],
   "source": [
    "page_num = 1"
   ]
  },
  {
   "cell_type": "code",
   "execution_count": null,
   "metadata": {
    "scrolled": false
   },
   "outputs": [],
   "source": [
    "while page_num < total_titles:\n",
    "    url = 'https://www.imdb.com/search/title/?genres=comedy&start='+ str(page_num) + '&ref_=adv_nxt'\n",
    "    html_soup = BeautifulSoup(requests.get(url).text, 'html.parser')\n",
    "    cards = html_soup.find_all('div', class_='lister-item-content') \n",
    "    movieData(cards)\n",
    "    page_num += 50"
   ]
  },
  {
   "cell_type": "markdown",
   "metadata": {},
   "source": [
    "#### Data from Sci-Fi section"
   ]
  },
  {
   "cell_type": "code",
   "execution_count": 48,
   "metadata": {},
   "outputs": [],
   "source": [
    "page_num = 1"
   ]
  },
  {
   "cell_type": "code",
   "execution_count": null,
   "metadata": {},
   "outputs": [],
   "source": [
    "while page_num < total_count_sci_fi:\n",
    "    url = 'https://www.imdb.com/search/title/?genres=sci-fi&start='+ str(page_num) + '&ref_=adv_nxt'\n",
    "    html_soup = BeautifulSoup(requests.get(url).text, 'html.parser')\n",
    "    cards = html_soup.find_all('div', class_='lister-item-content') \n",
    "    movieData(cards)\n",
    "    page_num += 50\n",
    "    print(page_num)"
   ]
  },
  {
   "cell_type": "markdown",
   "metadata": {},
   "source": [
    "#### Data from Horror section"
   ]
  },
  {
   "cell_type": "code",
   "execution_count": 49,
   "metadata": {},
   "outputs": [],
   "source": [
    "page_num = 1"
   ]
  },
  {
   "cell_type": "code",
   "execution_count": null,
   "metadata": {
    "scrolled": false
   },
   "outputs": [],
   "source": [
    "while page_num < total_count_horror:\n",
    "    url = 'https://www.imdb.com/search/title/?genres=horror&start='+ str(page_num) + '&ref_=adv_nxt'\n",
    "    html_soup = BeautifulSoup(requests.get(url).text, 'html.parser')\n",
    "    cards = html_soup.find_all('div', class_='lister-item-content') \n",
    "    movieData(cards)\n",
    "    page_num += 50"
   ]
  },
  {
   "cell_type": "markdown",
   "metadata": {},
   "source": [
    "#### Data from Romance section"
   ]
  },
  {
   "cell_type": "code",
   "execution_count": 50,
   "metadata": {},
   "outputs": [],
   "source": [
    "page_num = 1"
   ]
  },
  {
   "cell_type": "code",
   "execution_count": null,
   "metadata": {},
   "outputs": [],
   "source": [
    "while page_num < total_count_romance:\n",
    "    url = 'https://www.imdb.com/search/title/?genres=romance&start='+ str(page_num) + '&ref_=adv_nxt'\n",
    "    html_soup = BeautifulSoup(requests.get(url).text, 'html.parser')\n",
    "    cards = html_soup.find_all('div', class_='lister-item-content') \n",
    "    movieData(cards)\n",
    "    page_num += 50\n",
    "    print(page_num)"
   ]
  },
  {
   "cell_type": "markdown",
   "metadata": {},
   "source": [
    "#### Data from Action section"
   ]
  },
  {
   "cell_type": "code",
   "execution_count": 51,
   "metadata": {},
   "outputs": [],
   "source": [
    "page_num = 1"
   ]
  },
  {
   "cell_type": "code",
   "execution_count": null,
   "metadata": {},
   "outputs": [],
   "source": [
    "while page_num < total_count_action:\n",
    "    url = 'https://www.imdb.com/search/title/?genres=action&start='+ str(page_num) + '&ref_=adv_nxt'\n",
    "    html_soup = BeautifulSoup(requests.get(url).text, 'html.parser')\n",
    "    cards = html_soup.find_all('div', class_='lister-item-content') \n",
    "    movieData(cards)\n",
    "    page_num += 50\n",
    "    print(page_num)"
   ]
  },
  {
   "cell_type": "markdown",
   "metadata": {},
   "source": [
    "#### Data from Thriller section"
   ]
  },
  {
   "cell_type": "code",
   "execution_count": 52,
   "metadata": {},
   "outputs": [],
   "source": [
    "page_num = 1"
   ]
  },
  {
   "cell_type": "code",
   "execution_count": null,
   "metadata": {},
   "outputs": [],
   "source": [
    "while page_num < total_count_thriller:\n",
    "    url = 'https://www.imdb.com/search/title/?genres=thriller&start='+ str(page_num) + '&ref_=adv_nxt'\n",
    "    html_soup = BeautifulSoup(requests.get(url).text, 'html.parser')\n",
    "    cards = html_soup.find_all('div', class_='lister-item-content') \n",
    "    movieData(cards)\n",
    "    page_num += 50\n",
    "    print(page_num)"
   ]
  },
  {
   "cell_type": "markdown",
   "metadata": {},
   "source": [
    "#### Data from Drama section"
   ]
  },
  {
   "cell_type": "code",
   "execution_count": 53,
   "metadata": {},
   "outputs": [],
   "source": [
    "page_num = 1"
   ]
  },
  {
   "cell_type": "code",
   "execution_count": null,
   "metadata": {},
   "outputs": [],
   "source": [
    "while page_num < total_count_drama:\n",
    "    url = 'https://www.imdb.com/search/title/?genres=drama&start='+ str(page_num) + '&ref_=adv_nxt'\n",
    "    html_soup = BeautifulSoup(requests.get(url).text, 'html.parser')\n",
    "    cards = html_soup.find_all('div', class_='lister-item-content') \n",
    "    movieData(cards)\n",
    "    page_num += 50\n",
    "    print(page_num)"
   ]
  },
  {
   "cell_type": "markdown",
   "metadata": {},
   "source": [
    "#### Data from Mystery section"
   ]
  },
  {
   "cell_type": "code",
   "execution_count": 54,
   "metadata": {},
   "outputs": [],
   "source": [
    "page_num = 1"
   ]
  },
  {
   "cell_type": "code",
   "execution_count": null,
   "metadata": {},
   "outputs": [],
   "source": [
    "while page_num < total_count_mystery:\n",
    "    url = 'https://www.imdb.com/search/title/?genres=mystery&start='+ str(page_num) + '&ref_=adv_nxt'\n",
    "    html_soup = BeautifulSoup(requests.get(url).text, 'html.parser')\n",
    "    cards = html_soup.find_all('div', class_='lister-item-content') \n",
    "    movieData(cards)\n",
    "    page_num += 50\n",
    "    print(page_num)"
   ]
  },
  {
   "cell_type": "markdown",
   "metadata": {},
   "source": [
    "#### Data from Crime section"
   ]
  },
  {
   "cell_type": "code",
   "execution_count": 55,
   "metadata": {},
   "outputs": [],
   "source": [
    "page_num = 1"
   ]
  },
  {
   "cell_type": "code",
   "execution_count": null,
   "metadata": {},
   "outputs": [],
   "source": [
    "while page_num < total_count_crime:\n",
    "    url = 'https://www.imdb.com/search/title/?genres=crime&start='+ str(page_num) + '&ref_=adv_nxt'\n",
    "    html_soup = BeautifulSoup(requests.get(url).text, 'html.parser')\n",
    "    cards = html_soup.find_all('div', class_='lister-item-content') \n",
    "    movieData(cards)\n",
    "    page_num += 50\n",
    "    print(page_num)"
   ]
  },
  {
   "cell_type": "markdown",
   "metadata": {},
   "source": [
    "#### Data from Fantasy section"
   ]
  },
  {
   "cell_type": "code",
   "execution_count": 56,
   "metadata": {},
   "outputs": [],
   "source": [
    "page_num = 1"
   ]
  },
  {
   "cell_type": "code",
   "execution_count": null,
   "metadata": {},
   "outputs": [],
   "source": [
    "while page_num < total_count_fantasy:\n",
    "    url = 'https://www.imdb.com/search/title/?genres=fantasy&start='+ str(page_num) + '&ref_=adv_nxt'\n",
    "    html_soup = BeautifulSoup(requests.get(url).text, 'html.parser')\n",
    "    cards = html_soup.find_all('div', class_='lister-item-content') \n",
    "    movieData(cards)\n",
    "    page_num += 50\n",
    "    print(page_num)"
   ]
  },
  {
   "cell_type": "markdown",
   "metadata": {},
   "source": [
    "#### Data from Adventure section"
   ]
  },
  {
   "cell_type": "code",
   "execution_count": 57,
   "metadata": {},
   "outputs": [],
   "source": [
    "page_num = 1"
   ]
  },
  {
   "cell_type": "code",
   "execution_count": null,
   "metadata": {},
   "outputs": [],
   "source": [
    "while page_num < total_count_adventure:\n",
    "    url = 'https://www.imdb.com/search/title/?genres=adventure&start='+ str(page_num) + '&ref_=adv_nxt'\n",
    "    html_soup = BeautifulSoup(requests.get(url).text, 'html.parser')\n",
    "    cards = html_soup.find_all('div', class_='lister-item-content') \n",
    "    movieData(cards)\n",
    "    page_num += 50\n",
    "    print(page_num)"
   ]
  },
  {
   "cell_type": "markdown",
   "metadata": {},
   "source": [
    "### Make a Dataframe"
   ]
  },
  {
   "cell_type": "code",
   "execution_count": 58,
   "metadata": {},
   "outputs": [],
   "source": [
    "data = pd.DataFrame({\n",
    "    'name': movie_show_name,\n",
    "    'year': year,\n",
    "    'duration_in_minutes': runtime,\n",
    "    'genres': genre,\n",
    "    'rating': rating,\n",
    "    'description': description,\n",
    "    'directors': directors,\n",
    "    'starred_by': actors,\n",
    "    'votes': votes\n",
    "})"
   ]
  },
  {
   "cell_type": "markdown",
   "metadata": {},
   "source": [
    "### Store data into CSV file"
   ]
  },
  {
   "cell_type": "code",
   "execution_count": 59,
   "metadata": {},
   "outputs": [],
   "source": [
    "data.to_csv('Movies.csv', index=False, encoding='utf-8-sig')"
   ]
  },
  {
   "cell_type": "markdown",
   "metadata": {},
   "source": [
    "<center>Prepared by J.Haripriya</center>"
   ]
  }
 ],
 "metadata": {
  "kernelspec": {
   "display_name": "Python 3",
   "language": "python",
   "name": "python3"
  },
  "language_info": {
   "codemirror_mode": {
    "name": "ipython",
    "version": 3
   },
   "file_extension": ".py",
   "mimetype": "text/x-python",
   "name": "python",
   "nbconvert_exporter": "python",
   "pygments_lexer": "ipython3",
   "version": "3.7.7"
  }
 },
 "nbformat": 4,
 "nbformat_minor": 4
}
